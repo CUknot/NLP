{
  "cells": [
    {
      "cell_type": "markdown",
      "metadata": {
        "id": "view-in-github",
        "colab_type": "text"
      },
      "source": [
        "<a href=\"https://colab.research.google.com/github/CUknot/NLP/blob/main/HW7_beam_seach_to_student.ipynb\" target=\"_parent\"><img src=\"https://colab.research.google.com/assets/colab-badge.svg\" alt=\"Open In Colab\"/></a>"
      ]
    },
    {
      "cell_type": "markdown",
      "source": [
        "# HW7: Beam Search Decoding - News Headline Generation"
      ],
      "metadata": {
        "id": "pDRbfJqgPfdr"
      },
      "id": "pDRbfJqgPfdr"
    },
    {
      "cell_type": "markdown",
      "source": [
        "In this exercise, you are going to learn and implement decoding techniques for sequence generation. Usually, the sequence is generated word-by-word from a model. In each step, the model predicted the most likely word based on the predicted words in previous steps (this is called auto-regressive decoding).\n",
        "\n",
        "As such, it is very important how you decide on what to predicted at each step, as it will be conditioned on to predicted all of the following steps. We will implement two of main decoding techniques introduced in the lecture: **Greedy Decoding** and **Beam Search Decoding**. Greedy Decoding immediately chooses the word with best score at each step, while Beam Search Decoding focuses on the sequence that give the best score overall.\n",
        "\n",
        "To complete this exercise, you will need to complete the methods for decoding for a text generation model trained on [New York Times Comments and Headlines dataset](https://www.kaggle.com/aashita/nyt-comments). The model is trained to predict a headline for the news given seed text. You do not need to train any model model in this exercise as we provide both the pretrained model and dictionary.\n"
      ],
      "metadata": {
        "id": "fSDxXAqSPeBB"
      },
      "id": "fSDxXAqSPeBB"
    },
    {
      "cell_type": "markdown",
      "source": [
        "## Download model and vocab and setup"
      ],
      "metadata": {
        "id": "YFlSAvCfiZXf"
      },
      "id": "YFlSAvCfiZXf"
    },
    {
      "cell_type": "code",
      "source": [
        "!wget -O vocab.txt https://www.dropbox.com/s/ht12ua9vpkep6l8/hw9_vocab.txt?dl=0\n",
        "!wget -O model.bin https://www.dropbox.com/s/okmri7cnd729rr5/hw9_model.bin?dl=0"
      ],
      "metadata": {
        "id": "q5gRmwtdiYjp",
        "colab": {
          "base_uri": "https://localhost:8080/"
        },
        "outputId": "d57bfd56-f161-4758-efdb-500055c3e028"
      },
      "id": "q5gRmwtdiYjp",
      "execution_count": null,
      "outputs": [
        {
          "output_type": "stream",
          "name": "stdout",
          "text": [
            "--2025-02-22 08:55:26--  https://www.dropbox.com/s/ht12ua9vpkep6l8/hw9_vocab.txt?dl=0\n",
            "Resolving www.dropbox.com (www.dropbox.com)... 162.125.66.18, 2620:100:6035:18::a27d:5512\n",
            "Connecting to www.dropbox.com (www.dropbox.com)|162.125.66.18|:443... connected.\n",
            "HTTP request sent, awaiting response... 302 Found\n",
            "Location: https://www.dropbox.com/scl/fi/zlkw3il9cj4c121vtrrxh/hw9_vocab.txt?rlkey=m5gflik1lhvpenwydd3gfwvp7&dl=0 [following]\n",
            "--2025-02-22 08:55:27--  https://www.dropbox.com/scl/fi/zlkw3il9cj4c121vtrrxh/hw9_vocab.txt?rlkey=m5gflik1lhvpenwydd3gfwvp7&dl=0\n",
            "Reusing existing connection to www.dropbox.com:443.\n",
            "HTTP request sent, awaiting response... 302 Found\n",
            "Location: https://uc436af178cef1d8c4b7b3325d0a.dl.dropboxusercontent.com/cd/0/inline/CkkCFfs2sJqbYwIBRoIJkzcBLDilIBleQ7YkbB3W5G0bs7ZuCQkVG60Sf-sf1Bg-VwF5l7uvrTZjAazmQ2RIgH0kwbeg80iJX_hEkc-IMSZr_fHhoZW6MIzh8lC7GVGTCOUuKtlkxjGFVa5mFC_kF2bc/file# [following]\n",
            "--2025-02-22 08:55:28--  https://uc436af178cef1d8c4b7b3325d0a.dl.dropboxusercontent.com/cd/0/inline/CkkCFfs2sJqbYwIBRoIJkzcBLDilIBleQ7YkbB3W5G0bs7ZuCQkVG60Sf-sf1Bg-VwF5l7uvrTZjAazmQ2RIgH0kwbeg80iJX_hEkc-IMSZr_fHhoZW6MIzh8lC7GVGTCOUuKtlkxjGFVa5mFC_kF2bc/file\n",
            "Resolving uc436af178cef1d8c4b7b3325d0a.dl.dropboxusercontent.com (uc436af178cef1d8c4b7b3325d0a.dl.dropboxusercontent.com)... 162.125.66.15, 2620:100:6035:15::a27d:550f\n",
            "Connecting to uc436af178cef1d8c4b7b3325d0a.dl.dropboxusercontent.com (uc436af178cef1d8c4b7b3325d0a.dl.dropboxusercontent.com)|162.125.66.15|:443... connected.\n",
            "HTTP request sent, awaiting response... 200 OK\n",
            "Length: 78729 (77K) [text/plain]\n",
            "Saving to: ‘vocab.txt’\n",
            "\n",
            "vocab.txt           100%[===================>]  76.88K   164KB/s    in 0.5s    \n",
            "\n",
            "2025-02-22 08:55:30 (164 KB/s) - ‘vocab.txt’ saved [78729/78729]\n",
            "\n",
            "--2025-02-22 08:55:30--  https://www.dropbox.com/s/okmri7cnd729rr5/hw9_model.bin?dl=0\n",
            "Resolving www.dropbox.com (www.dropbox.com)... 162.125.66.18, 2620:100:6035:18::a27d:5512\n",
            "Connecting to www.dropbox.com (www.dropbox.com)|162.125.66.18|:443... connected.\n",
            "HTTP request sent, awaiting response... 302 Found\n",
            "Location: https://www.dropbox.com/scl/fi/es8o6240q6qogbulewk2s/hw9_model.bin?rlkey=r4rjl9zuwwg72g7ws5mecv47r&dl=0 [following]\n",
            "--2025-02-22 08:55:31--  https://www.dropbox.com/scl/fi/es8o6240q6qogbulewk2s/hw9_model.bin?rlkey=r4rjl9zuwwg72g7ws5mecv47r&dl=0\n",
            "Reusing existing connection to www.dropbox.com:443.\n",
            "HTTP request sent, awaiting response... 302 Found\n",
            "Location: https://uc72ad932cc354114256f78fae84.dl.dropboxusercontent.com/cd/0/inline/CkmE1mmg0H8G-kKPLHczkr8dmGdNF9N-eLzv-rM64WF1c6tRtrRHNfOsWgk5Exd_DwFC8RwkAOKbQcrPjhLCJkq4tL0gqvoIOuicvcJgAvqYhsUMAakFJF6gIy3cAhER75vkjmpLM8FCoLvTshuYOzt3/file# [following]\n",
            "--2025-02-22 08:55:31--  https://uc72ad932cc354114256f78fae84.dl.dropboxusercontent.com/cd/0/inline/CkmE1mmg0H8G-kKPLHczkr8dmGdNF9N-eLzv-rM64WF1c6tRtrRHNfOsWgk5Exd_DwFC8RwkAOKbQcrPjhLCJkq4tL0gqvoIOuicvcJgAvqYhsUMAakFJF6gIy3cAhER75vkjmpLM8FCoLvTshuYOzt3/file\n",
            "Resolving uc72ad932cc354114256f78fae84.dl.dropboxusercontent.com (uc72ad932cc354114256f78fae84.dl.dropboxusercontent.com)... 162.125.66.15, 2620:100:6035:15::a27d:550f\n",
            "Connecting to uc72ad932cc354114256f78fae84.dl.dropboxusercontent.com (uc72ad932cc354114256f78fae84.dl.dropboxusercontent.com)|162.125.66.15|:443... connected.\n",
            "HTTP request sent, awaiting response... 302 Found\n",
            "Location: /cd/0/inline2/Ckm3hUL0YXDTFWL98S9oJ8ROOJG9y-BALNSlC21ruBZsETxLR0EqfWC2yMvgllUYJkaKqVBebxJ-trSXSLhAhArcUHtVpshFav-zaeG4kbtXkx0s3lgJCEq390qt5KdGI7KCTTLGfFcmiwJTszkLw8Bf7HPUbzfLEqKruQIySWyyPMsqAqMiRzRW0J7eaydXEgGHf1ZtyKzuUE3KFR0KrVMTBRjCSsSBjmcYbNfa7qLSW73a57sxIsWy8dS5qJBu0OustFR4pOkXDvT0TpPqDrcRdtyfiV7Cg8qGZYnjDau1lbd3zAGbVvO3RlNAuYMGcmCrs-exLl3LCNP52TjvIeNFokmCvJnru0bOvKMQ_P3i5-TVIFEohNPPAkEBpMCnfO4/file [following]\n",
            "--2025-02-22 08:55:33--  https://uc72ad932cc354114256f78fae84.dl.dropboxusercontent.com/cd/0/inline2/Ckm3hUL0YXDTFWL98S9oJ8ROOJG9y-BALNSlC21ruBZsETxLR0EqfWC2yMvgllUYJkaKqVBebxJ-trSXSLhAhArcUHtVpshFav-zaeG4kbtXkx0s3lgJCEq390qt5KdGI7KCTTLGfFcmiwJTszkLw8Bf7HPUbzfLEqKruQIySWyyPMsqAqMiRzRW0J7eaydXEgGHf1ZtyKzuUE3KFR0KrVMTBRjCSsSBjmcYbNfa7qLSW73a57sxIsWy8dS5qJBu0OustFR4pOkXDvT0TpPqDrcRdtyfiV7Cg8qGZYnjDau1lbd3zAGbVvO3RlNAuYMGcmCrs-exLl3LCNP52TjvIeNFokmCvJnru0bOvKMQ_P3i5-TVIFEohNPPAkEBpMCnfO4/file\n",
            "Reusing existing connection to uc72ad932cc354114256f78fae84.dl.dropboxusercontent.com:443.\n",
            "HTTP request sent, awaiting response... 200 OK\n",
            "Length: 8690974 (8.3M) [application/octet-stream]\n",
            "Saving to: ‘model.bin’\n",
            "\n",
            "model.bin           100%[===================>]   8.29M  4.48MB/s    in 1.9s    \n",
            "\n",
            "2025-02-22 08:55:35 (4.48 MB/s) - ‘model.bin’ saved [8690974/8690974]\n",
            "\n"
          ]
        }
      ]
    },
    {
      "cell_type": "code",
      "source": [
        "import torch\n",
        "import torch.nn as nn\n",
        "from tokenizers import Tokenizer\n",
        "from tokenizers.models import WordLevel\n",
        "from tokenizers.pre_tokenizers import Whitespace"
      ],
      "metadata": {
        "id": "i9ITxmo5i-s6"
      },
      "id": "i9ITxmo5i-s6",
      "execution_count": null,
      "outputs": []
    },
    {
      "cell_type": "code",
      "source": [
        "class RNNmodel(nn.Module):\n",
        "    def __init__(self, vocab_size, embedding_dim, dropout_rate):\n",
        "\n",
        "        super().__init__()\n",
        "        self.embedding_dim = embedding_dim\n",
        "\n",
        "        self.embedding = nn.Embedding(vocab_size, embedding_dim)\n",
        "        self.rnn = nn.LSTM(embedding_dim, 128, num_layers=2,\n",
        "                     batch_first=True)\n",
        "        self.dropout = nn.Dropout(dropout_rate)\n",
        "        self.fc2 = nn.Linear(128, vocab_size)\n",
        "\n",
        "    def forward(self, src):\n",
        "        embedding = self.embedding(src)\n",
        "        output,_ = self.rnn(embedding)\n",
        "        output = self.dropout(output)\n",
        "        prediction = self.fc2(output)\n",
        "        return prediction"
      ],
      "metadata": {
        "id": "VcDZCYkEi0b4"
      },
      "id": "VcDZCYkEi0b4",
      "execution_count": null,
      "outputs": []
    },
    {
      "cell_type": "code",
      "source": [
        "with open(\"vocab.txt\") as f:\n",
        "  vocab_file = f.readlines()\n",
        "embedding_dim = 64\n",
        "dropout_rate = 0.2\n",
        "\n",
        "model = RNNmodel(len(vocab_file), embedding_dim, dropout_rate)\n",
        "model.load_state_dict(torch.load(\"model.bin\",map_location='cpu'))\n",
        "model.eval()"
      ],
      "metadata": {
        "id": "6bZt9R0JjL8l",
        "colab": {
          "base_uri": "https://localhost:8080/"
        },
        "outputId": "e19f61e3-7aa3-41b3-b2b6-7cbc868cbce6"
      },
      "id": "6bZt9R0JjL8l",
      "execution_count": null,
      "outputs": [
        {
          "output_type": "stream",
          "name": "stderr",
          "text": [
            "<ipython-input-7-e56f35018f72>:7: FutureWarning: You are using `torch.load` with `weights_only=False` (the current default value), which uses the default pickle module implicitly. It is possible to construct malicious pickle data which will execute arbitrary code during unpickling (See https://github.com/pytorch/pytorch/blob/main/SECURITY.md#untrusted-models for more details). In a future release, the default value for `weights_only` will be flipped to `True`. This limits the functions that could be executed during unpickling. Arbitrary objects will no longer be allowed to be loaded via this mode unless they are explicitly allowlisted by the user via `torch.serialization.add_safe_globals`. We recommend you start setting `weights_only=True` for any use case where you don't have full control of the loaded file. Please open an issue on GitHub for any issues related to this experimental feature.\n",
            "  model.load_state_dict(torch.load(\"model.bin\",map_location='cpu'))\n"
          ]
        },
        {
          "output_type": "execute_result",
          "data": {
            "text/plain": [
              "RNNmodel(\n",
              "  (embedding): Embedding(10054, 64)\n",
              "  (rnn): LSTM(64, 128, num_layers=2, batch_first=True)\n",
              "  (dropout): Dropout(p=0.2, inplace=False)\n",
              "  (fc2): Linear(in_features=128, out_features=10054, bias=True)\n",
              ")"
            ]
          },
          "metadata": {},
          "execution_count": 7
        }
      ]
    },
    {
      "cell_type": "code",
      "source": [
        "vocab = [v.strip() for v in vocab_file]\n",
        "vocab_size = len(vocab)\n",
        "print(f\"Vocab Size: {vocab_size}\")\n",
        "vocab[:10]"
      ],
      "metadata": {
        "id": "mOEWXsXzjpn6",
        "colab": {
          "base_uri": "https://localhost:8080/"
        },
        "outputId": "fd891528-e8c1-4a02-cd10-4e3f7a506e4c"
      },
      "id": "mOEWXsXzjpn6",
      "execution_count": null,
      "outputs": [
        {
          "output_type": "stream",
          "name": "stdout",
          "text": [
            "Vocab Size: 10054\n"
          ]
        },
        {
          "output_type": "execute_result",
          "data": {
            "text/plain": [
              "['<unk>', '<pad>', '<eos>', 'the', 'a', 'to', 'of', 's', 'in', 'for']"
            ]
          },
          "metadata": {},
          "execution_count": 8
        }
      ]
    },
    {
      "cell_type": "code",
      "source": [
        "stoi = { ch:i for i,ch in enumerate(vocab) }\n",
        "tokenizer = Tokenizer(WordLevel(stoi, unk_token=\"<unk>\"))\n",
        "tokenizer.pre_tokenizer = Whitespace()\n",
        "tokenized_text = tokenizer.encode(\"the a of to unknowns\")\n",
        "print(tokenized_text)\n",
        "print(tokenized_text.ids)\n",
        "print(tokenized_text.tokens)\n",
        "print(tokenizer.decode(tokenized_text.ids))"
      ],
      "metadata": {
        "id": "sem3jbjoF_d8",
        "colab": {
          "base_uri": "https://localhost:8080/"
        },
        "outputId": "d46279bc-bf28-4327-a2e0-666ed517d1f2"
      },
      "id": "sem3jbjoF_d8",
      "execution_count": null,
      "outputs": [
        {
          "output_type": "stream",
          "name": "stdout",
          "text": [
            "Encoding(num_tokens=5, attributes=[ids, type_ids, tokens, offsets, attention_mask, special_tokens_mask, overflowing])\n",
            "[3, 4, 6, 5, 0]\n",
            "['the', 'a', 'of', 'to', '<unk>']\n",
            "the a of to <unk>\n"
          ]
        }
      ]
    },
    {
      "cell_type": "markdown",
      "source": [
        "## 1. TODO: Greedy decode\n",
        "Normally, in sequence generation task, the model will continue generating tokens until an end-of-sequence symbol appear or the maximum length is reached. For this task:\n",
        "- The end-of-sequence symbol is \"< eos >\" and its index is 2\n",
        "- Use the maximum generation length of 15"
      ],
      "metadata": {
        "id": "rSt1yuR19co-"
      },
      "id": "rSt1yuR19co-"
    },
    {
      "cell_type": "code",
      "source": [
        "eos_token = '<eos>'\n",
        "max_gen_length = 15"
      ],
      "metadata": {
        "id": "oUCajb2BvKnN"
      },
      "id": "oUCajb2BvKnN",
      "execution_count": null,
      "outputs": []
    },
    {
      "cell_type": "code",
      "execution_count": null,
      "id": "e6638613",
      "metadata": {
        "id": "e6638613"
      },
      "outputs": [],
      "source": [
        "import torch.nn.functional as F\n",
        "def greedy_decode(seed_text, tokenizer):\n",
        "    \"\"\"Greedy decodes with seed text.\n",
        "\n",
        "        Args:\n",
        "        seed_text: The seed string to be used as initial input to the model.\n",
        "        tokenizer: The tokenizer for converting word to index and back.\n",
        "\n",
        "        Your code should do the followings:\n",
        "          1. Convert current_text to sequences of indices\n",
        "          2. Predict the next token using the model and choose the token with the highest score as output\n",
        "          3. Append the predicted index to current_text\n",
        "          4. Loop until completion\n",
        "          5. Return text prediction and a list of probabilities of each step\n",
        "\n",
        "        You do not need to stop early when end-of-sequence token is generated and can continue decoding\n",
        "        until max_gen_length is reached. We can filter the eos token out later.\n",
        "    \"\"\"\n",
        "    probs = []\n",
        "    token_ids = tokenizer.encode(seed_text).ids\n",
        "    current_text = torch.tensor([token_ids]).long()\n",
        "\n",
        "    with torch.no_grad():\n",
        "        for _ in range(max_gen_length):\n",
        "            logits = model(current_text)\n",
        "            prob = F.softmax(logits[0, -1], dim=-1)\n",
        "            pred_token_id = torch.argmax(prob).item()\n",
        "            token_ids.append(pred_token_id)\n",
        "            current_text = torch.tensor([token_ids]).long()\n",
        "            probs.append(prob[pred_token_id].item())\n",
        "\n",
        "    return token_ids, probs"
      ]
    },
    {
      "cell_type": "code",
      "execution_count": null,
      "id": "9f78f6c8",
      "metadata": {
        "id": "9f78f6c8"
      },
      "outputs": [],
      "source": [
        "def clean_output(text, eos_token):\n",
        "    \"\"\"Drop eos_token and every word that follows\"\"\"\n",
        "    words = text.split(\" \")\n",
        "    return words.index(eos_token) if eos_token in words else len(words)"
      ]
    },
    {
      "cell_type": "code",
      "execution_count": null,
      "id": "bdd42c8a",
      "metadata": {
        "id": "bdd42c8a",
        "colab": {
          "base_uri": "https://localhost:8080/"
        },
        "outputId": "027ca07b-e496-4f0c-8097-b04824d3a8e9"
      },
      "outputs": [
        {
          "output_type": "stream",
          "name": "stdout",
          "text": [
            "output text: to encourage creativity in the new york bill\n",
            "probs: [0.04071049019694328, 0.26613035798072815, 0.2581591308116913, 0.23116429150104523, 0.07794304192066193, 0.06977992504835129, 0.2244517058134079]\n",
            "output text: america s lethal export\n",
            "probs: [0.449653685092926, 0.046399783343076706, 0.7206941843032837]\n",
            "output text: people to balloon to make a criminal with a dog with a callous rival\n",
            "probs: [0.3584842383861542, 0.0394657626748085, 0.2695293426513672, 0.033772896975278854, 0.28156647086143494, 0.03089667297899723, 0.32625508308410645, 0.3224399983882904, 0.03489116579294205, 0.22298352420330048, 0.5808276534080505, 0.04674506559967995, 0.26616597175598145]\n",
            "output text: next phenom english clubs 2 call another deal in the same arrivals\n",
            "probs: [0.1724235862493515, 0.23235656321048737, 0.7396264672279358, 0.07888385653495789, 0.04404296353459358, 0.05769333988428116, 0.03296951204538345, 0.33040061593055725, 0.6040366291999817, 0.03174585849046707, 0.07468772679567337]\n",
            "output text: picture perfect chapter a spot of view of banning care\n",
            "probs: [0.25000011920928955, 0.017607450485229492, 0.025983283296227455, 0.05381900817155838, 0.3106650114059448, 0.04046901687979698, 0.24898779392242432, 0.04575807601213455, 0.08654440194368362]\n",
            "output text: on the catwalk in saudi arabia\n",
            "probs: [0.3077561855316162, 0.02204967476427555, 0.24775102734565735, 0.18319852650165558, 0.769554853439331]\n"
          ]
        }
      ],
      "source": [
        "sample_seeds = [\"to\", \"america\", \"people\", \"next\", \"picture\", \"on\"]\n",
        "for seed in sample_seeds:\n",
        "    output_tokenID, probs = greedy_decode(seed, tokenizer)\n",
        "    output_text = tokenizer.decode(output_tokenID)\n",
        "    idx = clean_output(output_text, eos_token)\n",
        "    output_text = ' '.join(output_text.split(' ')[:idx])\n",
        "    probs = probs[:idx-1]\n",
        "    print(f\"output text: {output_text}\")\n",
        "    print(f\"probs: {probs}\")"
      ]
    },
    {
      "cell_type": "markdown",
      "source": [
        "Your output should be:\n",
        "\n",
        "*   to encourage creativity in the new york bill\n",
        "*   america s lethal export\n",
        "*   people to balloon to make a criminal with a dog with a callous rival\n",
        "*   next phenom english clubs 2 call another deal in the same arrivals\n",
        "*   picture perfect chapter a spot of view of banning care  \n",
        "*   on the catwalk in saudi arabia\n",
        "\n",
        "\n",
        "\n",
        "\n",
        "\n"
      ],
      "metadata": {
        "id": "h99jCVvjUvFT"
      },
      "id": "h99jCVvjUvFT"
    },
    {
      "cell_type": "markdown",
      "id": "7553f608",
      "metadata": {
        "id": "7553f608"
      },
      "source": [
        "## 2. TODO: Beam search decode\n",
        "\n",
        "Another well-known decoding method is beam search decoding that focuses more on the overall sequence score.\n",
        "\n",
        "Instead of greedily choosing the token with the highest score for each step, beam search decoding expands all possible next tokens and keeps the __k__ most likely sequence at each step, where __k__ is a user-specified beam size. A sequence score is also calculated according user-specified cal_score() function.\n",
        "The beam with the highest score after the decoding process is done will be the output."
      ]
    },
    {
      "cell_type": "markdown",
      "source": [
        "There are a few things that you need to know before implementing a beam search decoder:\n",
        "- When the eos token is produced, you can stop expanding that beam\n",
        "- However, the ended beams must be sorted together with active beams\n",
        "- The decoding ends when every beams are either ended or reached the maximum length, but for this task, you can continue decoding until the max_gen_len is reached\n",
        "- We usually work with probability in log scale to avoid numerical underflow. You should use np.log(score) before any calculation\n",
        "- **As probabilities for some classes will be very small, you must add a very small value to the score before taking log e.g np.log(prob + 0.00000001)**"
      ],
      "metadata": {
        "id": "8kArvA-6xLmQ"
      },
      "id": "8kArvA-6xLmQ"
    },
    {
      "cell_type": "markdown",
      "source": [
        "#### Sequence Score\n",
        "The naive way to calculate the sequence score is to __multiply every token scores__ together. However, doing so will make the decoder prefer shorter sequence as you multiply the sequence score with a value between \\[0,1\\] for every tokens in the sequence. Thus, we usually normalize the sequence score with its length by calculating its __geometric mean__ instead.\n",
        "\n",
        "**You should do this in log scale**"
      ],
      "metadata": {
        "id": "MQRZftUYxcCU"
      },
      "id": "MQRZftUYxcCU"
    },
    {
      "cell_type": "code",
      "execution_count": null,
      "id": "d76c6f52",
      "metadata": {
        "id": "d76c6f52"
      },
      "outputs": [],
      "source": [
        "import numpy as np\n",
        "def cal_score(score_list, length, normalized=False): #cal score for each beam from a list of probs\n",
        "    total_log_score = np.sum([np.log(i + 1e-8) for i in score_list])\n",
        "    if normalized:\n",
        "        return total_log_score / length\n",
        "    else:\n",
        "        return total_log_score"
      ]
    },
    {
      "cell_type": "code",
      "execution_count": null,
      "id": "bb1dd75a",
      "metadata": {
        "id": "bb1dd75a"
      },
      "outputs": [],
      "source": [
        "def beam_search_decode(seed_text, max_gen_len, tokenizer, beam_size=5, normalized=False):\n",
        "    \"\"\"We will do beam search decoing using seed text in this function.\n",
        "\n",
        "    Output:\n",
        "    beams: A list of top k beams after the decoding ended, each beam is a list of\n",
        "      [seed_text, list of scores, length]\n",
        "\n",
        "    Your code should do the followings:\n",
        "    1.Loop until max_gen_len is reached.\n",
        "    2.During each step, loop thorugh each beam and use it to predict the next word.\n",
        "      If a beam is already ended, continues without expanding.\n",
        "    3.Sort all hypotheses according to cal_score().\n",
        "    4.Keep top k hypotheses to be used at the next step.\n",
        "    \"\"\"\n",
        "    # For each beam we will store (generated text, list of scores, and current length, is_finished)\n",
        "    seed_ids = torch.tensor(tokenizer.encode(seed_text).ids).unsqueeze(0).long()\n",
        "    beams = [(seed_ids, [], 0, False)]  # (token_ids, score_list, length, is_finished)\n",
        "\n",
        "    for _ in range(max_gen_len):\n",
        "        new_beams = []\n",
        "\n",
        "        for token_ids, score_list, length, is_finished in beams:\n",
        "            if is_finished:\n",
        "                new_beams.append((token_ids, score_list, length, is_finished))\n",
        "                continue\n",
        "\n",
        "            logits = model(token_ids)\n",
        "            probabilities = F.softmax(logits[0, -1], dim=-1)  # Get probability for the last token\n",
        "\n",
        "            for next_token_id, next_token_prob in enumerate(probabilities):\n",
        "                new_token_ids = torch.cat((token_ids, torch.tensor([[next_token_id]])), dim=1)\n",
        "                new_length = length + 1\n",
        "                new_finished = next_token_id == stoi[eos_token]\n",
        "                new_score = score_list + [next_token_prob.item()]\n",
        "\n",
        "                new_beams.append((new_token_ids, new_score, new_length, new_finished))\n",
        "\n",
        "        # Keep top-k beams based on calculated scores\n",
        "        new_beams.sort(key=lambda x: cal_score(x[1], x[2], normalized), reverse=True)\n",
        "        beams = new_beams[:beam_size]\n",
        "\n",
        "    return beams"
      ]
    },
    {
      "cell_type": "markdown",
      "source": [
        "## 3. Generate!\n",
        "Generate 6 sentences based on the given seed texts.\n",
        "\n",
        "Decode with the provided seed texts with beam_size 5, max_gen_len 10. Compare the results between greedy, normalized, and unnormalized decoding.\n",
        "\n",
        "Print the result using greedy decoding and top 2 results each using unnormalized and normalized decoing for each seed text.\n",
        "\n",
        "Also, print scores of each candidate according to cal_score(). Use normalization for greedy decoding."
      ],
      "metadata": {
        "id": "i_eqGDA09zqk"
      },
      "id": "i_eqGDA09zqk"
    },
    {
      "cell_type": "code",
      "source": [
        "def gen_greedy(seed):\n",
        "  print(\"-Greedy-\")\n",
        "  output_tokenID, probs = greedy_decode(seed, tokenizer)\n",
        "  output_text = tokenizer.decode(output_tokenID)\n",
        "  idx = clean_output(output_text, eos_token)\n",
        "  output_text = ' '.join(output_text.split(' ')[:idx])\n",
        "  probs = probs[:idx-1]\n",
        "\n",
        "  score = cal_score(probs, len(probs), normalized=True)\n",
        "  print(f\"{output_text}  {round(np.exp(score), 2): .2f}\")"
      ],
      "metadata": {
        "id": "BGqZrCpQAe5b"
      },
      "id": "BGqZrCpQAe5b",
      "execution_count": null,
      "outputs": []
    },
    {
      "cell_type": "code",
      "source": [
        "def gen_beam_True(seed):\n",
        "    print(\"-Normalized-\")\n",
        "    beams = beam_search_decode(seed, max_gen_length, tokenizer, beam_size=5, normalized=True)\n",
        "    for beam in beams[:2]:\n",
        "      output_tokenID, probs, length, _ = beam\n",
        "      output_text = tokenizer.decode(output_tokenID.squeeze(0).tolist())\n",
        "      idx = clean_output(output_text, eos_token)\n",
        "      output_text = ' '.join(output_text.split(' ')[:idx])\n",
        "      probs = probs[:idx-1]\n",
        "\n",
        "      score = cal_score(probs, len(probs), normalized=True)\n",
        "      print(f\"{output_text}  {round(np.exp(score), 2): .2f}\")"
      ],
      "metadata": {
        "id": "qCmPLOf6Agwj"
      },
      "id": "qCmPLOf6Agwj",
      "execution_count": null,
      "outputs": []
    },
    {
      "cell_type": "code",
      "source": [
        "def gen_beam_False(seed):\n",
        "    print(\"-Unnormalized-\")\n",
        "    beams = beam_search_decode(seed, max_gen_length, tokenizer, beam_size=5, normalized=False)\n",
        "    for beam in beams[:2]:\n",
        "      output_tokenID, probs, length, _ = beam\n",
        "      output_text = tokenizer.decode(output_tokenID.squeeze(0).tolist())\n",
        "      idx = clean_output(output_text, eos_token)\n",
        "      output_text = ' '.join(output_text.split(' ')[:idx])\n",
        "      probs = probs[:idx-1]\n",
        "\n",
        "      score = cal_score(probs, len(probs), normalized=False)\n",
        "      print(f\"{output_text}  {round(np.exp(score), 2): .2f}\")"
      ],
      "metadata": {
        "id": "FwztDPELEYUX"
      },
      "id": "FwztDPELEYUX",
      "execution_count": null,
      "outputs": []
    },
    {
      "cell_type": "code",
      "execution_count": null,
      "id": "d40a3cb0",
      "metadata": {
        "id": "d40a3cb0",
        "colab": {
          "base_uri": "https://localhost:8080/"
        },
        "outputId": "c5d4a252-61d7-427f-e2e3-19681d7624d6"
      },
      "outputs": [
        {
          "output_type": "stream",
          "name": "stdout",
          "text": [
            "-Greedy-\n",
            "to encourage creativity in the new york bill   0.13\n",
            "-Unnormalized-\n",
            "to consult exploring recipes for new jersey   0.00\n",
            "to consult exploring recipes up the pacific northwest   0.00\n",
            "-Normalized-\n",
            "to consult exploring recipes up the pacific northwest   0.17\n",
            "to consult exploring recipes up the least of the week   0.16\n",
            "\n",
            "-Greedy-\n",
            "america s lethal export   0.25\n",
            "-Unnormalized-\n",
            "america s lethal export   0.02\n",
            "america s desert aisles   0.01\n",
            "-Normalized-\n",
            "america s lethal export   0.25\n",
            "america s desert aisles   0.20\n",
            "\n",
            "-Greedy-\n",
            "people to balloon to make a criminal with a dog with a callous rival   0.14\n",
            "-Unnormalized-\n",
            "people to balloon for a criminal   0.00\n",
            "people to balloon for a criminal with trump   0.00\n",
            "-Normalized-\n",
            "people to balloon for a criminal with a second fiddle   0.13\n",
            "people to balloon for a criminal with trump   0.13\n",
            "\n",
            "-Greedy-\n",
            "next phenom english clubs 2 call another deal in the same arrivals   0.12\n",
            "-Unnormalized-\n",
            "next s blist revue   0.00\n",
            "next phenom english clubs 1 a chance to be back   0.00\n",
            "-Normalized-\n",
            "next s blist revue   0.14\n",
            "next phenom english clubs 1 a chance to be back   0.14\n",
            "\n",
            "-Greedy-\n",
            "picture perfect chapter a spot of view of banning care   0.08\n",
            "-Unnormalized-\n",
            "picture perfect use coffee   0.00\n",
            "picture korean a bonanza of pancakes   0.00\n",
            "-Normalized-\n",
            "picture korean a bonanza of contemplation times of trump s son   0.12\n",
            "picture korean a bonanza of contemplation times of trump s prime directive   0.11\n",
            "\n",
            "-Greedy-\n",
            "on the catwalk in saudi arabia   0.19\n",
            "-Unnormalized-\n",
            "on the billboard chart   0.00\n",
            "on the catwalk in saudi arabia   0.00\n",
            "-Normalized-\n",
            "on the whole30 diet vowing to eat smarter carbs to be insufficient   0.25\n",
            "on the whole30 diet vowing to eat smarter carbs for because you want   0.23\n",
            "\n"
          ]
        }
      ],
      "source": [
        "sample_seeds = [\"to\", \"america\", \"people\", \"next\", \"picture\", \"on\"]\n",
        "max_gen_len=10\n",
        "for seed in sample_seeds:\n",
        "  gen_greedy(seed)\n",
        "  gen_beam_False(seed)\n",
        "  gen_beam_True(seed)\n",
        "  print()"
      ]
    },
    {
      "cell_type": "markdown",
      "source": [
        "Your output should be:\n",
        "\n",
        "\n",
        "```\n",
        "-Greedy-\n",
        "to encourage creativity in the new york bill  0.13\n",
        "-Unnormalized-\n",
        "To Consult Exploring Recipes For New Jersey 0.00\n",
        "To Consult Exploring Recipes Up The Pacific Northwest 0.00\n",
        "-Normalized-\n",
        "To Consult Exploring Recipes Up The Pacific Northwest 0.17\n",
        "To Consult Exploring Recipes Up The Least Of The Week 0.16\n",
        "\n",
        "-Greedy-\n",
        "america s lethal export  0.25\n",
        "-Unnormalized-\n",
        "America S Lethal Export 0.02\n",
        "America S Desert Aisles 0.01\n",
        "-Normalized-\n",
        "America S Lethal Export 0.25\n",
        "America S Desert Aisles 0.20\n",
        "\n",
        "-Greedy-\n",
        "people to balloon to make a criminal with a dog with a callous rival  0.14\n",
        "-Unnormalized-\n",
        "People To Balloon For A Criminal 0.00\n",
        "People To Balloon For A Criminal With Trump 0.00\n",
        "-Normalized-\n",
        "People To Balloon For A Criminal With A Second Fiddle 0.13\n",
        "People To Balloon For A Criminal With Trump 0.13\n",
        "\n",
        "-Greedy-\n",
        "next phenom english clubs 2 call another deal in the same arrivals  0.12\n",
        "-Unnormalized-\n",
        "Next S Blist Revue 0.00\n",
        "Next Phenom English Clubs 1 A Chance To Be Back 0.00\n",
        "-Normalized-\n",
        "Next S Blist Revue 0.14\n",
        "Next Phenom English Clubs 1 A Chance To Be Back 0.14\n",
        "\n",
        "-Greedy-\n",
        "picture perfect chapter a spot of view of banning care  0.08\n",
        "-Unnormalized-\n",
        "Picture Perfect Use Coffee 0.00\n",
        "Picture Korean A Bonanza Of Pancakes 0.00\n",
        "-Normalized-\n",
        "Picture Korean A Bonanza Of Contemplation Times Of Trump S Son 0.12\n",
        "Picture Korean A Bonanza Of Pancakes 0.07\n",
        "\n",
        "-Greedy-\n",
        "on the catwalk in saudi arabia  0.19\n",
        "-Unnormalized-\n",
        "On The Billboard Chart 0.00\n",
        "On The Catwalk In Saudi Arabia 0.00\n",
        "-Normalized-\n",
        "On The Whole30 Diet Vowing To Eat Smarter Carbs To Be 0.27\n",
        "On The Whole30 Diet Vowing To Eat Smarter Carbs For Because 0.26\n",
        "\n",
        "```\n",
        "\n"
      ],
      "metadata": {
        "id": "icfu6pOzWUSt"
      },
      "id": "icfu6pOzWUSt"
    },
    {
      "cell_type": "markdown",
      "source": [
        "# Answer Questions in MyCourseVille!\n",
        "\n",
        "Use the seed word \"usa\" to answer questions in MCV."
      ],
      "metadata": {
        "id": "tquJVskBeM9m"
      },
      "id": "tquJVskBeM9m"
    },
    {
      "cell_type": "code",
      "source": [
        "max_gen_len=10\n",
        "gen_greedy(\"usa\")\n",
        "gen_beam_False(\"usa\")\n",
        "gen_beam_True(\"usa\")"
      ],
      "metadata": {
        "colab": {
          "base_uri": "https://localhost:8080/"
        },
        "id": "izypA413Do4S",
        "outputId": "762ceb19-66f8-4428-ce72-21af32a21079"
      },
      "id": "izypA413Do4S",
      "execution_count": null,
      "outputs": [
        {
          "output_type": "stream",
          "name": "stdout",
          "text": [
            "-Greedy-\n",
            "usa s duty to investigate   0.09\n",
            "-Unnormalized-\n",
            "usa s duty to investigate   0.00\n",
            "usa s bleak season 3 episode 4 recap chicken   0.00\n",
            "-Normalized-\n",
            "usa s bleak season 1 episode 2 darkness descends   0.19\n",
            "usa s bleak season 3 episode 4 recap a seduction   0.18\n"
          ]
        }
      ]
    }
  ],
  "metadata": {
    "kernelspec": {
      "display_name": "Python 3",
      "name": "python3"
    },
    "language_info": {
      "codemirror_mode": {
        "name": "ipython",
        "version": 3
      },
      "file_extension": ".py",
      "mimetype": "text/x-python",
      "name": "python",
      "nbconvert_exporter": "python",
      "pygments_lexer": "ipython3",
      "version": "3.7.11"
    },
    "colab": {
      "provenance": [],
      "gpuType": "T4",
      "include_colab_link": true
    },
    "accelerator": "GPU"
  },
  "nbformat": 4,
  "nbformat_minor": 5
}