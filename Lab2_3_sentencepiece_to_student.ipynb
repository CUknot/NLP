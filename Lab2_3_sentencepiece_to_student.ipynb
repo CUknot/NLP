{
  "cells": [
    {
      "cell_type": "markdown",
      "metadata": {
        "id": "view-in-github",
        "colab_type": "text"
      },
      "source": [
        "<a href=\"https://colab.research.google.com/github/CUknot/NLP/blob/main/Lab2_3_sentencepiece_to_student.ipynb\" target=\"_parent\"><img src=\"https://colab.research.google.com/assets/colab-badge.svg\" alt=\"Open In Colab\"/></a>"
      ]
    },
    {
      "cell_type": "markdown",
      "metadata": {
        "id": "iU5fRQwhEdJy"
      },
      "source": [
        "# Subword Tokenization\n",
        "\n",
        "In this exercise, we will learn how to train our own subword tokenizers with different algorithms: BPE and Unigram. We will use `sentencepiece`, a library from Google to help create our tokenizers.\n",
        "\n",
        "## Ref:\n",
        "https://github.com/google/sentencepiece/blob/master/python"
      ]
    },
    {
      "cell_type": "code",
      "source": [
        "from google.colab import drive\n",
        "drive.mount('/content/drive')"
      ],
      "metadata": {
        "id": "ZzQZ-u7n1YPZ"
      },
      "execution_count": null,
      "outputs": []
    },
    {
      "cell_type": "markdown",
      "metadata": {
        "id": "pI9gRZlUE80g"
      },
      "source": [
        "## Setup"
      ]
    },
    {
      "cell_type": "code",
      "execution_count": null,
      "metadata": {
        "id": "1pOsV-jaW975",
        "colab": {
          "base_uri": "https://localhost:8080/"
        },
        "outputId": "1f0ddb89-a189-40cc-cf36-de2af89a04c8"
      },
      "outputs": [
        {
          "output_type": "stream",
          "name": "stdout",
          "text": [
            "--2025-01-18 08:59:51--  https://github.com/Knight-H/thai-lm/raw/refs/heads/master/data/pra-apai-manee-ch1-50.txt\n",
            "Resolving github.com (github.com)... 20.205.243.166\n",
            "Connecting to github.com (github.com)|20.205.243.166|:443... connected.\n",
            "HTTP request sent, awaiting response... 302 Found\n",
            "Location: https://raw.githubusercontent.com/Knight-H/thai-lm/refs/heads/master/data/pra-apai-manee-ch1-50.txt [following]\n",
            "--2025-01-18 08:59:52--  https://raw.githubusercontent.com/Knight-H/thai-lm/refs/heads/master/data/pra-apai-manee-ch1-50.txt\n",
            "Resolving raw.githubusercontent.com (raw.githubusercontent.com)... 185.199.108.133, 185.199.109.133, 185.199.110.133, ...\n",
            "Connecting to raw.githubusercontent.com (raw.githubusercontent.com)|185.199.108.133|:443... connected.\n",
            "HTTP request sent, awaiting response... 200 OK\n",
            "Length: 3231076 (3.1M) [application/octet-stream]\n",
            "Saving to: ‘pra-apai-manee-ch1-50.txt’\n",
            "\n",
            "pra-apai-manee-ch1- 100%[===================>]   3.08M  --.-KB/s    in 0.03s   \n",
            "\n",
            "2025-01-18 08:59:53 (107 MB/s) - ‘pra-apai-manee-ch1-50.txt’ saved [3231076/3231076]\n",
            "\n",
            "--2025-01-18 08:59:53--  https://github.com/Knight-H/thai-lm/raw/refs/heads/master/data/kratoo-40000000-40002000.jsonl\n",
            "Resolving github.com (github.com)... 20.205.243.166\n",
            "Connecting to github.com (github.com)|20.205.243.166|:443... connected.\n",
            "HTTP request sent, awaiting response... 302 Found\n",
            "Location: https://raw.githubusercontent.com/Knight-H/thai-lm/refs/heads/master/data/kratoo-40000000-40002000.jsonl [following]\n",
            "--2025-01-18 08:59:54--  https://raw.githubusercontent.com/Knight-H/thai-lm/refs/heads/master/data/kratoo-40000000-40002000.jsonl\n",
            "Resolving raw.githubusercontent.com (raw.githubusercontent.com)... 185.199.111.133, 185.199.109.133, 185.199.108.133, ...\n",
            "Connecting to raw.githubusercontent.com (raw.githubusercontent.com)|185.199.111.133|:443... connected.\n",
            "HTTP request sent, awaiting response... 200 OK\n",
            "Length: 2968483 (2.8M) [text/plain]\n",
            "Saving to: ‘kratoo-40000000-40002000.jsonl’\n",
            "\n",
            "kratoo-40000000-400 100%[===================>]   2.83M  --.-KB/s    in 0.04s   \n",
            "\n",
            "2025-01-18 08:59:54 (76.0 MB/s) - ‘kratoo-40000000-40002000.jsonl’ saved [2968483/2968483]\n",
            "\n"
          ]
        }
      ],
      "source": [
        "!wget https://github.com/Knight-H/thai-lm/raw/refs/heads/master/data/pra-apai-manee-ch1-50.txt\n",
        "!wget https://github.com/Knight-H/thai-lm/raw/refs/heads/master/data/kratoo-40000000-40002000.jsonl"
      ]
    },
    {
      "cell_type": "markdown",
      "metadata": {
        "id": "CSiDpG9WE-cT"
      },
      "source": [
        "## Code"
      ]
    },
    {
      "cell_type": "code",
      "execution_count": null,
      "metadata": {
        "id": "OQd7M6gLWPLN"
      },
      "outputs": [],
      "source": [
        "import sentencepiece as spm\n",
        "import io\n",
        "import json"
      ]
    },
    {
      "cell_type": "markdown",
      "metadata": {
        "id": "OifbmMIstzs8"
      },
      "source": [
        "Load data"
      ]
    },
    {
      "cell_type": "code",
      "execution_count": null,
      "metadata": {
        "id": "-FnIDvb1lMuh",
        "colab": {
          "base_uri": "https://localhost:8080/"
        },
        "outputId": "c7a667f7-709e-4c71-c70a-e7ac16000341"
      },
      "outputs": [
        {
          "output_type": "execute_result",
          "data": {
            "text/plain": [
              "1060318"
            ]
          },
          "metadata": {},
          "execution_count": 3
        }
      ],
      "source": [
        "pantip_text = []\n",
        "with open('kratoo-40000000-40002000.jsonl', 'r') as json_file:\n",
        "    json_list = list(json_file)\n",
        "    for json_str in json_list:\n",
        "        result = json.loads(json_str)\n",
        "        pantip_text.append(f\"{result['title']}\\n{result['content']}\\n\")\n",
        "sum([len(t) for t in pantip_text])"
      ]
    },
    {
      "cell_type": "code",
      "execution_count": null,
      "metadata": {
        "id": "yaaQVXZ8A0j1"
      },
      "outputs": [],
      "source": [
        "with open(\"pra-apai-manee-ch1-50.txt\") as f:\n",
        "  pra_apai_manee_data = f.readlines()"
      ]
    },
    {
      "cell_type": "code",
      "execution_count": null,
      "metadata": {
        "id": "LksJKc9MA5F_",
        "colab": {
          "base_uri": "https://localhost:8080/"
        },
        "outputId": "e15fb6bc-a50f-4544-ef66-a84a0c25919d"
      },
      "outputs": [
        {
          "output_type": "execute_result",
          "data": {
            "text/plain": [
              "1100605"
            ]
          },
          "metadata": {},
          "execution_count": 5
        }
      ],
      "source": [
        "sum([len(t) for t in pra_apai_manee_data])"
      ]
    },
    {
      "cell_type": "code",
      "execution_count": null,
      "metadata": {
        "id": "RbdfkF-vAoie"
      },
      "outputs": [],
      "source": [
        "pantip_train_text = pantip_text[:int(len(pantip_text)*0.8)]\n",
        "pantip_test_text = pantip_text[int(len(pantip_text)*0.8):]\n",
        "\n",
        "pam_train_text = pra_apai_manee_data[:int(len(pra_apai_manee_data)*0.8)] #pam = pra_apai_manee\n",
        "pam_test_text = pra_apai_manee_data[int(len(pra_apai_manee_data)*0.8):]"
      ]
    },
    {
      "cell_type": "markdown",
      "metadata": {
        "id": "BhwcH0Aot1XI"
      },
      "source": [
        "## Run tokenizer training\n",
        "\n",
        "The Python wrapper provides multiple APIs for training our tokenizers\n",
        "\n",
        "1. `spm.SentencePieceTrainer.train(input='input.txt', model_prefix='m', vocab_size=vocab_size, model_type=model_type)`\n",
        "  <br> This will output the tokenizer files `m.model` and `m.vocab` that can be later loaded into `SentencePieceProcessor`.\n",
        "  <br><br>\n",
        "2. `spm.SentencePieceTrainer.train(sentence_iterator=iterator, model_writer=obj_with_write_method, vocab_size=vocab_size, model_type=model_type)`\n",
        "  <br> This method will require a file object e.g. `obj_with_write_method = io.BytesIO()`. The advantage of this method is you can run sentencepiece on environments that have limited access to the local file system. But you will still have to save the model file if you want to re-use the model else you will have to train it again.\n",
        "<br><br>\n",
        "3.  `spm.SentencePieceTrainer.train('--input=input.txt --model_prefix=m --vocab_size=vocab_size --model_type=model_type')`\n",
        "<br> Same as no.1\n",
        "\n",
        "\n"
      ]
    },
    {
      "cell_type": "markdown",
      "metadata": {
        "id": "c3XeFFYw-T_0"
      },
      "source": [
        "### Unigram tokenizer\n",
        "\n",
        "We are going to start with training a unigram tokenizer. You can use any method of training one. Make sure to set vocab_size to 1000."
      ]
    },
    {
      "cell_type": "code",
      "execution_count": null,
      "metadata": {
        "id": "bFCfHphd15g9"
      },
      "outputs": [],
      "source": [
        "## Train\n",
        "# Save training data to files\n",
        "with open(\"pantip_train.txt\", \"w\", encoding=\"utf-8\") as f:\n",
        "    f.write(\"\\n\".join(pantip_train_text))\n",
        "\n",
        "with open(\"pam_train.txt\", \"w\", encoding=\"utf-8\") as f:\n",
        "    f.write(\"\\n\".join(pam_train_text))\n",
        "\n",
        "# Train tokenizer on pantip_train_text\n",
        "spm.SentencePieceTrainer.train(\n",
        "    input=\"pantip_train.txt\",\n",
        "    model_prefix=\"pantip_unigram\",\n",
        "    vocab_size=1000,\n",
        "    model_type=\"unigram\"\n",
        ")\n",
        "\n",
        "# Train tokenizer on pam_train_text\n",
        "spm.SentencePieceTrainer.train(\n",
        "    input=\"pam_train.txt\",\n",
        "    model_prefix=\"pam_unigram\",\n",
        "    vocab_size=1000,\n",
        "    model_type=\"unigram\"\n",
        ")"
      ]
    },
    {
      "cell_type": "code",
      "source": [
        "# Load the tokenizer\n",
        "pantip_tokenizer_unigram = spm.SentencePieceProcessor(model_file=\"pantip_unigram.model\")\n",
        "pam_tokenizer_unigram = spm.SentencePieceProcessor(model_file=\"pam_unigram.model\")"
      ],
      "metadata": {
        "id": "vWBjqQ3sqsGC"
      },
      "execution_count": null,
      "outputs": []
    },
    {
      "cell_type": "markdown",
      "metadata": {
        "id": "gdXPaoW3_v2T"
      },
      "source": [
        "### Q1 MCV\n",
        "\n",
        "How many tokens did you get when tokenizing the following sentence with your unigram tokenizer: <br>\n",
        "'อรุณสวัสดิ์ ฉันเอามเหสีมาหาม สวัสดี ประเทศไทยสบายดีไหม'"
      ]
    },
    {
      "cell_type": "code",
      "source": [
        "sp_pam = pam_tokenizer_unigram"
      ],
      "metadata": {
        "id": "3RGA_L3FrO0A"
      },
      "execution_count": null,
      "outputs": []
    },
    {
      "cell_type": "code",
      "execution_count": null,
      "metadata": {
        "id": "J1bO3s-z-PLb",
        "colab": {
          "base_uri": "https://localhost:8080/"
        },
        "outputId": "8e2dbecf-e34e-4dad-c499-0e111fb0f9f6"
      },
      "outputs": [
        {
          "output_type": "execute_result",
          "data": {
            "text/plain": [
              "29"
            ]
          },
          "metadata": {},
          "execution_count": 62
        }
      ],
      "source": [
        "len(sp_pam.encode('อรุณสวัสดิ์ ฉันเอามเหสีมาหาม สวัสดี ประเทศไทยสบายดีไหม', out_type=str))"
      ]
    },
    {
      "cell_type": "markdown",
      "metadata": {
        "id": "tKkc1D-hAFxl"
      },
      "source": [
        "### BPE Tokenizer\n",
        "\n",
        "Now try training a BPE tokenizer."
      ]
    },
    {
      "cell_type": "code",
      "execution_count": null,
      "metadata": {
        "id": "AiXj57rh-PIv"
      },
      "outputs": [],
      "source": [
        "# Train tokenizer on pantip_train_text\n",
        "spm.SentencePieceTrainer.train(\n",
        "    input=\"pantip_train.txt\",\n",
        "    model_prefix=\"pantip_unigram\",\n",
        "    vocab_size=1000,\n",
        "    model_type=\"bpe\"\n",
        ")\n",
        "\n",
        "# Train tokenizer on pam_train_text\n",
        "spm.SentencePieceTrainer.train(\n",
        "    input=\"pam_train.txt\",\n",
        "    model_prefix=\"pam_unigram\",\n",
        "    vocab_size=1000,\n",
        "    model_type=\"bpe\"\n",
        ")"
      ]
    },
    {
      "cell_type": "code",
      "source": [
        "# Load the tokenizer\n",
        "pantip_tokenizer_bpe= spm.SentencePieceProcessor(model_file=\"pantip_unigram.model\")\n",
        "pam_tokenizer_bpe = spm.SentencePieceProcessor(model_file=\"pam_unigram.model\")"
      ],
      "metadata": {
        "id": "iPDmPPWZrucu"
      },
      "execution_count": null,
      "outputs": []
    },
    {
      "cell_type": "markdown",
      "metadata": {
        "id": "nrQwGmL5AMXc"
      },
      "source": [
        "### Q2 MCV\n",
        "\n",
        "How many tokens did you get when tokenizing the following sentence with your BPE tokenizer: <br>\n",
        "'อรุณสวัสดิ์ ฉันเอามเหสีมาหาม สวัสดี ประเทศไทยสบายดีไหม'"
      ]
    },
    {
      "cell_type": "code",
      "source": [
        "bpe = pam_tokenizer_bpe"
      ],
      "metadata": {
        "id": "stKVFMuWrhZZ"
      },
      "execution_count": null,
      "outputs": []
    },
    {
      "cell_type": "code",
      "execution_count": null,
      "metadata": {
        "id": "0AXuzyaN-PEr",
        "colab": {
          "base_uri": "https://localhost:8080/"
        },
        "outputId": "17cfec5e-c476-4856-cc07-34b3692ab117"
      },
      "outputs": [
        {
          "output_type": "execute_result",
          "data": {
            "text/plain": [
              "28"
            ]
          },
          "metadata": {},
          "execution_count": 58
        }
      ],
      "source": [
        "len(bpe.encode('อรุณสวัสดิ์ ฉันเอามเหสีมาหาม สวัสดี ประเทศไทยสบายดีไหม', out_type=str))"
      ]
    },
    {
      "cell_type": "markdown",
      "metadata": {
        "id": "rbb6C6-IS_Ly"
      },
      "source": [
        "These are some of your vocabs. Note that you will see \"▁\" (U+2581) in every type of tokenizer in SentencePiece since it makes it possible to perform detokenization \\(unsplit your sentences\\) without relying on language-specific resources."
      ]
    },
    {
      "cell_type": "code",
      "execution_count": null,
      "metadata": {
        "id": "Aa9j6XrTKjyA",
        "colab": {
          "base_uri": "https://localhost:8080/",
          "height": 139
        },
        "outputId": "e59aa53a-6ad7-49de-f24d-cd767dc4eb89"
      },
      "outputs": [
        {
          "output_type": "execute_result",
          "data": {
            "text/plain": [
              "'<unk> | <s> | </s> | ้า | ่า | อง | ระ | ํา | รา | อย | ่ง | มา | จะ | ัง | ัน | ▁เ | าย | ้ว | ับ | ี่ | ม่ | อน | ให | าม | ้น | ็น | พระ | ีย | าง | กล | ้ง | ัก | หน | ให้ | ไม่ | หล | ่น | ึง | ▁แ | ทั | ตร | าร | ้อง | ไป | ิด | ข้า | ว่า | หม | คร | ือ | ล้ว | เป | เส | ประ | าน | ั่ง | ▁๏ | ▁ฯ | ที่ | อก | เล | ิน | ได | พล | ทร | ัด | นาง | ึก | ได้ | ู่ | ▁จะ | ค์ | ี้ | พร | เป็น | สุ | ทั้ง | อม | ัย | เร | ห็น | ▁จ | ▁พระ | ก็ | ใจ | อา | ื่ | ่าง | ต่ | กร | ิง | วง | วน | ือน | เจ | ู้ | ียง | อยู่ | รร | ตาม | ▁พ | ้วย | าว | ถึง | คล | ั้น | รี | เข | ด้วย | สม | องค์ | สน | าก | ▁แล้ว | เช | ัว | ย์ | ใน | คว | น้ | หมือน | ▁ส | ูก | อบ | กระ | เจ้า | ทรง | ลา | กัน | มี | ่าย | พรา | ิ่ง | เข้า | เห็น | ิต | สง | อด | ณ์ | วย | ้ม | คิด | เม | เก | เด | ▁นาง | วา | ุก | ▁ให้ | ดู | หา | ▁อ | ▁จึง | ทํา | ลง | รัก | เค | แล้ว | ่าน | พี่ | เหมือน | ั่น | ความ | ยง | อย่า | หร | มิ | ืน | ช่ | การ | ัญ | ▁ไม่ | ฝ่าย | ศรี | ้าง | วก | ้อม | ือง | น้อง | ยว | พา | แก | กํา | ่อน | ื่น | หน้า | ยา | ดี | ั้ง | ▁ทั้ง | ปรา | คน | เน | หว | รับ | แต่ | ้าย | ัส | เหล | ดา | สํา | นี้ | สาร | กับ | ลูก | ละ | ▁ต | รู้ | ื่อ | ▁ฝ่าย | ึ่ง | ลัง | าด | ื้ | กา | ขึ | นั่ง | เท | ▁เห็น | ฟัง | ้อย | ไร | ขึ้น | เสีย | ▁แต่ | บุ | สา | ไว | ทุก | กลับ | สุด | ัต | ใคร | น้ํา | ชา | ุด | ทัพ | วัน | สอง | นา | หย | ตา | รบ | ▁มา | ่อ | หรือ | ทู | ยัง | รง | จร | ปร | ▁บ | ไว้ | ดัง | วิ | ช่วย | ปล | ออก | ัตร | เพ | สิ | แจ | แล | ็จ | ิย์ | ▁พอ | มาร | ค่ | วรร | หมณ์ | คํา | เขา | นั้น | กษ | เย | ข้าง | หมา | เว | ไพร | หลัง | จิต | พราหมณ์ | ้ํา | ▁ถึง | ขอ | ทูล | สาม | ื้อ | วาย | อภ | ทาง | ▁แม | วัง | โฉ | ่ม | จน | ▁เป | ัตริย์ | ื่อง | สั่ง | แม่ | ▁ช | ฝ้า | โฉม | ราช | ฝร | ▁ถ | ฝรั่ง | ิ์ | ลม | แต | ▁เป็น | หาร | ื้น | เห | ้อน | ตาย | ุ่ง | ตัว | อย่าง | ลี | ผู้ | น้อย | ฉัน | ตรี | กุ | ษา | ุทร | ถาม | ของ | พร้อม | ชี | สร | เอ | ุง | พลาง | ตี | สมุทร | หาย | ที | วรรณ | เลี้ | นึก | จึง | หมาย | ▁ด้วย | ขว | ียน | ศึก | ่อง | ต้อง | ลัย | บา | พิ | อุ | สุวรรณ | โย | เรา | กลาง | เฝ้า | กษัตริย์ | สะ | แท | สัย | แจ้ง | หญ | ▁อย่า | รํา | ตรัส | อภัย | ผล | เลย | ียว | ไหน | ้าว | แน | ิดา | ริ | สาว | ิ้ม | เมือง | เล่า | ขัด | ค่อย | ภา | โอ | ่ํา | มัน | ชม | ห์ | ชาย | ัล | นาย | ▁เจ | เสียง | ยิ่ง | รู | ๋ย | เปล | เอา | ▁เส | คง | ตรา | ห้า | ินสมุทร | คอย | หญิง | หนี | ้าน | ญา | คุ | บรร | ▁ประ | กาย | ทหาร | ▁อัน | สิ้น | ทธ | ทอง | ักษ | ลังกา | นิ | พู | ศ์ | ่ว | จา | ใหญ | ที่ยว | มน | ไล | จริง | ▁เจ้า | จํา | ▁บ้าง | บอก | ▁ต่าง | ติ | ▁เข้า | ไม | ศร | อั | เคย | เลี้ยง | กรา | แสน | ▁จน | จับ | พบ | ครั้น | จง | พวก | สี | ไข | ษฐ | เกล | คา | รม | พัก | พัน | ซึ่ง | หนัก | นี | ่าว | กรุง | กล้ง | ▁เหมือน | ครา | เคร | ท้าว | ใส | ▁พวก | ตั้ง | หลง | ล้วน | ▁ไป | ผี | ลํา | นัก | ร้อง | ▁จง | ทรา | หนา | ▁ก็ | กลัว | ▁ที่ | เคียง | อาย | เรือ | ▁แม้น | เต | แค | ยก | พราะ | ใหญ่ | ▁ครั้น | ▁น | แก้ว | ถือ | ▁ได้ | เหลือ'"
            ],
            "application/vnd.google.colaboratory.intrinsic+json": {
              "type": "string"
            }
          },
          "metadata": {},
          "execution_count": 24
        }
      ],
      "source": [
        "unigram_vocabs = [sp_pam.id_to_piece(id) for id in range(sp_pam.get_piece_size())]\n",
        "\" | \".join(unigram_vocabs[:500])"
      ]
    },
    {
      "cell_type": "code",
      "execution_count": null,
      "metadata": {
        "id": "2TsXA0UqN5LN",
        "colab": {
          "base_uri": "https://localhost:8080/",
          "height": 139
        },
        "outputId": "00f87c36-2057-4bf4-ab0c-4a4506e74f6a"
      },
      "outputs": [
        {
          "output_type": "execute_result",
          "data": {
            "text/plain": [
              "'<unk> | <s> | </s> | ้า | ่า | อง | ระ | ํา | รา | อย | ่ง | มา | จะ | ัง | ัน | ▁เ | าย | ้ว | ับ | ี่ | ม่ | อน | ให | าม | ้น | ็น | พระ | ีย | าง | กล | ้ง | ัก | หน | ให้ | ไม่ | หล | ่น | ึง | ▁แ | ทั | ตร | าร | ้อง | ไป | ิด | ข้า | ว่า | หม | คร | ือ | ล้ว | เป | เส | ประ | าน | ั่ง | ▁๏ | ▁ฯ | ที่ | อก | เล | ิน | ได | พล | ทร | ัด | นาง | ึก | ได้ | ู่ | ▁จะ | ค์ | ี้ | พร | เป็น | สุ | ทั้ง | อม | ัย | เร | ห็น | ▁จ | ▁พระ | ก็ | ใจ | อา | ื่ | ่าง | ต่ | กร | ิง | วง | วน | ือน | เจ | ู้ | ียง | อยู่ | รร | ตาม | ▁พ | ้วย | าว | ถึง | คล | ั้น | รี | เข | ด้วย | สม | องค์ | สน | าก | ▁แล้ว | เช | ัว | ย์ | ใน | คว | น้ | หมือน | ▁ส | ูก | อบ | กระ | เจ้า | ทรง | ลา | กัน | มี | ่าย | พรา | ิ่ง | เข้า | เห็น | ิต | สง | อด | ณ์ | วย | ้ม | คิด | เม | เก | เด | ▁นาง | วา | ุก | ▁ให้ | ดู | หา | ▁อ | ▁จึง | ทํา | ลง | รัก | เค | แล้ว | ่าน | พี่ | เหมือน | ั่น | ความ | ยง | อย่า | หร | มิ | ืน | ช่ | การ | ัญ | ▁ไม่ | ฝ่าย | ศรี | ้าง | วก | ้อม | ือง | น้อง | ยว | พา | แก | กํา | ่อน | ื่น | หน้า | ยา | ดี | ั้ง | ▁ทั้ง | ปรา | คน | เน | หว | รับ | แต่ | ้าย | ัส | เหล | ดา | สํา | นี้ | สาร | กับ | ลูก | ละ | ▁ต | รู้ | ื่อ | ▁ฝ่าย | ึ่ง | ลัง | าด | ื้ | กา | ขึ | นั่ง | เท | ▁เห็น | ฟัง | ้อย | ไร | ขึ้น | เสีย | ▁แต่ | บุ | สา | ไว | ทุก | กลับ | สุด | ัต | ใคร | น้ํา | ชา | ุด | ทัพ | วัน | สอง | นา | หย | ตา | รบ | ▁มา | ่อ | หรือ | ทู | ยัง | รง | จร | ปร | ▁บ | ไว้ | ดัง | วิ | ช่วย | ปล | ออก | ัตร | เพ | สิ | แจ | แล | ็จ | ิย์ | ▁พอ | มาร | ค่ | วรร | หมณ์ | คํา | เขา | นั้น | กษ | เย | ข้าง | หมา | เว | ไพร | หลัง | จิต | พราหมณ์ | ้ํา | ▁ถึง | ขอ | ทูล | สาม | ื้อ | วาย | อภ | ทาง | ▁แม | วัง | โฉ | ่ม | จน | ▁เป | ัตริย์ | ื่อง | สั่ง | แม่ | ▁ช | ฝ้า | โฉม | ราช | ฝร | ▁ถ | ฝรั่ง | ิ์ | ลม | แต | ▁เป็น | หาร | ื้น | เห | ้อน | ตาย | ุ่ง | ตัว | อย่าง | ลี | ผู้ | น้อย | ฉัน | ตรี | กุ | ษา | ุทร | ถาม | ของ | พร้อม | ชี | สร | เอ | ุง | พลาง | ตี | สมุทร | หาย | ที | วรรณ | เลี้ | นึก | จึง | หมาย | ▁ด้วย | ขว | ียน | ศึก | ่อง | ต้อง | ลัย | บา | พิ | อุ | สุวรรณ | โย | เรา | กลาง | เฝ้า | กษัตริย์ | สะ | แท | สัย | แจ้ง | หญ | ▁อย่า | รํา | ตรัส | อภัย | ผล | เลย | ียว | ไหน | ้าว | แน | ิดา | ริ | สาว | ิ้ม | เมือง | เล่า | ขัด | ค่อย | ภา | โอ | ่ํา | มัน | ชม | ห์ | ชาย | ัล | นาย | ▁เจ | เสียง | ยิ่ง | รู | ๋ย | เปล | เอา | ▁เส | คง | ตรา | ห้า | ินสมุทร | คอย | หญิง | หนี | ้าน | ญา | คุ | บรร | ▁ประ | กาย | ทหาร | ▁อัน | สิ้น | ทธ | ทอง | ักษ | ลังกา | นิ | พู | ศ์ | ่ว | จา | ใหญ | ที่ยว | มน | ไล | จริง | ▁เจ้า | จํา | ▁บ้าง | บอก | ▁ต่าง | ติ | ▁เข้า | ไม | ศร | อั | เคย | เลี้ยง | กรา | แสน | ▁จน | จับ | พบ | ครั้น | จง | พวก | สี | ไข | ษฐ | เกล | คา | รม | พัก | พัน | ซึ่ง | หนัก | นี | ่าว | กรุง | กล้ง | ▁เหมือน | ครา | เคร | ท้าว | ใส | ▁พวก | ตั้ง | หลง | ล้วน | ▁ไป | ผี | ลํา | นัก | ร้อง | ▁จง | ทรา | หนา | ▁ก็ | กลัว | ▁ที่ | เคียง | อาย | เรือ | ▁แม้น | เต | แค | ยก | พราะ | ใหญ่ | ▁ครั้น | ▁น | แก้ว | ถือ | ▁ได้ | เหลือ'"
            ],
            "application/vnd.google.colaboratory.intrinsic+json": {
              "type": "string"
            }
          },
          "metadata": {},
          "execution_count": 25
        }
      ],
      "source": [
        "bpe_vocabs = [bpe.id_to_piece(id) for id in range(bpe.get_piece_size())]\n",
        "\" | \".join(bpe_vocabs[:500])"
      ]
    },
    {
      "cell_type": "markdown",
      "metadata": {
        "id": "eu6QnnRfQyFj"
      },
      "source": [
        "### User-defined symbols\n",
        "\n",
        "Another important concept to know of is User-defined symbols. These special symbols are reserved for a special purpose \\(e.g.\\, the \\<MASK\\> token used in BERT) and will always be tokenized into one token.\n",
        "\n",
        "Refer to the documentation for ways to add these special tokens to your tokenizer.\n",
        "\n",
        "https://github.com/google/sentencepiece/blob/master/python"
      ]
    },
    {
      "cell_type": "markdown",
      "metadata": {
        "id": "QEFOj62ZEdzT"
      },
      "source": [
        "## Train another tokenizer on another domain\n",
        "\n",
        "Now try training another unigram tokenizer on `pantip_text` and we will use it to compare with the unigram tokenizer we trained earlier."
      ]
    },
    {
      "cell_type": "code",
      "execution_count": null,
      "metadata": {
        "id": "O7-QkA1eMZFf",
        "colab": {
          "base_uri": "https://localhost:8080/"
        },
        "outputId": "9f5377dc-037e-465f-e927-161171942417"
      },
      "outputs": [
        {
          "output_type": "execute_result",
          "data": {
            "text/plain": [
              "<sentencepiece.SentencePieceProcessor; proxy of <Swig Object of type 'sentencepiece::SentencePieceProcessor *' at 0x7c628939ea90> >"
            ]
          },
          "metadata": {},
          "execution_count": 39
        }
      ],
      "source": [
        "## Train\n",
        "pantip_tokenizer_unigram"
      ]
    },
    {
      "cell_type": "markdown",
      "metadata": {
        "id": "R5WOVMbONnYv"
      },
      "source": [
        "## Analyse top tokens on different datasets\n",
        "\n",
        "Use your tokenizers to tokenize the datasets and analyse your most common vocabularies (try 300-400 vocabs with len>1). Hint: tokenize your data and count the tokens."
      ]
    },
    {
      "cell_type": "code",
      "execution_count": null,
      "metadata": {
        "id": "wbfkGcsUrPYS"
      },
      "outputs": [],
      "source": [
        "from collections import Counter\n",
        "\n",
        "# Tokenize datasets\n",
        "pantip_tokens = []\n",
        "pam_tokens = []\n",
        "\n",
        "# Tokenize Pantip dataset\n",
        "for text in pantip_train_text:\n",
        "    pantip_tokens.extend(pantip_tokenizer_bpe.encode(text, out_type=str))\n",
        "\n",
        "# Tokenize PAM dataset\n",
        "for text in pam_train_text:\n",
        "    pam_tokens.extend(pam_tokenizer_bpe.encode(text, out_type=str))\n",
        "\n",
        "# Count token frequencies\n",
        "pantip_token_counts = Counter(pantip_tokens)\n",
        "pam_token_counts = Counter(pam_tokens)\n",
        "\n",
        "# Filter and sort tokens\n",
        "pantip_top_tokens = [\n",
        "    (token, count) for token, count in pantip_token_counts.most_common(400)\n",
        "    if len(token) > 1\n",
        "]\n",
        "\n",
        "pam_top_tokens = [\n",
        "    (token, count) for token, count in pam_token_counts.most_common(400)\n",
        "    if len(token) > 1\n",
        "]"
      ]
    },
    {
      "cell_type": "code",
      "source": [
        "print(\"Top Pantip Tokens:\")\n",
        "for token, count in pantip_top_tokens[:300]:\n",
        "    print(f\"{token}: {count}\")"
      ],
      "metadata": {
        "colab": {
          "base_uri": "https://localhost:8080/"
        },
        "id": "cU5RvM4Jta2F",
        "outputId": "37e20b33-ab1c-41ae-8812-e40380ba88fd"
      },
      "execution_count": null,
      "outputs": [
        {
          "output_type": "stream",
          "name": "stdout",
          "text": [
            "Top Pantip Tokens:\n",
            "ที่: 3847\n",
            "มา: 2400\n",
            "ไป: 2360\n",
            "ได้: 2281\n",
            "ไม่: 2274\n",
            "เรา: 2228\n",
            "ว่า: 2166\n",
            "จะ: 1995\n",
            "ก็: 1978\n",
            "มี: 1892\n",
            "เป็น: 1867\n",
            "▁เ: 1743\n",
            "การ: 1653\n",
            "ให้: 1637\n",
            "นี้: 1370\n",
            "แล้ว: 1367\n",
            "ครับ: 1332\n",
            "ของ: 1322\n",
            "กัน: 1303\n",
            "คน: 1280\n",
            "ทํา: 1279\n",
            "ดี: 1273\n",
            "เลย: 1217\n",
            "ค่ะ: 1207\n",
            "ใน: 1177\n",
            "▁แต่: 1107\n",
            "มาก: 1087\n",
            "กับ: 1086\n",
            "ความ: 1080\n",
            "่า: 1036\n",
            "▁ส: 998\n",
            "าย: 963\n",
            "ัน: 924\n",
            "อยู่: 910\n",
            "ใจ: 889\n",
            "▁เรา: 889\n",
            "ํา: 876\n",
            "แต่: 859\n",
            "เก: 831\n",
            "จาก: 813\n",
            "ต้อง: 808\n",
            "ตัว: 793\n",
            "สอบ: 789\n",
            "ประ: 761\n",
            "▁1: 752\n",
            "ด้วย: 749\n",
            "้า: 746\n",
            "อยาก: 745\n",
            "อก: 744\n",
            "มัน: 744\n",
            "ัง: 734\n",
            "อน: 730\n",
            "ผม: 729\n",
            "อะไร: 719\n",
            "าน: 709\n",
            "ไม่ได้: 707\n",
            "หา: 690\n",
            "วัน: 689\n",
            "ัก: 678\n",
            "รับ: 678\n",
            "ผู้: 677\n",
            "ใช้: 675\n",
            "ิน: 675\n",
            "▁แ: 669\n",
            "▁พ: 651\n",
            "อย่าง: 646\n",
            "าก: 645\n",
            "▁และ: 642\n",
            "อง: 640\n",
            "ดู: 640\n",
            "▁(: 634\n",
            "งาน: 633\n",
            "ับ: 631\n",
            "เล: 628\n",
            "่ง: 623\n",
            "▁2: 620\n",
            "คะ: 616\n",
            "้น: 614\n",
            "และ: 613\n",
            "กล: 606\n",
            "คร: 602\n",
            "ยัง: 599\n",
            "าง: 599\n",
            "เรื่อง: 597\n",
            "าร: 587\n",
            "เขา: 586\n",
            "ถึง: 585\n",
            "่น: 585\n",
            "หน: 584\n",
            "▁อ: 583\n",
            "เข้า: 579\n",
            "▁น: 577\n",
            "หน้า: 574\n",
            "▁แล้ว: 566\n",
            "คือ: 564\n",
            "▁ค: 563\n",
            "ทาง: 562\n",
            "ทุก: 549\n",
            "ขึ้น: 543\n",
            "▁ไม่: 537\n",
            "คิด: 535\n",
            "นั้น: 529\n",
            "แบบ: 519\n",
            "▁มี: 518\n",
            "ตร: 518\n",
            "อม: 516\n",
            "▁ร: 515\n",
            "ัด: 514\n",
            "ออก: 500\n",
            "ระ: 498\n",
            "ละ: 495\n",
            "▁ป: 495\n",
            "หรือ: 490\n",
            "หล: 487\n",
            "อย: 487\n",
            "กร: 485\n",
            "กว่า: 482\n",
            "ไหน: 476\n",
            "วิ: 473\n",
            "▁บ: 470\n",
            "ลง: 470\n",
            "ิด: 466\n",
            "อร์: 464\n",
            "รู้: 462\n",
            "เวลา: 462\n",
            "บ้าง: 461\n",
            "เด: 461\n",
            "เร: 460\n",
            "เส: 457\n",
            "ี่: 455\n",
            "เรียน: 447\n",
            "▁คือ: 446\n",
            "เงิน: 446\n",
            "ีย: 440\n",
            "เท: 437\n",
            "on: 432\n",
            "▁หรือ: 431\n",
            "พอ: 429\n",
            "ือ: 423\n",
            "▁จ: 420\n",
            "าม: 420\n",
            "้ง: 420\n",
            "▁ที่: 419\n",
            "er: 419\n",
            "ต่อ: 417\n",
            "ชอบ: 416\n",
            "อบ: 414\n",
            "ตาม: 413\n",
            "▁อยาก: 408\n",
            "อีก: 407\n",
            "บ้าน: 406\n",
            "้อง: 406\n",
            "บอก: 405\n",
            "สิ: 405\n",
            "เพื่อน: 401\n",
            "รา: 399\n",
            "เคย: 396\n",
            "เช: 393\n",
            "ก่อน: 391\n",
            "ทั้ง: 388\n",
            "ย์: 387\n",
            "คํา: 385\n",
            "ริ: 384\n",
            "ตั้ง: 382\n",
            "in: 379\n",
            "▁เพราะ: 374\n",
            "ติด: 373\n",
            "เข: 372\n",
            "เหมือน: 372\n",
            "ผล: 372\n",
            "re: 371\n",
            "ที: 369\n",
            "ื่อ: 368\n",
            "่าย: 368\n",
            "เค้า: 366\n",
            "an: 365\n",
            "หน่อย: 362\n",
            "ยังไง: 359\n",
            "ี้: 359\n",
            "ุด: 358\n",
            "▁จะ: 356\n",
            "กลับ: 356\n",
            "ั่ง: 353\n",
            "นะ: 350\n",
            "▁4: 347\n",
            "ติ: 346\n",
            "ียง: 344\n",
            "ถาม: 344\n",
            "ปี: 342\n",
            "อา: 341\n",
            "00: 338\n",
            "ั้น: 338\n",
            "▁ผม: 336\n",
            "ไหม: 336\n",
            "ส่ง: 336\n",
            "น้ํา: 333\n",
            "เห็น: 331\n",
            "▁ทํา: 330\n",
            "ใคร: 328\n",
            "▁ก็: 328\n",
            "เเ: 327\n",
            "สน: 325\n",
            "้อ: 324\n",
            "สํา: 323\n",
            "แฟน: 323\n",
            "▁t: 323\n",
            "เพราะ: 322\n",
            "ไม่มี: 322\n",
            "ทร: 319\n",
            "นะคะ: 318\n",
            "▁-: 317\n",
            "▁การ: 317\n",
            "รุ: 317\n",
            "ค้า: 316\n",
            "สุด: 316\n",
            "ิต: 314\n",
            "ช่วย: 314\n",
            "รร: 314\n",
            "ไทย: 313\n",
            "เน: 312\n",
            "ไม: 311\n",
            "ัย: 311\n",
            "รู้สึก: 310\n",
            "ข้อ: 310\n",
            "รถ: 308\n",
            "วน: 307\n",
            "ซื้อ: 307\n",
            "แม่: 307\n",
            "หร: 306\n",
            "ส่วน: 306\n",
            "▁แนวข้อสอบ: 306\n",
            "้อย: 306\n",
            "▁3: 306\n",
            "ลูก: 304\n",
            "▁ซึ่ง: 303\n",
            "▁ถ้า: 303\n",
            "สามารถ: 300\n",
            "้าย: 300\n",
            "▁S: 300\n",
            "▁5: 299\n",
            "หม: 298\n",
            "ไว้: 297\n",
            "มั้ย: 295\n",
            "▁ก: 294\n",
            "ต่าง: 292\n",
            "ตอน: 292\n",
            "จํา: 291\n",
            "อด: 291\n",
            "▁ใน: 290\n",
            "ใหม่: 290\n",
            "ัส: 289\n",
            "เต: 289\n",
            "▁โ: 287\n",
            "เบ: 286\n",
            "คุย: 286\n",
            "แค่: 285\n",
            "ขอ: 284\n",
            "ผ่าน: 283\n",
            "เพ: 281\n",
            "กระ: 281\n",
            "▁บาท: 281\n",
            "ปล: 280\n",
            "เอา: 280\n",
            "้าน: 280\n",
            "ar: 277\n",
            "▁s: 276\n",
            "วง: 275\n",
            "ครั้ง: 274\n",
            "com: 274\n",
            "รัก: 273\n",
            "▁เป็น: 273\n",
            "://: 273\n",
            "or: 271\n",
            "en: 266\n",
            "คล: 265\n",
            "เม: 265\n",
            "ti: 265\n",
            "ราย: 265\n",
            "นา: 264\n",
            "ิม: 263\n",
            "ไร: 262\n",
            "ภาพ: 262\n",
            "▁วัน: 261\n",
            "เว: 261\n",
            "▁แก้ไข: 261\n",
            "▁ข: 260\n",
            "▁C: 260\n",
            "ค่า: 260\n",
            "เดือน: 260\n",
            "ใหญ่: 258\n",
            "็ก: 256\n",
            "ถ้า: 255\n",
            "ข้อความเมื่อ: 255\n",
            "▁ช: 255\n",
            "รี: 255\n",
            "อื่น: 255\n",
            "ช่วง: 255\n",
            "พี่: 255\n",
            "หลาย: 254\n",
            "ทํางาน: 252\n"
          ]
        }
      ]
    },
    {
      "cell_type": "code",
      "source": [
        "print(\"\\nTop PAM Tokens:\")\n",
        "for token, count in pam_top_tokens[:300]:\n",
        "    print(f\"{token}: {count}\")"
      ],
      "metadata": {
        "colab": {
          "base_uri": "https://localhost:8080/"
        },
        "id": "JLi51wzXtvWT",
        "outputId": "ef578d5a-7aeb-4770-c54b-823390ddb7ca"
      },
      "execution_count": null,
      "outputs": [
        {
          "output_type": "stream",
          "name": "stdout",
          "text": [
            "\n",
            "Top PAM Tokens:\n",
            "มา: 3067\n",
            "จะ: 2471\n",
            "ให้: 2381\n",
            "ไม่: 2105\n",
            "ไป: 2046\n",
            "ว่า: 1976\n",
            "▁๏: 1923\n",
            "▁ฯ: 1922\n",
            "พระ: 1705\n",
            "▁จะ: 1685\n",
            "ประ: 1616\n",
            "เป็น: 1587\n",
            "าน: 1534\n",
            "ใจ: 1458\n",
            "ที่: 1392\n",
            "กล: 1368\n",
            "▁พระ: 1326\n",
            "▁เ: 1284\n",
            "าย: 1260\n",
            "่า: 1232\n",
            "ได้: 1151\n",
            "รา: 1142\n",
            "อยู่: 1129\n",
            "▁แล้ว: 1085\n",
            "ก็: 1073\n",
            "ใน: 1069\n",
            "อง: 1054\n",
            "พล: 1029\n",
            "อน: 1017\n",
            "คร: 1000\n",
            "ตาม: 984\n",
            "เจ้า: 975\n",
            "คล: 967\n",
            "กัน: 938\n",
            "ัด: 922\n",
            "เข้า: 917\n",
            "ิน: 913\n",
            "เห็น: 910\n",
            "ทั้ง: 907\n",
            "นาง: 892\n",
            "เก: 875\n",
            "ลา: 852\n",
            "▁นาง: 848\n",
            "้า: 845\n",
            "▁ให้: 843\n",
            "วน: 837\n",
            "ทรง: 836\n",
            "▁ส: 836\n",
            "เร: 831\n",
            "หล: 820\n",
            "▁จึง: 799\n",
            "เส: 789\n",
            "ัน: 783\n",
            "ระ: 780\n",
            "ัก: 775\n",
            "แล้ว: 771\n",
            "กร: 769\n",
            "อด: 767\n",
            "ด้วย: 760\n",
            "คิด: 757\n",
            "เหมือน: 752\n",
            "ับ: 752\n",
            "สม: 745\n",
            "กระ: 734\n",
            "าก: 733\n",
            "ถึง: 732\n",
            "เล: 727\n",
            "ํา: 724\n",
            "ัง: 721\n",
            "สน: 715\n",
            "การ: 713\n",
            "หน: 710\n",
            "▁ไม่: 710\n",
            "้น: 707\n",
            "อย: 705\n",
            "อก: 691\n",
            "อา: 687\n",
            "พา: 677\n",
            "รัก: 675\n",
            "หา: 675\n",
            "หน้า: 670\n",
            "่น: 670\n",
            "ลง: 669\n",
            "ยา: 668\n",
            "ดี: 667\n",
            "มี: 666\n",
            "▁ทั้ง: 662\n",
            "อม: 657\n",
            "ปรา: 655\n",
            "คน: 653\n",
            "ตร: 653\n",
            "ึก: 647\n",
            "รับ: 646\n",
            "าม: 644\n",
            "แต่: 643\n",
            "าว: 637\n",
            "ดู: 637\n",
            "้อง: 635\n",
            "สํา: 632\n",
            "ดา: 632\n",
            "นี้: 629\n",
            "พร: 624\n",
            "ลูก: 619\n",
            "ทํา: 618\n",
            "รู้: 612\n",
            "ี่: 609\n",
            "▁ฝ่าย: 605\n",
            "ย์: 601\n",
            "ั่น: 596\n",
            "ข้า: 593\n",
            "หม: 591\n",
            "นั่ง: 583\n",
            "เท: 582\n",
            "▁เห็น: 581\n",
            "ความ: 573\n",
            "สุ: 570\n",
            "เสีย: 566\n",
            "้ม: 565\n",
            "▁แต่: 564\n",
            "อบ: 563\n",
            "น้อง: 562\n",
            "องค์: 560\n",
            "เข: 558\n",
            "กลับ: 555\n",
            "ิด: 551\n",
            "่ง: 544\n",
            "น้ํา: 540\n",
            "เด: 536\n",
            "วัน: 531\n",
            "ทัพ: 531\n",
            "สอง: 517\n",
            "ือ: 513\n",
            "าร: 510\n",
            "▁มา: 509\n",
            "ตา: 509\n",
            "รบ: 509\n",
            "พี่: 507\n",
            "ิง: 504\n",
            "กับ: 500\n",
            "ไว้: 496\n",
            "ศรี: 495\n",
            "ดัง: 495\n",
            "วิ: 494\n",
            "ปล: 492\n",
            "ีย: 491\n",
            "ออก: 489\n",
            "ื่น: 483\n",
            "ละ: 482\n",
            "ียง: 479\n",
            "เพ: 478\n",
            "▁พอ: 469\n",
            "ฟัง: 466\n",
            "ึง: 460\n",
            "าง: 457\n",
            "เขา: 457\n",
            "นั้น: 455\n",
            "ข้าง: 448\n",
            "ไร: 444\n",
            "เว: 443\n",
            "▁แ: 441\n",
            "หลัง: 440\n",
            "จิต: 439\n",
            "พราหมณ์: 439\n",
            "▁ถึง: 436\n",
            "่าง: 435\n",
            "ทูล: 432\n",
            "สาม: 431\n",
            "เม: 429\n",
            "ั้น: 429\n",
            "วง: 427\n",
            "ทาง: 424\n",
            "วัง: 423\n",
            "สา: 422\n",
            "ชา: 420\n",
            "าด: 420\n",
            "จน: 419\n",
            "ทุก: 415\n",
            "ี้: 415\n",
            "้ง: 414\n",
            "้อย: 412\n",
            "ั่ง: 411\n",
            "อย่า: 411\n",
            "สั่ง: 409\n",
            "แม่: 408\n",
            "บุ: 406\n",
            "▁ช: 406\n",
            "ราช: 403\n",
            "สาร: 403\n",
            "ขึ้น: 402\n",
            "สุด: 398\n",
            "ฝรั่ง: 398\n",
            "วย: 395\n",
            "▁เป็น: 394\n",
            "นา: 393\n",
            "มิ: 393\n",
            "เห: 392\n",
            "้ว: 391\n",
            "เช: 389\n",
            "เน: 387\n",
            "ตาย: 387\n",
            "ุ่ง: 386\n",
            "กํา: 385\n",
            "ตัว: 384\n",
            "ลี: 383\n",
            "น้อย: 382\n",
            "เจ: 381\n",
            "ฉัน: 380\n",
            "ัญ: 377\n",
            "ถาม: 373\n",
            "พร้อม: 372\n",
            "ของ: 372\n",
            "ชี: 371\n",
            "สร: 371\n",
            "ืน: 367\n",
            "ตี: 367\n",
            "หาย: 364\n",
            "▁พ: 361\n",
            "หรือ: 361\n",
            "ที: 358\n",
            "นึก: 356\n",
            "จึง: 355\n",
            "หมาย: 355\n",
            "▁ด้วย: 354\n",
            "ียน: 353\n",
            "ศึก: 352\n",
            "แล: 351\n",
            "ัย: 350\n",
            "ต้อง: 350\n",
            "่อง: 350\n",
            "วา: 347\n",
            "มาร: 346\n",
            "พิ: 346\n",
            "่อ: 344\n",
            "ุด: 344\n",
            "อุ: 343\n",
            "หว: 340\n",
            "เรา: 340\n",
            "สง: 340\n",
            "ยัง: 339\n",
            "กลาง: 339\n",
            "เฝ้า: 339\n",
            "ช่วย: 339\n",
            "กษัตริย์: 338\n",
            "สะ: 337\n",
            "แจ้ง: 336\n",
            "▁อย่า: 333\n",
            "รํา: 332\n",
            "ตรัส: 332\n",
            "ใคร: 330\n",
            "เลย: 329\n",
            "ไหน: 328\n",
            "ียว: 328\n",
            "่อน: 327\n",
            "้าย: 326\n",
            "ริ: 324\n",
            "สาว: 324\n",
            "หย: 323\n",
            "เมือง: 322\n",
            "เล่า: 321\n",
            "ขัด: 320\n",
            "ัต: 319\n",
            "เย: 319\n",
            "ภา: 319\n",
            "ชม: 317\n",
            "ห์: 316\n",
            "ชาย: 315\n",
            "ัล: 312\n",
            "นาย: 312\n",
            "ปร: 311\n",
            "เสียง: 310\n",
            "เปล: 306\n",
            "เอา: 305\n",
            "คง: 302\n",
            "ื่อ: 301\n",
            "ัส: 301\n",
            "ตรา: 301\n",
            "คอย: 299\n",
            "กา: 298\n",
            "หนี: 298\n",
            "ญา: 295\n",
            "บรร: 294\n",
            "้ํา: 294\n",
            "▁ประ: 292\n",
            "▁อัน: 291\n",
            "กาย: 291\n",
            "ทหาร: 291\n",
            "สิ้น: 289\n",
            "รี: 288\n",
            "่ม: 288\n",
            "้าง: 288\n",
            "ณ์: 287\n",
            "ทอง: 287\n",
            "ุก: 287\n",
            "ลังกา: 287\n",
            "นิ: 285\n",
            "จา: 283\n",
            "▁เจ้า: 280\n",
            "จริง: 280\n",
            "จํา: 279\n",
            "▁บ้าง: 279\n"
          ]
        }
      ]
    },
    {
      "cell_type": "markdown",
      "metadata": {
        "id": "Qz0GdZ-5YYM9"
      },
      "source": [
        "### To answer\n",
        "What are some notable differences you see between the two vocabs?\n",
        "\n",
        "Write your answer below."
      ]
    },
    {
      "cell_type": "markdown",
      "source": [
        "- Pantip จะเป็นภาษาไม่เป็นทางการ\n",
        "- Pam ภาษาทางการ + วรรณคดี + ยุคเก่า"
      ],
      "metadata": {
        "id": "OrcO3ursuQLn"
      }
    },
    {
      "cell_type": "code",
      "source": [
        "print(pantip_top_tokens)"
      ],
      "metadata": {
        "colab": {
          "base_uri": "https://localhost:8080/"
        },
        "id": "dy-6vWxEtDE9",
        "outputId": "92a10a12-5bf7-46bf-ed2b-b42128a88a67"
      },
      "execution_count": null,
      "outputs": [
        {
          "output_type": "stream",
          "name": "stdout",
          "text": [
            "[('ที่', 3847), ('มา', 2400), ('ไป', 2360), ('ได้', 2281), ('ไม่', 2274), ('เรา', 2228), ('ว่า', 2166), ('จะ', 1995), ('ก็', 1978), ('มี', 1892), ('เป็น', 1867), ('▁เ', 1743), ('การ', 1653), ('ให้', 1637), ('นี้', 1370), ('แล้ว', 1367), ('ครับ', 1332), ('ของ', 1322), ('กัน', 1303), ('คน', 1280), ('ทํา', 1279), ('ดี', 1273), ('เลย', 1217), ('ค่ะ', 1207), ('ใน', 1177), ('▁แต่', 1107), ('มาก', 1087), ('กับ', 1086), ('ความ', 1080), ('่า', 1036), ('▁ส', 998), ('าย', 963), ('ัน', 924), ('อยู่', 910), ('ใจ', 889), ('▁เรา', 889), ('ํา', 876), ('แต่', 859), ('เก', 831), ('จาก', 813), ('ต้อง', 808), ('ตัว', 793), ('สอบ', 789), ('ประ', 761), ('▁1', 752), ('ด้วย', 749), ('้า', 746), ('อยาก', 745), ('อก', 744), ('มัน', 744), ('ัง', 734), ('อน', 730), ('ผม', 729), ('อะไร', 719), ('าน', 709), ('ไม่ได้', 707), ('หา', 690), ('วัน', 689), ('ัก', 678), ('รับ', 678), ('ผู้', 677), ('ใช้', 675), ('ิน', 675), ('▁แ', 669), ('▁พ', 651), ('อย่าง', 646), ('าก', 645), ('▁และ', 642), ('อง', 640), ('ดู', 640), ('▁(', 634), ('งาน', 633), ('ับ', 631), ('เล', 628), ('่ง', 623), ('▁2', 620), ('คะ', 616), ('้น', 614), ('และ', 613), ('กล', 606), ('คร', 602), ('ยัง', 599), ('าง', 599), ('เรื่อง', 597), ('าร', 587), ('เขา', 586), ('ถึง', 585), ('่น', 585), ('หน', 584), ('▁อ', 583), ('เข้า', 579), ('▁น', 577), ('หน้า', 574), ('▁แล้ว', 566), ('คือ', 564), ('▁ค', 563), ('ทาง', 562), ('ทุก', 549), ('ขึ้น', 543), ('▁ไม่', 537), ('คิด', 535), ('นั้น', 529), ('แบบ', 519), ('▁มี', 518), ('ตร', 518), ('อม', 516), ('▁ร', 515), ('ัด', 514), ('ออก', 500), ('ระ', 498), ('ละ', 495), ('▁ป', 495), ('หรือ', 490), ('หล', 487), ('อย', 487), ('กร', 485), ('กว่า', 482), ('ไหน', 476), ('วิ', 473), ('▁บ', 470), ('ลง', 470), ('ิด', 466), ('อร์', 464), ('รู้', 462), ('เวลา', 462), ('บ้าง', 461), ('เด', 461), ('เร', 460), ('เส', 457), ('ี่', 455), ('เรียน', 447), ('▁คือ', 446), ('เงิน', 446), ('ีย', 440), ('เท', 437), ('on', 432), ('▁หรือ', 431), ('พอ', 429), ('ือ', 423), ('▁จ', 420), ('าม', 420), ('้ง', 420), ('▁ที่', 419), ('er', 419), ('ต่อ', 417), ('ชอบ', 416), ('อบ', 414), ('ตาม', 413), ('▁อยาก', 408), ('อีก', 407), ('บ้าน', 406), ('้อง', 406), ('บอก', 405), ('สิ', 405), ('เพื่อน', 401), ('รา', 399), ('เคย', 396), ('เช', 393), ('ก่อน', 391), ('ทั้ง', 388), ('ย์', 387), ('คํา', 385), ('ริ', 384), ('ตั้ง', 382), ('in', 379), ('▁เพราะ', 374), ('ติด', 373), ('เข', 372), ('เหมือน', 372), ('ผล', 372), ('re', 371), ('ที', 369), ('ื่อ', 368), ('่าย', 368), ('เค้า', 366), ('an', 365), ('หน่อย', 362), ('ยังไง', 359), ('ี้', 359), ('ุด', 358), ('▁จะ', 356), ('กลับ', 356), ('ั่ง', 353), ('นะ', 350), ('▁4', 347), ('ติ', 346), ('ียง', 344), ('ถาม', 344), ('ปี', 342), ('อา', 341), ('00', 338), ('ั้น', 338), ('▁ผม', 336), ('ไหม', 336), ('ส่ง', 336), ('น้ํา', 333), ('เห็น', 331), ('▁ทํา', 330), ('ใคร', 328), ('▁ก็', 328), ('เเ', 327), ('สน', 325), ('้อ', 324), ('สํา', 323), ('แฟน', 323), ('▁t', 323), ('เพราะ', 322), ('ไม่มี', 322), ('ทร', 319), ('นะคะ', 318), ('▁-', 317), ('▁การ', 317), ('รุ', 317), ('ค้า', 316), ('สุด', 316), ('ิต', 314), ('ช่วย', 314), ('รร', 314), ('ไทย', 313), ('เน', 312), ('ไม', 311), ('ัย', 311), ('รู้สึก', 310), ('ข้อ', 310), ('รถ', 308), ('วน', 307), ('ซื้อ', 307), ('แม่', 307), ('หร', 306), ('ส่วน', 306), ('▁แนวข้อสอบ', 306), ('้อย', 306), ('▁3', 306), ('ลูก', 304), ('▁ซึ่ง', 303), ('▁ถ้า', 303), ('สามารถ', 300), ('้าย', 300), ('▁S', 300), ('▁5', 299), ('หม', 298), ('ไว้', 297), ('มั้ย', 295), ('▁ก', 294), ('ต่าง', 292), ('ตอน', 292), ('จํา', 291), ('อด', 291), ('▁ใน', 290), ('ใหม่', 290), ('ัส', 289), ('เต', 289), ('▁โ', 287), ('เบ', 286), ('คุย', 286), ('แค่', 285), ('ขอ', 284), ('ผ่าน', 283), ('เพ', 281), ('กระ', 281), ('▁บาท', 281), ('ปล', 280), ('เอา', 280), ('้าน', 280), ('ar', 277), ('▁s', 276), ('วง', 275), ('ครั้ง', 274), ('com', 274), ('รัก', 273), ('▁เป็น', 273), ('://', 273), ('or', 271), ('en', 266), ('คล', 265), ('เม', 265), ('ti', 265), ('ราย', 265), ('นา', 264), ('ิม', 263), ('ไร', 262), ('ภาพ', 262), ('▁วัน', 261), ('เว', 261), ('▁แก้ไข', 261), ('▁ข', 260), ('▁C', 260), ('ค่า', 260), ('เดือน', 260), ('ใหญ่', 258), ('็ก', 256), ('ถ้า', 255), ('ข้อความเมื่อ', 255), ('▁ช', 255), ('รี', 255), ('อื่น', 255), ('ช่วง', 255), ('พี่', 255), ('หลาย', 254), ('ทํางาน', 252), ('ขา', 252), ('เอง', 251), ('ควร', 250)]\n"
          ]
        }
      ]
    },
    {
      "cell_type": "code",
      "source": [
        "print(pam_top_tokens)"
      ],
      "metadata": {
        "colab": {
          "base_uri": "https://localhost:8080/"
        },
        "id": "cM0zBEV0ufKq",
        "outputId": "441eb328-f16f-4882-a368-88a3579d7cd5"
      },
      "execution_count": null,
      "outputs": [
        {
          "output_type": "stream",
          "name": "stdout",
          "text": [
            "[('มา', 3067), ('จะ', 2471), ('ให้', 2381), ('ไม่', 2105), ('ไป', 2046), ('ว่า', 1976), ('▁๏', 1923), ('▁ฯ', 1922), ('พระ', 1705), ('▁จะ', 1685), ('ประ', 1616), ('เป็น', 1587), ('าน', 1534), ('ใจ', 1458), ('ที่', 1392), ('กล', 1368), ('▁พระ', 1326), ('▁เ', 1284), ('าย', 1260), ('่า', 1232), ('ได้', 1151), ('รา', 1142), ('อยู่', 1129), ('▁แล้ว', 1085), ('ก็', 1073), ('ใน', 1069), ('อง', 1054), ('พล', 1029), ('อน', 1017), ('คร', 1000), ('ตาม', 984), ('เจ้า', 975), ('คล', 967), ('กัน', 938), ('ัด', 922), ('เข้า', 917), ('ิน', 913), ('เห็น', 910), ('ทั้ง', 907), ('นาง', 892), ('เก', 875), ('ลา', 852), ('▁นาง', 848), ('้า', 845), ('▁ให้', 843), ('วน', 837), ('ทรง', 836), ('▁ส', 836), ('เร', 831), ('หล', 820), ('▁จึง', 799), ('เส', 789), ('ัน', 783), ('ระ', 780), ('ัก', 775), ('แล้ว', 771), ('กร', 769), ('อด', 767), ('ด้วย', 760), ('คิด', 757), ('เหมือน', 752), ('ับ', 752), ('สม', 745), ('กระ', 734), ('าก', 733), ('ถึง', 732), ('เล', 727), ('ํา', 724), ('ัง', 721), ('สน', 715), ('การ', 713), ('หน', 710), ('▁ไม่', 710), ('้น', 707), ('อย', 705), ('อก', 691), ('อา', 687), ('พา', 677), ('รัก', 675), ('หา', 675), ('หน้า', 670), ('่น', 670), ('ลง', 669), ('ยา', 668), ('ดี', 667), ('มี', 666), ('▁ทั้ง', 662), ('อม', 657), ('ปรา', 655), ('คน', 653), ('ตร', 653), ('ึก', 647), ('รับ', 646), ('าม', 644), ('แต่', 643), ('าว', 637), ('ดู', 637), ('้อง', 635), ('สํา', 632), ('ดา', 632), ('นี้', 629), ('พร', 624), ('ลูก', 619), ('ทํา', 618), ('รู้', 612), ('ี่', 609), ('▁ฝ่าย', 605), ('ย์', 601), ('ั่น', 596), ('ข้า', 593), ('หม', 591), ('นั่ง', 583), ('เท', 582), ('▁เห็น', 581), ('ความ', 573), ('สุ', 570), ('เสีย', 566), ('้ม', 565), ('▁แต่', 564), ('อบ', 563), ('น้อง', 562), ('องค์', 560), ('เข', 558), ('กลับ', 555), ('ิด', 551), ('่ง', 544), ('น้ํา', 540), ('เด', 536), ('วัน', 531), ('ทัพ', 531), ('สอง', 517), ('ือ', 513), ('าร', 510), ('▁มา', 509), ('ตา', 509), ('รบ', 509), ('พี่', 507), ('ิง', 504), ('กับ', 500), ('ไว้', 496), ('ศรี', 495), ('ดัง', 495), ('วิ', 494), ('ปล', 492), ('ีย', 491), ('ออก', 489), ('ื่น', 483), ('ละ', 482), ('ียง', 479), ('เพ', 478), ('▁พอ', 469), ('ฟัง', 466), ('ึง', 460), ('าง', 457), ('เขา', 457), ('นั้น', 455), ('ข้าง', 448), ('ไร', 444), ('เว', 443), ('▁แ', 441), ('หลัง', 440), ('จิต', 439), ('พราหมณ์', 439), ('▁ถึง', 436), ('่าง', 435), ('ทูล', 432), ('สาม', 431), ('เม', 429), ('ั้น', 429), ('วง', 427), ('ทาง', 424), ('วัง', 423), ('สา', 422), ('ชา', 420), ('าด', 420), ('จน', 419), ('ทุก', 415), ('ี้', 415), ('้ง', 414), ('้อย', 412), ('ั่ง', 411), ('อย่า', 411), ('สั่ง', 409), ('แม่', 408), ('บุ', 406), ('▁ช', 406), ('ราช', 403), ('สาร', 403), ('ขึ้น', 402), ('สุด', 398), ('ฝรั่ง', 398), ('วย', 395), ('▁เป็น', 394), ('นา', 393), ('มิ', 393), ('เห', 392), ('้ว', 391), ('เช', 389), ('เน', 387), ('ตาย', 387), ('ุ่ง', 386), ('กํา', 385), ('ตัว', 384), ('ลี', 383), ('น้อย', 382), ('เจ', 381), ('ฉัน', 380), ('ัญ', 377), ('ถาม', 373), ('พร้อม', 372), ('ของ', 372), ('ชี', 371), ('สร', 371), ('ืน', 367), ('ตี', 367), ('หาย', 364), ('▁พ', 361), ('หรือ', 361), ('ที', 358), ('นึก', 356), ('จึง', 355), ('หมาย', 355), ('▁ด้วย', 354), ('ียน', 353), ('ศึก', 352), ('แล', 351), ('ัย', 350), ('ต้อง', 350), ('่อง', 350), ('วา', 347), ('มาร', 346), ('พิ', 346), ('่อ', 344), ('ุด', 344), ('อุ', 343), ('หว', 340), ('เรา', 340), ('สง', 340), ('ยัง', 339), ('กลาง', 339), ('เฝ้า', 339), ('ช่วย', 339), ('กษัตริย์', 338), ('สะ', 337), ('แจ้ง', 336), ('▁อย่า', 333), ('รํา', 332), ('ตรัส', 332), ('ใคร', 330), ('เลย', 329), ('ไหน', 328), ('ียว', 328), ('่อน', 327), ('้าย', 326), ('ริ', 324), ('สาว', 324), ('หย', 323), ('เมือง', 322), ('เล่า', 321), ('ขัด', 320), ('ัต', 319), ('เย', 319), ('ภา', 319), ('ชม', 317), ('ห์', 316), ('ชาย', 315), ('ัล', 312), ('นาย', 312), ('ปร', 311), ('เสียง', 310), ('เปล', 306), ('เอา', 305), ('คง', 302), ('ื่อ', 301), ('ัส', 301), ('ตรา', 301), ('คอย', 299), ('กา', 298), ('หนี', 298), ('ญา', 295), ('บรร', 294), ('้ํา', 294), ('▁ประ', 292), ('▁อัน', 291), ('กาย', 291), ('ทหาร', 291), ('สิ้น', 289), ('รี', 288), ('่ม', 288), ('้าง', 288), ('ณ์', 287), ('ทอง', 287), ('ุก', 287), ('ลังกา', 287), ('นิ', 285), ('จา', 283), ('▁เจ้า', 280), ('จริง', 280), ('จํา', 279), ('▁บ้าง', 279), ('วาย', 279), ('▁ต่าง', 277), ('ั้ง', 277), ('บอก', 277), ('▁อ', 276), ('▁เข้า', 274), ('ูก', 273), ('เคย', 269), ('แสน', 268), ('▁จน', 268), ('ผู้', 267), ('จับ', 267), ('พบ', 266), ('จง', 265), ('พวก', 265), ('่าน', 264), ('สี', 264), ('ไข', 263), ('คา', 261), ('รม', 260), ('พัน', 260), ('ขอ', 259), ('นี', 258), ('อย่าง', 258), ('กรุง', 257), ('▁เหมือน', 257), ('ท้าว', 256), ('ษา', 256), ('กุ', 256), ('▁พวก', 254), ('ทั', 253), ('ตั้ง', 252), ('หลง', 251), ('ล้วน', 250), ('▁ไป', 249), ('ือง', 248), ('ผี', 248), ('ลํา', 247), ('นัก', 246), ('ร้อง', 246), ('▁จง', 245), ('▁ก็', 244), ('เคียง', 244), ('▁ที่', 244), ('กลัว', 244), ('อาย', 243), ('เรือ', 242), ('▁แม้น', 241), ('เต', 240), ('ใหญ่', 238), ('▁ครั้น', 238)]\n"
          ]
        }
      ]
    },
    {
      "cell_type": "markdown",
      "metadata": {
        "id": "ipjO87HPYl4N"
      },
      "source": [
        "## Using tokenizer across domains\n",
        "\n",
        "One problem you may face is your dataset is very specialized. In that case the tokenizer trained on a general domain may not perform as good as it should when used on your dataset.\n",
        "\n",
        "Next you will try using tokenizers trained on one general domain (on Pantip) and use it on a specialized domain (พระอภัยมณี) and vice versa."
      ]
    },
    {
      "cell_type": "markdown",
      "metadata": {
        "id": "I4_6JG_l5BXh"
      },
      "source": [
        "### Q3 MCV\n",
        "\n",
        "What percentage increase do you observe when tokenizing the whole พระอภัยมณี dataset with a tokenizer trained on Pantip compared to the one trained on พระอภัยมณี."
      ]
    },
    {
      "cell_type": "code",
      "execution_count": null,
      "metadata": {
        "id": "3tCh1RaZrTAM"
      },
      "outputs": [],
      "source": [
        "# Tokenize พระอภัยมณี dataset with both tokenizers\n",
        "pam_tokens_with_pantip_tokenizer = [\n",
        "    pantip_tokenizer_bpe.encode(text) for text in pam_test_text\n",
        "]\n",
        "pam_tokens_with_pam_tokenizer = [\n",
        "    pam_tokenizer_bpe.encode(text) for text in pam_test_text\n",
        "]\n",
        "\n",
        "# Calculate the total token count for each tokenizer\n",
        "total_tokens_pantip = sum(len(tokens) for tokens in pam_tokens_with_pantip_tokenizer)\n",
        "total_tokens_pam = sum(len(tokens) for tokens in pam_tokens_with_pam_tokenizer)"
      ]
    },
    {
      "cell_type": "code",
      "source": [
        "# Calculate percentage increase\n",
        "percentage_increase = ((total_tokens_pantip - total_tokens_pam) / total_tokens_pam) * 100\n",
        "\n",
        "print(f\"Percentage Increase in Token Count: {percentage_increase:.2f}%\")\n"
      ],
      "metadata": {
        "colab": {
          "base_uri": "https://localhost:8080/"
        },
        "id": "KOPc7hclwRl9",
        "outputId": "ffba1795-49b0-4f57-ce3a-a0ea1f797445"
      },
      "execution_count": null,
      "outputs": [
        {
          "output_type": "stream",
          "name": "stdout",
          "text": [
            "Percentage Increase in Token Count: 28.75%\n"
          ]
        }
      ]
    },
    {
      "cell_type": "markdown",
      "metadata": {
        "id": "duaCJRO96SX1"
      },
      "source": [
        "### Q4 MCV\n",
        "\n",
        "What percentage increase do you observe when tokenizing the whole Pantip dataset with a tokenizer trained on พระอภัยมณี compared to the one trained on Pantip."
      ]
    },
    {
      "cell_type": "code",
      "execution_count": null,
      "metadata": {
        "id": "axk9gOIgrTYd"
      },
      "outputs": [],
      "source": [
        "# Tokenize Pantip dataset with both tokenizers\n",
        "pantip_tokens_with_pantip_tokenizer = [\n",
        "    pantip_tokenizer_bpe.encode(text) for text in pantip_test_text\n",
        "]\n",
        "pantip_tokens_with_pam_tokenizer = [\n",
        "    pam_tokenizer_bpe.encode(text) for text in pantip_test_text\n",
        "]\n",
        "\n",
        "# Calculate the total token count for each tokenizer\n",
        "total_tokens_pantip = sum(len(tokens) for tokens in pantip_tokens_with_pantip_tokenizer)\n",
        "total_tokens_pam = sum(len(tokens) for tokens in pantip_tokens_with_pam_tokenizer)"
      ]
    },
    {
      "cell_type": "code",
      "source": [
        "# Calculate percentage increase\n",
        "percentage_increase = ((total_tokens_pam - total_tokens_pantip) / total_tokens_pantip) * 100\n",
        "\n",
        "print(f\"Percentage Increase in Token Count: {percentage_increase:.2f}%\")\n"
      ],
      "metadata": {
        "colab": {
          "base_uri": "https://localhost:8080/"
        },
        "id": "YDSqdUYfw-fP",
        "outputId": "b0d0c9a2-d505-4717-d9fa-2441601a96d3"
      },
      "execution_count": null,
      "outputs": [
        {
          "output_type": "stream",
          "name": "stdout",
          "text": [
            "Percentage Increase in Token Count: 3.75%\n"
          ]
        }
      ]
    },
    {
      "cell_type": "markdown",
      "metadata": {
        "id": "yZYKuamv7-wI"
      },
      "source": [
        "### To answer\n",
        "Why do you think the number of tokens tokenized by the general tokenizer (the one trained on Pantip) has a higher percentage increase compared to the number of tokens tokenized by the specialized tokenizer? (Hint: we fixed vocab size.)"
      ]
    },
    {
      "cell_type": "markdown",
      "source": [
        "เพราะ Vocabulary and Dataset ไม่สอดคล้องกัน และ เราได้ทำการ fixed vocab size ไว้\n",
        "  - Tokenizer ที่ฝึกจาก Pantip ถูกปรับแต่งมาเพื่อให้เหมาะกับคำศัพท์และรูปแบบภาษาที่พบในข้อมูล Pantip ซึ่งมักเป็นภาษาที่หลากหลายและไม่เป็นทางการ\n",
        "  - แต่ ชุดข้อมูลพระอภัยมณี เป็นข้อมูลเฉพาะทางที่อาจมีคำศัพท์ รูปประโยค และรูปแบบภาษาที่เป็นเอกลักษณ์ เช่น ภาษาโบราณหรือบทกวี ซึ่ง Tokenizer ของ Pantip ไม่สามารถแทนคำเหล่านี้ได้อย่างมีประสิทธิภาพ\n",
        "  - ส่งผลให้ Tokenizer ของ Pantip แยกคำศัพท์เหล่านี้ออกเป็นส่วนย่อยมากขึ้น หรืออาจแยกเป็นตัวอักษรเดี่ยว ๆ ซึ่งทำให้จำนวนโทเค็นเพิ่มขึ้น"
      ],
      "metadata": {
        "id": "SS5ycJpIvs-A"
      }
    },
    {
      "cell_type": "markdown",
      "metadata": {
        "id": "O7j_Cc0p9-5S"
      },
      "source": [
        "## The effect on language models\n",
        "\n",
        "Next, we will see the effect of using \"cross-domain\" tokenizers on Language models."
      ]
    },
    {
      "cell_type": "markdown",
      "metadata": {
        "id": "KiWztANvohhn"
      },
      "source": [
        "### Setup\n",
        "We are going to reuse the code from the last assignment"
      ]
    },
    {
      "cell_type": "code",
      "execution_count": null,
      "metadata": {
        "id": "7pVtSbmVpwOo",
        "colab": {
          "base_uri": "https://localhost:8080/"
        },
        "outputId": "e3967278-7106-4c3e-b954-9e22023bb0bf"
      },
      "outputs": [
        {
          "output_type": "stream",
          "name": "stdout",
          "text": [
            "Collecting lightning\n",
            "  Downloading lightning-2.5.0.post0-py3-none-any.whl.metadata (40 kB)\n",
            "\u001b[?25l     \u001b[90m━━━━━━━━━━━━━━━━━━━━━━━━━━━━━━━━━━━━━━━━\u001b[0m \u001b[32m0.0/40.4 kB\u001b[0m \u001b[31m?\u001b[0m eta \u001b[36m-:--:--\u001b[0m\r\u001b[2K     \u001b[90m━━━━━━━━━━━━━━━━━━━━━━━━━━━━━━━━━━━━━━━━\u001b[0m \u001b[32m40.4/40.4 kB\u001b[0m \u001b[31m3.4 MB/s\u001b[0m eta \u001b[36m0:00:00\u001b[0m\n",
            "\u001b[?25hRequirement already satisfied: PyYAML<8.0,>=5.4 in /usr/local/lib/python3.11/dist-packages (from lightning) (6.0.2)\n",
            "Requirement already satisfied: fsspec<2026.0,>=2022.5.0 in /usr/local/lib/python3.11/dist-packages (from fsspec[http]<2026.0,>=2022.5.0->lightning) (2024.10.0)\n",
            "Collecting lightning-utilities<2.0,>=0.10.0 (from lightning)\n",
            "  Downloading lightning_utilities-0.11.9-py3-none-any.whl.metadata (5.2 kB)\n",
            "Requirement already satisfied: packaging<25.0,>=20.0 in /usr/local/lib/python3.11/dist-packages (from lightning) (24.2)\n",
            "Requirement already satisfied: torch<4.0,>=2.1.0 in /usr/local/lib/python3.11/dist-packages (from lightning) (2.5.1+cu121)\n",
            "Collecting torchmetrics<3.0,>=0.7.0 (from lightning)\n",
            "  Downloading torchmetrics-1.6.1-py3-none-any.whl.metadata (21 kB)\n",
            "Requirement already satisfied: tqdm<6.0,>=4.57.0 in /usr/local/lib/python3.11/dist-packages (from lightning) (4.67.1)\n",
            "Requirement already satisfied: typing-extensions<6.0,>=4.4.0 in /usr/local/lib/python3.11/dist-packages (from lightning) (4.12.2)\n",
            "Collecting pytorch-lightning (from lightning)\n",
            "  Downloading pytorch_lightning-2.5.0.post0-py3-none-any.whl.metadata (21 kB)\n",
            "Requirement already satisfied: aiohttp!=4.0.0a0,!=4.0.0a1 in /usr/local/lib/python3.11/dist-packages (from fsspec[http]<2026.0,>=2022.5.0->lightning) (3.11.11)\n",
            "Requirement already satisfied: setuptools in /usr/local/lib/python3.11/dist-packages (from lightning-utilities<2.0,>=0.10.0->lightning) (75.1.0)\n",
            "Requirement already satisfied: filelock in /usr/local/lib/python3.11/dist-packages (from torch<4.0,>=2.1.0->lightning) (3.16.1)\n",
            "Requirement already satisfied: networkx in /usr/local/lib/python3.11/dist-packages (from torch<4.0,>=2.1.0->lightning) (3.4.2)\n",
            "Requirement already satisfied: jinja2 in /usr/local/lib/python3.11/dist-packages (from torch<4.0,>=2.1.0->lightning) (3.1.5)\n",
            "Requirement already satisfied: nvidia-cuda-nvrtc-cu12==12.1.105 in /usr/local/lib/python3.11/dist-packages (from torch<4.0,>=2.1.0->lightning) (12.1.105)\n",
            "Requirement already satisfied: nvidia-cuda-runtime-cu12==12.1.105 in /usr/local/lib/python3.11/dist-packages (from torch<4.0,>=2.1.0->lightning) (12.1.105)\n",
            "Requirement already satisfied: nvidia-cuda-cupti-cu12==12.1.105 in /usr/local/lib/python3.11/dist-packages (from torch<4.0,>=2.1.0->lightning) (12.1.105)\n",
            "Requirement already satisfied: nvidia-cudnn-cu12==9.1.0.70 in /usr/local/lib/python3.11/dist-packages (from torch<4.0,>=2.1.0->lightning) (9.1.0.70)\n",
            "Requirement already satisfied: nvidia-cublas-cu12==12.1.3.1 in /usr/local/lib/python3.11/dist-packages (from torch<4.0,>=2.1.0->lightning) (12.1.3.1)\n",
            "Requirement already satisfied: nvidia-cufft-cu12==11.0.2.54 in /usr/local/lib/python3.11/dist-packages (from torch<4.0,>=2.1.0->lightning) (11.0.2.54)\n",
            "Requirement already satisfied: nvidia-curand-cu12==10.3.2.106 in /usr/local/lib/python3.11/dist-packages (from torch<4.0,>=2.1.0->lightning) (10.3.2.106)\n",
            "Requirement already satisfied: nvidia-cusolver-cu12==11.4.5.107 in /usr/local/lib/python3.11/dist-packages (from torch<4.0,>=2.1.0->lightning) (11.4.5.107)\n",
            "Requirement already satisfied: nvidia-cusparse-cu12==12.1.0.106 in /usr/local/lib/python3.11/dist-packages (from torch<4.0,>=2.1.0->lightning) (12.1.0.106)\n",
            "Requirement already satisfied: nvidia-nccl-cu12==2.21.5 in /usr/local/lib/python3.11/dist-packages (from torch<4.0,>=2.1.0->lightning) (2.21.5)\n",
            "Requirement already satisfied: nvidia-nvtx-cu12==12.1.105 in /usr/local/lib/python3.11/dist-packages (from torch<4.0,>=2.1.0->lightning) (12.1.105)\n",
            "Requirement already satisfied: triton==3.1.0 in /usr/local/lib/python3.11/dist-packages (from torch<4.0,>=2.1.0->lightning) (3.1.0)\n",
            "Requirement already satisfied: sympy==1.13.1 in /usr/local/lib/python3.11/dist-packages (from torch<4.0,>=2.1.0->lightning) (1.13.1)\n",
            "Requirement already satisfied: nvidia-nvjitlink-cu12 in /usr/local/lib/python3.11/dist-packages (from nvidia-cusolver-cu12==11.4.5.107->torch<4.0,>=2.1.0->lightning) (12.6.85)\n",
            "Requirement already satisfied: mpmath<1.4,>=1.1.0 in /usr/local/lib/python3.11/dist-packages (from sympy==1.13.1->torch<4.0,>=2.1.0->lightning) (1.3.0)\n",
            "Requirement already satisfied: numpy>1.20.0 in /usr/local/lib/python3.11/dist-packages (from torchmetrics<3.0,>=0.7.0->lightning) (1.26.4)\n",
            "Requirement already satisfied: aiohappyeyeballs>=2.3.0 in /usr/local/lib/python3.11/dist-packages (from aiohttp!=4.0.0a0,!=4.0.0a1->fsspec[http]<2026.0,>=2022.5.0->lightning) (2.4.4)\n",
            "Requirement already satisfied: aiosignal>=1.1.2 in /usr/local/lib/python3.11/dist-packages (from aiohttp!=4.0.0a0,!=4.0.0a1->fsspec[http]<2026.0,>=2022.5.0->lightning) (1.3.2)\n",
            "Requirement already satisfied: attrs>=17.3.0 in /usr/local/lib/python3.11/dist-packages (from aiohttp!=4.0.0a0,!=4.0.0a1->fsspec[http]<2026.0,>=2022.5.0->lightning) (24.3.0)\n",
            "Requirement already satisfied: frozenlist>=1.1.1 in /usr/local/lib/python3.11/dist-packages (from aiohttp!=4.0.0a0,!=4.0.0a1->fsspec[http]<2026.0,>=2022.5.0->lightning) (1.5.0)\n",
            "Requirement already satisfied: multidict<7.0,>=4.5 in /usr/local/lib/python3.11/dist-packages (from aiohttp!=4.0.0a0,!=4.0.0a1->fsspec[http]<2026.0,>=2022.5.0->lightning) (6.1.0)\n",
            "Requirement already satisfied: propcache>=0.2.0 in /usr/local/lib/python3.11/dist-packages (from aiohttp!=4.0.0a0,!=4.0.0a1->fsspec[http]<2026.0,>=2022.5.0->lightning) (0.2.1)\n",
            "Requirement already satisfied: yarl<2.0,>=1.17.0 in /usr/local/lib/python3.11/dist-packages (from aiohttp!=4.0.0a0,!=4.0.0a1->fsspec[http]<2026.0,>=2022.5.0->lightning) (1.18.3)\n",
            "Requirement already satisfied: MarkupSafe>=2.0 in /usr/local/lib/python3.11/dist-packages (from jinja2->torch<4.0,>=2.1.0->lightning) (3.0.2)\n",
            "Requirement already satisfied: idna>=2.0 in /usr/local/lib/python3.11/dist-packages (from yarl<2.0,>=1.17.0->aiohttp!=4.0.0a0,!=4.0.0a1->fsspec[http]<2026.0,>=2022.5.0->lightning) (3.10)\n",
            "Downloading lightning-2.5.0.post0-py3-none-any.whl (815 kB)\n",
            "\u001b[2K   \u001b[90m━━━━━━━━━━━━━━━━━━━━━━━━━━━━━━━━━━━━━━━━\u001b[0m \u001b[32m815.2/815.2 kB\u001b[0m \u001b[31m50.8 MB/s\u001b[0m eta \u001b[36m0:00:00\u001b[0m\n",
            "\u001b[?25hDownloading lightning_utilities-0.11.9-py3-none-any.whl (28 kB)\n",
            "Downloading torchmetrics-1.6.1-py3-none-any.whl (927 kB)\n",
            "\u001b[2K   \u001b[90m━━━━━━━━━━━━━━━━━━━━━━━━━━━━━━━━━━━━━━━━\u001b[0m \u001b[32m927.3/927.3 kB\u001b[0m \u001b[31m61.7 MB/s\u001b[0m eta \u001b[36m0:00:00\u001b[0m\n",
            "\u001b[?25hDownloading pytorch_lightning-2.5.0.post0-py3-none-any.whl (819 kB)\n",
            "\u001b[2K   \u001b[90m━━━━━━━━━━━━━━━━━━━━━━━━━━━━━━━━━━━━━━━━\u001b[0m \u001b[32m819.3/819.3 kB\u001b[0m \u001b[31m54.7 MB/s\u001b[0m eta \u001b[36m0:00:00\u001b[0m\n",
            "\u001b[?25hInstalling collected packages: lightning-utilities, torchmetrics, pytorch-lightning, lightning\n",
            "Successfully installed lightning-2.5.0.post0 lightning-utilities-0.11.9 pytorch-lightning-2.5.0.post0 torchmetrics-1.6.1\n"
          ]
        }
      ],
      "source": [
        "!pip install lightning"
      ]
    },
    {
      "cell_type": "code",
      "execution_count": null,
      "metadata": {
        "id": "JMt5GzLrW4x3"
      },
      "outputs": [],
      "source": [
        "import itertools\n",
        "import torch\n",
        "import torch.nn as nn\n",
        "from torch.utils.data import Dataset, DataLoader\n",
        "import torch.optim as optim\n",
        "import lightning as L\n",
        "from tqdm import tqdm\n",
        "import numpy as np"
      ]
    },
    {
      "cell_type": "code",
      "execution_count": null,
      "metadata": {
        "id": "0OIs_VS_oo1M"
      },
      "outputs": [],
      "source": [
        "class TextDataset(Dataset):\n",
        "  def __init__(self, data, tokenizer, seq_len = 128):\n",
        "\n",
        "    token_ids = [tokenizer.encode(d, add_bos=True, add_eos=True) for d in data]\n",
        "    flatten_token_ids = list(itertools.chain(*token_ids))\n",
        "    encoded = torch.LongTensor(flatten_token_ids)\n",
        "\n",
        "    left_over = len(encoded) % seq_len\n",
        "    encoded = encoded[:len(encoded)-left_over]\n",
        "    self.encoded = encoded.view(-1, seq_len)\n",
        "\n",
        "  def __getitem__(self, idx):\n",
        "    return self.encoded[idx]\n",
        "\n",
        "  def __len__(self):\n",
        "    return len(self.encoded)"
      ]
    },
    {
      "cell_type": "code",
      "execution_count": null,
      "metadata": {
        "id": "hk6vEPiMq34n"
      },
      "outputs": [],
      "source": [
        "class LSTM(L.LightningModule):\n",
        "    def __init__(self, vocab_size, embedding_dim, hidden_dim, num_layers, dropout_rate, learning_rate, criterion):\n",
        "\n",
        "        super().__init__()\n",
        "\n",
        "        self.num_layers = num_layers\n",
        "        self.hidden_dim = hidden_dim\n",
        "        self.embedding_dim = embedding_dim\n",
        "        self.vocab_size=vocab_size\n",
        "\n",
        "        self.embedding = nn.Embedding(vocab_size, embedding_dim)\n",
        "        self.lstm = nn.LSTM(embedding_dim, hidden_dim, num_layers=num_layers,\n",
        "                    dropout=dropout_rate, batch_first=True)\n",
        "        self.dropout = nn.Dropout(dropout_rate)\n",
        "        self.fc = nn.Linear(hidden_dim, vocab_size)\n",
        "        self.learning_rate = learning_rate\n",
        "        self.criterion = criterion\n",
        "\n",
        "    def forward(self, src):\n",
        "        # Convert token IDs to embeddings\n",
        "        embeddings = self.embedding(src)  # Shape: [batch_size, seq_len, embedding_dim]\n",
        "\n",
        "        # Pass embeddings through the LSTM\n",
        "        lstm_out, _ = self.lstm(embeddings)  # lstm_out: [batch_size, seq_len, hidden_dim]\n",
        "\n",
        "        # Apply dropout\n",
        "        lstm_out = self.dropout(lstm_out)\n",
        "\n",
        "        # Project the hidden states to vocab size\n",
        "        output = self.fc(lstm_out)  # Shape: [batch_size, seq_len, vocab_size]\n",
        "\n",
        "        return output\n",
        "\n",
        "    def training_step(self, batch, batch_idx):\n",
        "\n",
        "        src = batch[:, :-1]\n",
        "        target = batch[:, 1:]\n",
        "        prediction = self(src)\n",
        "        prediction = prediction.reshape(-1, self.vocab_size)\n",
        "        target = target.reshape(-1)\n",
        "        loss = self.criterion(prediction, target)\n",
        "        self.log(\"train_loss\", loss)\n",
        "        return loss\n",
        "\n",
        "    def test_step(self, batch, batch_idx, dataloader_idx=0):\n",
        "\n",
        "        src = batch[:, :-1]\n",
        "        target = batch[:, 1:]\n",
        "        with torch.no_grad():\n",
        "          prediction = self(src)\n",
        "        prediction = prediction.reshape(-1, self.vocab_size)\n",
        "        target = target.reshape(-1)\n",
        "        loss = self.criterion(prediction, target)\n",
        "        self.log(\"test_loss\", loss)\n",
        "        return loss\n",
        "\n",
        "    def configure_optimizers(self):\n",
        "        return optim.Adam(self.parameters(), lr=self.learning_rate)"
      ]
    },
    {
      "cell_type": "code",
      "execution_count": null,
      "metadata": {
        "id": "oKhuOygixndB"
      },
      "outputs": [],
      "source": [
        "vocab_size = sp_pam.get_piece_size()\n",
        "embedding_dim = 200\n",
        "hidden_dim = 512\n",
        "num_layers = 3\n",
        "dropout_rate = 0.2\n",
        "lr = 1e-3\n",
        "criterion = nn.CrossEntropyLoss()\n",
        "train_batch_size = 64\n",
        "test_batch_size = 128"
      ]
    },
    {
      "cell_type": "markdown",
      "metadata": {
        "id": "kOtOE7mr-heY"
      },
      "source": [
        "### Training"
      ]
    },
    {
      "cell_type": "markdown",
      "metadata": {
        "id": "g8-x9HiPDcpE"
      },
      "source": [
        "<a name=\"no1\"></a>\n",
        "#### 1. Training on Pantip data with Pantip tokenizer"
      ]
    },
    {
      "cell_type": "code",
      "source": [
        "sp_pantip = pantip_tokenizer_bpe\n",
        "sp_pam = pam_tokenizer_bpe"
      ],
      "metadata": {
        "id": "qMkM-VDryB1e"
      },
      "execution_count": null,
      "outputs": []
    },
    {
      "cell_type": "code",
      "execution_count": null,
      "metadata": {
        "id": "oUv_A4MTx0Ob",
        "colab": {
          "base_uri": "https://localhost:8080/",
          "height": 780,
          "referenced_widgets": [
            "8750dcadaa2c47c8b271a2b3ab0eaf4c",
            "e9725b7ffd614b999f974ed6db6e0fa4",
            "a696d535a112436fb4a7f8fbe784ac0a",
            "2038770552ab4fa28162e1a1c139f411",
            "cb1d76c59d354b128b51e2e680231cf0",
            "70d88a5e2c0a469ea552c8f40b37a646",
            "bf96575731a64429b10e715590123d24",
            "a32e95783d4747be875d636062936dd9",
            "a949ba55489f413ba76d06a1dcb822c7",
            "11d9a5062f2f46ffb3988d1fe4fe7319",
            "ff63838a361b45d1b19bf5c3b5854df1"
          ]
        },
        "outputId": "6b0bae4c-1242-4177-c686-3091f66d2892"
      },
      "outputs": [
        {
          "output_type": "stream",
          "name": "stderr",
          "text": [
            "INFO: GPU available: True (cuda), used: True\n",
            "INFO:lightning.pytorch.utilities.rank_zero:GPU available: True (cuda), used: True\n",
            "INFO: TPU available: False, using: 0 TPU cores\n",
            "INFO:lightning.pytorch.utilities.rank_zero:TPU available: False, using: 0 TPU cores\n",
            "INFO: HPU available: False, using: 0 HPUs\n",
            "INFO:lightning.pytorch.utilities.rank_zero:HPU available: False, using: 0 HPUs\n",
            "INFO: LOCAL_RANK: 0 - CUDA_VISIBLE_DEVICES: [0]\n",
            "INFO:lightning.pytorch.accelerators.cuda:LOCAL_RANK: 0 - CUDA_VISIBLE_DEVICES: [0]\n",
            "INFO: \n",
            "  | Name      | Type             | Params | Mode \n",
            "-------------------------------------------------------\n",
            "0 | embedding | Embedding        | 200 K  | train\n",
            "1 | lstm      | LSTM             | 5.7 M  | train\n",
            "2 | dropout   | Dropout          | 0      | train\n",
            "3 | fc        | Linear           | 513 K  | train\n",
            "4 | criterion | CrossEntropyLoss | 0      | train\n",
            "-------------------------------------------------------\n",
            "6.4 M     Trainable params\n",
            "0         Non-trainable params\n",
            "6.4 M     Total params\n",
            "25.511    Total estimated model params size (MB)\n",
            "5         Modules in train mode\n",
            "0         Modules in eval mode\n",
            "INFO:lightning.pytorch.callbacks.model_summary:\n",
            "  | Name      | Type             | Params | Mode \n",
            "-------------------------------------------------------\n",
            "0 | embedding | Embedding        | 200 K  | train\n",
            "1 | lstm      | LSTM             | 5.7 M  | train\n",
            "2 | dropout   | Dropout          | 0      | train\n",
            "3 | fc        | Linear           | 513 K  | train\n",
            "4 | criterion | CrossEntropyLoss | 0      | train\n",
            "-------------------------------------------------------\n",
            "6.4 M     Trainable params\n",
            "0         Non-trainable params\n",
            "6.4 M     Total params\n",
            "25.511    Total estimated model params size (MB)\n",
            "5         Modules in train mode\n",
            "0         Modules in eval mode\n",
            "/usr/local/lib/python3.11/dist-packages/lightning/pytorch/loops/fit_loop.py:310: The number of training batches (45) is smaller than the logging interval Trainer(log_every_n_steps=50). Set a lower value for log_every_n_steps if you want to see logs for the training epoch.\n"
          ]
        },
        {
          "output_type": "display_data",
          "data": {
            "text/plain": [
              "Training: |          | 0/? [00:00<?, ?it/s]"
            ],
            "application/vnd.jupyter.widget-view+json": {
              "version_major": 2,
              "version_minor": 0,
              "model_id": "8750dcadaa2c47c8b271a2b3ab0eaf4c"
            }
          },
          "metadata": {}
        },
        {
          "output_type": "stream",
          "name": "stderr",
          "text": [
            "INFO: `Trainer.fit` stopped: `max_epochs=10` reached.\n",
            "INFO:lightning.pytorch.utilities.rank_zero:`Trainer.fit` stopped: `max_epochs=10` reached.\n"
          ]
        }
      ],
      "source": [
        "trainer = L.Trainer(\n",
        "    max_epochs=10,\n",
        "    deterministic=True\n",
        ")\n",
        "model = LSTM(vocab_size, embedding_dim, hidden_dim, num_layers, dropout_rate, lr, criterion)\n",
        "\n",
        "pantip_train_dataset = TextDataset(pantip_train_text, sp_pantip)\n",
        "pantip_train_loader = DataLoader(pantip_train_dataset, batch_size = train_batch_size, shuffle = True)\n",
        "\n",
        "pantip_test_dataset = TextDataset(pantip_test_text, sp_pantip)\n",
        "pantip_test_loader = DataLoader(pantip_test_dataset, batch_size = test_batch_size, shuffle = False)\n",
        "\n",
        "pam_train_dataset = TextDataset(pam_train_text, sp_pantip)\n",
        "pam_train_loader = DataLoader(pam_train_dataset, batch_size = train_batch_size, shuffle = True)\n",
        "\n",
        "pam_test_dataset = TextDataset(pam_test_text, sp_pantip)\n",
        "pam_test_loader = DataLoader(pam_test_dataset, batch_size = test_batch_size, shuffle = False)\n",
        "\n",
        "trainer.fit(model, train_dataloaders=pantip_train_loader)"
      ]
    },
    {
      "cell_type": "code",
      "execution_count": null,
      "metadata": {
        "id": "1e-Y1_GYy65g",
        "colab": {
          "base_uri": "https://localhost:8080/",
          "height": 190,
          "referenced_widgets": [
            "524bb6c7b7d8415199ee79668c52086f",
            "11177e604d6f43cea364a385098005da",
            "5a0c3f9add854345a286ce02b05a6dee",
            "84a271ce1e8641ba9158cfa95d9ea99b",
            "488551bf63f3497b97336a6d79ed570e",
            "21de3ed1006c48ed894f908a8ac93d11",
            "102871155bf34fc0941411fec9be736a",
            "9452428187654e6688d49931d1b9a67b",
            "4ddf22b4df82440999efc3452f092703",
            "ea58ab56802b4f69aaecaa35ca92a967",
            "7a0184f35c67450a97d848a1f2598de9"
          ]
        },
        "outputId": "939c8d9f-2e19-4943-8650-b3bcd591010f"
      },
      "outputs": [
        {
          "output_type": "stream",
          "name": "stderr",
          "text": [
            "INFO: LOCAL_RANK: 0 - CUDA_VISIBLE_DEVICES: [0]\n",
            "INFO:lightning.pytorch.accelerators.cuda:LOCAL_RANK: 0 - CUDA_VISIBLE_DEVICES: [0]\n",
            "/usr/local/lib/python3.11/dist-packages/lightning/pytorch/trainer/connectors/data_connector.py:476: Your `test_dataloader`'s sampler has shuffling enabled, it is strongly recommended that you turn shuffling off for val/test dataloaders.\n"
          ]
        },
        {
          "output_type": "display_data",
          "data": {
            "text/plain": [
              "Testing: |          | 0/? [00:00<?, ?it/s]"
            ],
            "application/vnd.jupyter.widget-view+json": {
              "version_major": 2,
              "version_minor": 0,
              "model_id": "524bb6c7b7d8415199ee79668c52086f"
            }
          },
          "metadata": {}
        },
        {
          "output_type": "stream",
          "name": "stdout",
          "text": [
            "Perplexity on Pantip train set is:\t68.82131446383693\n",
            "Perplexity on Pra apai manee train set is:\t203.81059852239193\n",
            "Perplexity on Pantip test set is:\t124.02908684976566\n",
            "Perplexity on Pra apai manee test set is:\t206.5725660473081\n"
          ]
        }
      ],
      "source": [
        "test_result = trainer.test(model, dataloaders=[pantip_train_loader, pam_train_loader, pantip_test_loader,pam_test_loader], verbose=False)\n",
        "\n",
        "print(f\"Perplexity on Pantip train set is:\\t{np.exp(test_result[0]['test_loss/dataloader_idx_0'])}\")\n",
        "print(f\"Perplexity on Pra apai manee train set is:\\t{np.exp(test_result[1]['test_loss/dataloader_idx_1'])}\")\n",
        "print(f\"Perplexity on Pantip test set is:\\t{np.exp(test_result[2]['test_loss/dataloader_idx_2'])}\")\n",
        "print(f\"Perplexity on Pra apai manee test set is:\\t{np.exp(test_result[3]['test_loss/dataloader_idx_3'])}\")"
      ]
    },
    {
      "cell_type": "markdown",
      "metadata": {
        "id": "7s3AmE4nDjmL"
      },
      "source": [
        "<a name=\"no2\"></a>\n",
        "#### 2. Training on Pantip data with Pra apai manee tokenizer"
      ]
    },
    {
      "cell_type": "code",
      "execution_count": null,
      "metadata": {
        "id": "vfRdW3m1Dmj_",
        "colab": {
          "base_uri": "https://localhost:8080/",
          "height": 780,
          "referenced_widgets": [
            "aff24c332c344e0f88fef27804c82a75",
            "f96f1bfa23864acebaac34d4499b85ea",
            "4671eb53bb3d4427a41c94687eed1150",
            "d68208f9e49e41c4b93e1dfd3198f0e6",
            "4a0cd48b92b04517a47ce83966e4f322",
            "34f81e2b5c744b69a4e18357dec2bf2d",
            "6f55879d4d084cc1954e590341e8dfba",
            "9e396ed9de8043bb993096740ea15c84",
            "4ff771ed12fd492fbe3438945907cb7d",
            "7d16fd743ed24521aba8c34a9d9025e9",
            "0765a802fb8649489a24bc128d8b7479"
          ]
        },
        "outputId": "14fc2d99-8c6f-4be8-89e3-e2a9f320eb62"
      },
      "outputs": [
        {
          "output_type": "stream",
          "name": "stderr",
          "text": [
            "INFO: GPU available: True (cuda), used: True\n",
            "INFO:lightning.pytorch.utilities.rank_zero:GPU available: True (cuda), used: True\n",
            "INFO: TPU available: False, using: 0 TPU cores\n",
            "INFO:lightning.pytorch.utilities.rank_zero:TPU available: False, using: 0 TPU cores\n",
            "INFO: HPU available: False, using: 0 HPUs\n",
            "INFO:lightning.pytorch.utilities.rank_zero:HPU available: False, using: 0 HPUs\n",
            "INFO: LOCAL_RANK: 0 - CUDA_VISIBLE_DEVICES: [0]\n",
            "INFO:lightning.pytorch.accelerators.cuda:LOCAL_RANK: 0 - CUDA_VISIBLE_DEVICES: [0]\n",
            "INFO: \n",
            "  | Name      | Type             | Params | Mode \n",
            "-------------------------------------------------------\n",
            "0 | embedding | Embedding        | 200 K  | train\n",
            "1 | lstm      | LSTM             | 5.7 M  | train\n",
            "2 | dropout   | Dropout          | 0      | train\n",
            "3 | fc        | Linear           | 513 K  | train\n",
            "4 | criterion | CrossEntropyLoss | 0      | train\n",
            "-------------------------------------------------------\n",
            "6.4 M     Trainable params\n",
            "0         Non-trainable params\n",
            "6.4 M     Total params\n",
            "25.511    Total estimated model params size (MB)\n",
            "5         Modules in train mode\n",
            "0         Modules in eval mode\n",
            "INFO:lightning.pytorch.callbacks.model_summary:\n",
            "  | Name      | Type             | Params | Mode \n",
            "-------------------------------------------------------\n",
            "0 | embedding | Embedding        | 200 K  | train\n",
            "1 | lstm      | LSTM             | 5.7 M  | train\n",
            "2 | dropout   | Dropout          | 0      | train\n",
            "3 | fc        | Linear           | 513 K  | train\n",
            "4 | criterion | CrossEntropyLoss | 0      | train\n",
            "-------------------------------------------------------\n",
            "6.4 M     Trainable params\n",
            "0         Non-trainable params\n",
            "6.4 M     Total params\n",
            "25.511    Total estimated model params size (MB)\n",
            "5         Modules in train mode\n",
            "0         Modules in eval mode\n",
            "/usr/local/lib/python3.11/dist-packages/lightning/pytorch/loops/fit_loop.py:310: The number of training batches (48) is smaller than the logging interval Trainer(log_every_n_steps=50). Set a lower value for log_every_n_steps if you want to see logs for the training epoch.\n"
          ]
        },
        {
          "output_type": "display_data",
          "data": {
            "text/plain": [
              "Training: |          | 0/? [00:00<?, ?it/s]"
            ],
            "application/vnd.jupyter.widget-view+json": {
              "version_major": 2,
              "version_minor": 0,
              "model_id": "aff24c332c344e0f88fef27804c82a75"
            }
          },
          "metadata": {}
        },
        {
          "output_type": "stream",
          "name": "stderr",
          "text": [
            "INFO: `Trainer.fit` stopped: `max_epochs=10` reached.\n",
            "INFO:lightning.pytorch.utilities.rank_zero:`Trainer.fit` stopped: `max_epochs=10` reached.\n"
          ]
        }
      ],
      "source": [
        "trainer = L.Trainer(\n",
        "    max_epochs=10,\n",
        "    deterministic=True\n",
        ")\n",
        "model = LSTM(vocab_size, embedding_dim, hidden_dim, num_layers, dropout_rate, lr, criterion)\n",
        "\n",
        "pantip_train_dataset = TextDataset(pantip_train_text, sp_pam)\n",
        "pantip_train_loader = DataLoader(pantip_train_dataset, batch_size = train_batch_size, shuffle = True)\n",
        "\n",
        "pantip_test_dataset = TextDataset(pantip_test_text, sp_pam)\n",
        "pantip_test_loader = DataLoader(pantip_test_dataset, batch_size = test_batch_size, shuffle = False)\n",
        "\n",
        "pam_train_dataset = TextDataset(pam_train_text, sp_pam)\n",
        "pam_train_loader = DataLoader(pam_train_dataset, batch_size = train_batch_size, shuffle = True)\n",
        "\n",
        "pam_test_dataset = TextDataset(pam_test_text, sp_pam)\n",
        "pam_test_loader = DataLoader(pam_test_dataset, batch_size = test_batch_size, shuffle = False)\n",
        "\n",
        "trainer.fit(model, train_dataloaders=pantip_train_loader)"
      ]
    },
    {
      "cell_type": "code",
      "execution_count": null,
      "metadata": {
        "id": "xwLN1IarD3g9",
        "colab": {
          "base_uri": "https://localhost:8080/",
          "height": 153,
          "referenced_widgets": [
            "fa6e591832f34b10b5099833ddf2e1c9",
            "812446e994714d9693cdbdc977848298",
            "1678bf44646a4fe3b312c41f0968ab3b",
            "c68babed74d74f0ca9b842dd81fcd441",
            "113d1d76d4a64bdfb861bbf088a562bf",
            "62c3c0974c8e48db91ee1233cbe8005b",
            "6a2973f0265c47d9bf0554c4792783ca",
            "5a75f15cebcd405989ef23e0925af3e7",
            "fc57b7dc34d14357a0a69c99a74102f9",
            "88129c78403b482c8c3a9c697288aacb",
            "25af39ba093f4beeb756fc81909a7c8e"
          ]
        },
        "outputId": "bf3a5fbf-ed60-4a2f-f493-75bc80f29f0a"
      },
      "outputs": [
        {
          "output_type": "stream",
          "name": "stderr",
          "text": [
            "INFO: LOCAL_RANK: 0 - CUDA_VISIBLE_DEVICES: [0]\n",
            "INFO:lightning.pytorch.accelerators.cuda:LOCAL_RANK: 0 - CUDA_VISIBLE_DEVICES: [0]\n"
          ]
        },
        {
          "output_type": "display_data",
          "data": {
            "text/plain": [
              "Testing: |          | 0/? [00:00<?, ?it/s]"
            ],
            "application/vnd.jupyter.widget-view+json": {
              "version_major": 2,
              "version_minor": 0,
              "model_id": "fa6e591832f34b10b5099833ddf2e1c9"
            }
          },
          "metadata": {}
        },
        {
          "output_type": "stream",
          "name": "stdout",
          "text": [
            "Perplexity on Pantip train set is:\t29.337146543670855\n",
            "Perplexity on Pra apai manee train set is:\t808.5649434058206\n",
            "Perplexity on Pantip test set is:\t53.525623050762704\n",
            "Perplexity on Pra apai manee test set is:\t777.6412182802582\n"
          ]
        }
      ],
      "source": [
        "test_result = trainer.test(model, dataloaders=[pantip_train_loader, pam_train_loader, pantip_test_loader,pam_test_loader], verbose=False)\n",
        "\n",
        "print(f\"Perplexity on Pantip train set is:\\t{np.exp(test_result[0]['test_loss/dataloader_idx_0'])}\")\n",
        "print(f\"Perplexity on Pra apai manee train set is:\\t{np.exp(test_result[1]['test_loss/dataloader_idx_1'])}\")\n",
        "print(f\"Perplexity on Pantip test set is:\\t{np.exp(test_result[2]['test_loss/dataloader_idx_2'])}\")\n",
        "print(f\"Perplexity on Pra apai manee test set is:\\t{np.exp(test_result[3]['test_loss/dataloader_idx_3'])}\")"
      ]
    },
    {
      "cell_type": "markdown",
      "metadata": {
        "id": "NB8zqptTWcA6"
      },
      "source": [
        "#### To answer\n",
        "\n",
        "The perplexity numbers should indicate that:\n",
        "1. Training the LM with Pra apai manee tokenizer on Pantip (no. [2](#no2)) results in overfitting to Pantip and poor generalization to the Pra apai manee dataset.\n",
        "2. However using the Pantip tokenizer (no. [1](#no1)) results in a much better generalization.\n",
        "\n",
        "Try and come up with some reasons for the results above. <br>\n",
        "Hint:\n",
        "1. think about \"general\" vocabs and domain-specific vocabs.\n",
        "2. what do you think happens to the model when the token ids become longer."
      ]
    },
    {
      "cell_type": "markdown",
      "source": [
        "เพราะ ความแตกต่างระหว่างคำศัพท์ทั่วไปและคำศัพท์เฉพาะโดเมน และ ความยาวของ Token IDs\n",
        "\n",
        "Tokenizer ของ Pantip ได้รับการฝึกฝนด้วยคำศัพท์ที่หลากหลายและครอบคลุมมากกว่า ทำให้มันสามารถจัดการกับคำศัพท์เฉพาะในชุดข้อมูลพระอภัยมณีได้ดีกว่า ในขณะที่ Tokenizer ของพระอภัยมณีเน้นไปที่คำเฉพาะในโดเมนวรรณกรรมโบราณ ทำให้ไม่สามารถจัดการกับคำศัพท์ที่หลากหลายในชุดข้อมูล Pantip ได้\n",
        "\n",
        "เมื่อ Tokenizer เฉพาะโดเมน เช่น พระอภัยมณี ถูกใช้กับชุดข้อมูล Pantip โมเดลอาจต้องแยกคำที่ไม่คุ้นเคยออกเป็นโทเค็นเล็ก ๆ จำนวนมาก ส่งผลให้ Token IDs ยาวขึ้น\n",
        "Token IDs ที่ยาวขึ้นอาจทำให้โมเดลมีความซับซ้อนในการเรียนรู้มากขึ้น เนื่องจากต้องประมวลผลข้อมูลที่กระจัดกระจายและยากต่อการจับความสัมพันธ์"
      ],
      "metadata": {
        "id": "r4v8VO4Gy_2n"
      }
    },
    {
      "cell_type": "code",
      "execution_count": null,
      "metadata": {
        "id": "TmHGQf2saPj_"
      },
      "outputs": [],
      "source": []
    },
    {
      "cell_type": "markdown",
      "metadata": {
        "id": "y8VPMm7pLdSl"
      },
      "source": [
        "\n",
        "<a name=\"no3\"></a>\n",
        "#### 3. Training on Pra apai manee data with Pantip tokenizer\n"
      ]
    },
    {
      "cell_type": "code",
      "execution_count": null,
      "metadata": {
        "id": "oR5fp-YCLnnU",
        "colab": {
          "base_uri": "https://localhost:8080/",
          "height": 743,
          "referenced_widgets": [
            "5b5ce0c2917042138151d4cc87625613",
            "c94167835ee54cec9669760a7231b76d",
            "adaa55bf1ccb4ca6a26ca7f739843902",
            "894b7f401442457c88db1daa028d1b57",
            "bcc42d046498428d845b06ef1fbc5ddb",
            "977bf2ca2ed341048eb097229c18e06f",
            "7f3e9b8615b649669e4d5707492c2164",
            "e43600e21e3241e9a2a8176ab87db2c5",
            "234c304775184d3991bd50ea23e9c769",
            "ed1007e8c74844ffb1ad6cb0ca3208ec",
            "1d514bf1ed8b493398fdc87478131020"
          ]
        },
        "outputId": "1b43975c-997d-4f5e-f9e1-d410f9717d33"
      },
      "outputs": [
        {
          "output_type": "stream",
          "name": "stderr",
          "text": [
            "INFO: GPU available: True (cuda), used: True\n",
            "INFO:lightning.pytorch.utilities.rank_zero:GPU available: True (cuda), used: True\n",
            "INFO: TPU available: False, using: 0 TPU cores\n",
            "INFO:lightning.pytorch.utilities.rank_zero:TPU available: False, using: 0 TPU cores\n",
            "INFO: HPU available: False, using: 0 HPUs\n",
            "INFO:lightning.pytorch.utilities.rank_zero:HPU available: False, using: 0 HPUs\n",
            "INFO: LOCAL_RANK: 0 - CUDA_VISIBLE_DEVICES: [0]\n",
            "INFO:lightning.pytorch.accelerators.cuda:LOCAL_RANK: 0 - CUDA_VISIBLE_DEVICES: [0]\n",
            "INFO: \n",
            "  | Name      | Type             | Params | Mode \n",
            "-------------------------------------------------------\n",
            "0 | embedding | Embedding        | 200 K  | train\n",
            "1 | lstm      | LSTM             | 5.7 M  | train\n",
            "2 | dropout   | Dropout          | 0      | train\n",
            "3 | fc        | Linear           | 513 K  | train\n",
            "4 | criterion | CrossEntropyLoss | 0      | train\n",
            "-------------------------------------------------------\n",
            "6.4 M     Trainable params\n",
            "0         Non-trainable params\n",
            "6.4 M     Total params\n",
            "25.511    Total estimated model params size (MB)\n",
            "5         Modules in train mode\n",
            "0         Modules in eval mode\n",
            "INFO:lightning.pytorch.callbacks.model_summary:\n",
            "  | Name      | Type             | Params | Mode \n",
            "-------------------------------------------------------\n",
            "0 | embedding | Embedding        | 200 K  | train\n",
            "1 | lstm      | LSTM             | 5.7 M  | train\n",
            "2 | dropout   | Dropout          | 0      | train\n",
            "3 | fc        | Linear           | 513 K  | train\n",
            "4 | criterion | CrossEntropyLoss | 0      | train\n",
            "-------------------------------------------------------\n",
            "6.4 M     Trainable params\n",
            "0         Non-trainable params\n",
            "6.4 M     Total params\n",
            "25.511    Total estimated model params size (MB)\n",
            "5         Modules in train mode\n",
            "0         Modules in eval mode\n"
          ]
        },
        {
          "output_type": "display_data",
          "data": {
            "text/plain": [
              "Training: |          | 0/? [00:00<?, ?it/s]"
            ],
            "application/vnd.jupyter.widget-view+json": {
              "version_major": 2,
              "version_minor": 0,
              "model_id": "5b5ce0c2917042138151d4cc87625613"
            }
          },
          "metadata": {}
        },
        {
          "output_type": "stream",
          "name": "stderr",
          "text": [
            "INFO: `Trainer.fit` stopped: `max_epochs=10` reached.\n",
            "INFO:lightning.pytorch.utilities.rank_zero:`Trainer.fit` stopped: `max_epochs=10` reached.\n"
          ]
        }
      ],
      "source": [
        "trainer = L.Trainer(\n",
        "    max_epochs=10,\n",
        "    deterministic=True\n",
        ")\n",
        "model = LSTM(vocab_size, embedding_dim, hidden_dim, num_layers, dropout_rate, lr, criterion)\n",
        "\n",
        "pantip_train_dataset = TextDataset(pantip_train_text, sp_pantip)\n",
        "pantip_train_loader = DataLoader(pantip_train_dataset, batch_size = train_batch_size, shuffle = True)\n",
        "\n",
        "pantip_test_dataset = TextDataset(pantip_test_text, sp_pantip)\n",
        "pantip_test_loader = DataLoader(pantip_test_dataset, batch_size = test_batch_size, shuffle = False)\n",
        "\n",
        "pam_train_dataset = TextDataset(pam_train_text, sp_pantip)\n",
        "pam_train_loader = DataLoader(pam_train_dataset, batch_size = train_batch_size, shuffle = True)\n",
        "\n",
        "pam_test_dataset = TextDataset(pam_test_text, sp_pantip)\n",
        "pam_test_loader = DataLoader(pam_test_dataset, batch_size = test_batch_size, shuffle = False)\n",
        "\n",
        "trainer.fit(model, train_dataloaders=pam_train_loader)"
      ]
    },
    {
      "cell_type": "code",
      "execution_count": null,
      "metadata": {
        "id": "f_LhF7w7Lxwo",
        "colab": {
          "base_uri": "https://localhost:8080/",
          "height": 153,
          "referenced_widgets": [
            "7271e418493043638ac590a19e013471",
            "586e057e21f740c0a018e8b7dd1d9430",
            "7b0648b0e6914b7a9c36620e0ace1037",
            "e9d05cd631724554abe4603723332cf0",
            "77fb48dc048b4398b709101ad461471c",
            "80ba118194284eb08c2aa24827bde958",
            "7fe1ad43faa44debb01bdf5c5bc2a728",
            "fceb76d7aaec4614b2bd9e7dcfd8e280",
            "6684f79a3a8b4c019afe016de9ecc990",
            "278305404bc64394a1a9b2fb017f2818",
            "d107e6c27250403c9b988bb118c44240"
          ]
        },
        "outputId": "5cc81384-967a-454f-c064-dcbedfa27985"
      },
      "outputs": [
        {
          "output_type": "stream",
          "name": "stderr",
          "text": [
            "INFO: LOCAL_RANK: 0 - CUDA_VISIBLE_DEVICES: [0]\n",
            "INFO:lightning.pytorch.accelerators.cuda:LOCAL_RANK: 0 - CUDA_VISIBLE_DEVICES: [0]\n"
          ]
        },
        {
          "output_type": "display_data",
          "data": {
            "text/plain": [
              "Testing: |          | 0/? [00:00<?, ?it/s]"
            ],
            "application/vnd.jupyter.widget-view+json": {
              "version_major": 2,
              "version_minor": 0,
              "model_id": "7271e418493043638ac590a19e013471"
            }
          },
          "metadata": {}
        },
        {
          "output_type": "stream",
          "name": "stdout",
          "text": [
            "Perplexity on Pantip train set is:\t6520.157483850194\n",
            "Perplexity on Pra apai manee train set is:\t40.525696117798105\n",
            "Perplexity on Pantip test set is:\t5597.954359431243\n",
            "Perplexity on Pra apai manee test set is:\t45.73927222308066\n"
          ]
        }
      ],
      "source": [
        "test_result = trainer.test(model, dataloaders=[pantip_train_loader, pam_train_loader, pantip_test_loader,pam_test_loader], verbose=False)\n",
        "\n",
        "print(f\"Perplexity on Pantip train set is:\\t{np.exp(test_result[0]['test_loss/dataloader_idx_0'])}\")\n",
        "print(f\"Perplexity on Pra apai manee train set is:\\t{np.exp(test_result[1]['test_loss/dataloader_idx_1'])}\")\n",
        "print(f\"Perplexity on Pantip test set is:\\t{np.exp(test_result[2]['test_loss/dataloader_idx_2'])}\")\n",
        "print(f\"Perplexity on Pra apai manee test set is:\\t{np.exp(test_result[3]['test_loss/dataloader_idx_3'])}\")"
      ]
    },
    {
      "cell_type": "markdown",
      "metadata": {
        "id": "apk9crJjMLoW"
      },
      "source": [
        "<a name=\"no4\"></a>\n",
        "#### 4. Training on Pra apai manee data with Pra apai manee tokenizer\n",
        "\n",
        "\n"
      ]
    },
    {
      "cell_type": "code",
      "execution_count": null,
      "metadata": {
        "id": "_G7GMBIKLzGK",
        "colab": {
          "base_uri": "https://localhost:8080/",
          "height": 743,
          "referenced_widgets": [
            "88a6f3794b55483fbf53f0126ee65de2",
            "5d8ed1eb07864635be5c02d112c428dc",
            "5dd2634516804c7da66d9906d0368b10",
            "9575b286fa444393a7a90aac09646f83",
            "0199520f21ac4c899c5ff98a8e809fb1",
            "2c08e3df8880438db64ef1216bc9d895",
            "90fd789845f4429e80f0f0975b80e3f3",
            "e6c9aeb638124979aaef497e148e1473",
            "082cb811c17d4deb88ae92469ae5951c",
            "0c04a1ce02444494b9006ad8744f4558",
            "b80f2244ab1546aaa9c4d0fcdcab4b98"
          ]
        },
        "outputId": "cf2bd5fb-98fa-498f-b04c-b447ba1d4bb9"
      },
      "outputs": [
        {
          "output_type": "stream",
          "name": "stderr",
          "text": [
            "INFO: GPU available: True (cuda), used: True\n",
            "INFO:lightning.pytorch.utilities.rank_zero:GPU available: True (cuda), used: True\n",
            "INFO: TPU available: False, using: 0 TPU cores\n",
            "INFO:lightning.pytorch.utilities.rank_zero:TPU available: False, using: 0 TPU cores\n",
            "INFO: HPU available: False, using: 0 HPUs\n",
            "INFO:lightning.pytorch.utilities.rank_zero:HPU available: False, using: 0 HPUs\n",
            "INFO: LOCAL_RANK: 0 - CUDA_VISIBLE_DEVICES: [0]\n",
            "INFO:lightning.pytorch.accelerators.cuda:LOCAL_RANK: 0 - CUDA_VISIBLE_DEVICES: [0]\n",
            "INFO: \n",
            "  | Name      | Type             | Params | Mode \n",
            "-------------------------------------------------------\n",
            "0 | embedding | Embedding        | 200 K  | train\n",
            "1 | lstm      | LSTM             | 5.7 M  | train\n",
            "2 | dropout   | Dropout          | 0      | train\n",
            "3 | fc        | Linear           | 513 K  | train\n",
            "4 | criterion | CrossEntropyLoss | 0      | train\n",
            "-------------------------------------------------------\n",
            "6.4 M     Trainable params\n",
            "0         Non-trainable params\n",
            "6.4 M     Total params\n",
            "25.511    Total estimated model params size (MB)\n",
            "5         Modules in train mode\n",
            "0         Modules in eval mode\n",
            "INFO:lightning.pytorch.callbacks.model_summary:\n",
            "  | Name      | Type             | Params | Mode \n",
            "-------------------------------------------------------\n",
            "0 | embedding | Embedding        | 200 K  | train\n",
            "1 | lstm      | LSTM             | 5.7 M  | train\n",
            "2 | dropout   | Dropout          | 0      | train\n",
            "3 | fc        | Linear           | 513 K  | train\n",
            "4 | criterion | CrossEntropyLoss | 0      | train\n",
            "-------------------------------------------------------\n",
            "6.4 M     Trainable params\n",
            "0         Non-trainable params\n",
            "6.4 M     Total params\n",
            "25.511    Total estimated model params size (MB)\n",
            "5         Modules in train mode\n",
            "0         Modules in eval mode\n"
          ]
        },
        {
          "output_type": "display_data",
          "data": {
            "text/plain": [
              "Training: |          | 0/? [00:00<?, ?it/s]"
            ],
            "application/vnd.jupyter.widget-view+json": {
              "version_major": 2,
              "version_minor": 0,
              "model_id": "88a6f3794b55483fbf53f0126ee65de2"
            }
          },
          "metadata": {}
        },
        {
          "output_type": "stream",
          "name": "stderr",
          "text": [
            "INFO: `Trainer.fit` stopped: `max_epochs=10` reached.\n",
            "INFO:lightning.pytorch.utilities.rank_zero:`Trainer.fit` stopped: `max_epochs=10` reached.\n"
          ]
        }
      ],
      "source": [
        "trainer = L.Trainer(\n",
        "    max_epochs=10,\n",
        "    deterministic=True\n",
        ")\n",
        "model = LSTM(vocab_size, embedding_dim, hidden_dim, num_layers, dropout_rate, lr, criterion)\n",
        "\n",
        "pantip_train_dataset = TextDataset(pantip_train_text, sp_pam)\n",
        "pantip_train_loader = DataLoader(pantip_train_dataset, batch_size = train_batch_size, shuffle = True)\n",
        "\n",
        "pantip_test_dataset = TextDataset(pantip_test_text, sp_pam)\n",
        "pantip_test_loader = DataLoader(pantip_test_dataset, batch_size = test_batch_size, shuffle = False)\n",
        "\n",
        "pam_train_dataset = TextDataset(pam_train_text, sp_pam)\n",
        "pam_train_loader = DataLoader(pam_train_dataset, batch_size = train_batch_size, shuffle = True)\n",
        "\n",
        "pam_test_dataset = TextDataset(pam_test_text, sp_pam)\n",
        "pam_test_loader = DataLoader(pam_test_dataset, batch_size = test_batch_size, shuffle = False)\n",
        "\n",
        "trainer.fit(model, train_dataloaders=pam_train_loader)"
      ]
    },
    {
      "cell_type": "code",
      "execution_count": null,
      "metadata": {
        "id": "9H753o_JMRFw",
        "colab": {
          "base_uri": "https://localhost:8080/",
          "height": 153,
          "referenced_widgets": [
            "9b4c981b032d41d0a4edc2cd9b7b15d5",
            "5ba9a51c17484942ad0e816960c388a7",
            "a748d5db56df45aa9eeef20b52a771d9",
            "ef4ffd0b72ee416591bc98a190c9a490",
            "d024a82435254798bc4f9e418b015efd",
            "3f6b512145ab4a81b500a77df829fca4",
            "fa0d407e34d545ae9e4119638a49f8b3",
            "2f10915d0a4041d6b2e9e8c944785f95",
            "b6a54874ffdf4c7ebfa403431cdf65cf",
            "3afa89c4af9d446fb2e1574af3a67bf5",
            "0879c577f2044637b6fb9a88699c4a0e"
          ]
        },
        "outputId": "1b16864e-401a-46ba-aef3-69bfeb959234"
      },
      "outputs": [
        {
          "output_type": "stream",
          "name": "stderr",
          "text": [
            "INFO: LOCAL_RANK: 0 - CUDA_VISIBLE_DEVICES: [0]\n",
            "INFO:lightning.pytorch.accelerators.cuda:LOCAL_RANK: 0 - CUDA_VISIBLE_DEVICES: [0]\n"
          ]
        },
        {
          "output_type": "display_data",
          "data": {
            "text/plain": [
              "Testing: |          | 0/? [00:00<?, ?it/s]"
            ],
            "application/vnd.jupyter.widget-view+json": {
              "version_major": 2,
              "version_minor": 0,
              "model_id": "9b4c981b032d41d0a4edc2cd9b7b15d5"
            }
          },
          "metadata": {}
        },
        {
          "output_type": "stream",
          "name": "stdout",
          "text": [
            "Perplexity on Pantip train set is:\t955.0051635110201\n",
            "Perplexity on Pra apai manee train set is:\t93.53121856971529\n",
            "Perplexity on Pantip test set is:\t938.8484614262105\n",
            "Perplexity on Pra apai manee test set is:\t112.77532744585123\n"
          ]
        }
      ],
      "source": [
        "test_result = trainer.test(model, dataloaders=[pantip_train_loader, pam_train_loader, pantip_test_loader,pam_test_loader], verbose=False)\n",
        "\n",
        "print(f\"Perplexity on Pantip train set is:\\t{np.exp(test_result[0]['test_loss/dataloader_idx_0'])}\")\n",
        "print(f\"Perplexity on Pra apai manee train set is:\\t{np.exp(test_result[1]['test_loss/dataloader_idx_1'])}\")\n",
        "print(f\"Perplexity on Pantip test set is:\\t{np.exp(test_result[2]['test_loss/dataloader_idx_2'])}\")\n",
        "print(f\"Perplexity on Pra apai manee test set is:\\t{np.exp(test_result[3]['test_loss/dataloader_idx_3'])}\")"
      ]
    },
    {
      "cell_type": "markdown",
      "metadata": {
        "id": "en9Lmmj4dZ-1"
      },
      "source": [
        "#### To answer\n",
        "\n",
        "The perplexity numbers should indicate that:\n",
        "1. Both LM overfits on Pra apai manee data and performs really bad on Pantip data.\n",
        "2. However using the Pra apai manee tokenizer (no. [4](#no4)) results in a  better generalization than the Pantip tokenizer(no. [3](#no3)).\n",
        "\n",
        "Try and come up with some reasons for the results above. <br>"
      ]
    },
    {
      "cell_type": "markdown",
      "source": [
        "1. ความเข้ากันของคำศัพท์ในโดเมนเฉพาะ\n",
        "\n",
        "  Tokenizer ของพระอภัยมณีได้รับการฝึกฝนกับคำศัพท์ในโดเมนเฉพาะที่มีความละเอียดและเหมาะสมกับลักษณะภาษาวรรณกรรมมากกว่า ในขณะที่ Tokenizer ของ Pantip อาจไม่สามารถรองรับโครงสร้างและคำศัพท์ในลักษณะเดียวกันได้\n",
        "  การใช้ Tokenizer ของพระอภัยมณีช่วยให้ LM สามารถจับความหมายและบริบทของข้อมูลพระอภัยมณีได้แม่นยำกว่า\n",
        "\n",
        "2. ความสัมพันธ์ของคำศัพท์ระหว่างสองชุดข้อมูล\n",
        "\n",
        "  ถึงแม้ชุดข้อมูล Pantip และพระอภัยมณีจะมีคำศัพท์บางส่วนที่ไม่ตรงกัน แต่ Tokenizer ของพระอภัยมณีอาจสามารถจับคำหรือโครงสร้างบางอย่างที่มีความใกล้เคียงกันได้มากกว่า Tokenizer ของ Pantip"
      ],
      "metadata": {
        "id": "8Ul1xVV90SKx"
      }
    }
  ],
  "metadata": {
    "accelerator": "GPU",
    "colab": {
      "gpuType": "T4",
      "provenance": [],
      "include_colab_link": true
    },
    "kernelspec": {
      "display_name": "Python 3",
      "name": "python3"
    },
    "language_info": {
      "name": "python"
    },
    "widgets": {
      "application/vnd.jupyter.widget-state+json": {
        "8750dcadaa2c47c8b271a2b3ab0eaf4c": {
          "model_module": "@jupyter-widgets/controls",
          "model_name": "HBoxModel",
          "model_module_version": "1.5.0",
          "state": {
            "_dom_classes": [],
            "_model_module": "@jupyter-widgets/controls",
            "_model_module_version": "1.5.0",
            "_model_name": "HBoxModel",
            "_view_count": null,
            "_view_module": "@jupyter-widgets/controls",
            "_view_module_version": "1.5.0",
            "_view_name": "HBoxView",
            "box_style": "",
            "children": [
              "IPY_MODEL_e9725b7ffd614b999f974ed6db6e0fa4",
              "IPY_MODEL_a696d535a112436fb4a7f8fbe784ac0a",
              "IPY_MODEL_2038770552ab4fa28162e1a1c139f411"
            ],
            "layout": "IPY_MODEL_cb1d76c59d354b128b51e2e680231cf0"
          }
        },
        "e9725b7ffd614b999f974ed6db6e0fa4": {
          "model_module": "@jupyter-widgets/controls",
          "model_name": "HTMLModel",
          "model_module_version": "1.5.0",
          "state": {
            "_dom_classes": [],
            "_model_module": "@jupyter-widgets/controls",
            "_model_module_version": "1.5.0",
            "_model_name": "HTMLModel",
            "_view_count": null,
            "_view_module": "@jupyter-widgets/controls",
            "_view_module_version": "1.5.0",
            "_view_name": "HTMLView",
            "description": "",
            "description_tooltip": null,
            "layout": "IPY_MODEL_70d88a5e2c0a469ea552c8f40b37a646",
            "placeholder": "​",
            "style": "IPY_MODEL_bf96575731a64429b10e715590123d24",
            "value": "Epoch 9: 100%"
          }
        },
        "a696d535a112436fb4a7f8fbe784ac0a": {
          "model_module": "@jupyter-widgets/controls",
          "model_name": "FloatProgressModel",
          "model_module_version": "1.5.0",
          "state": {
            "_dom_classes": [],
            "_model_module": "@jupyter-widgets/controls",
            "_model_module_version": "1.5.0",
            "_model_name": "FloatProgressModel",
            "_view_count": null,
            "_view_module": "@jupyter-widgets/controls",
            "_view_module_version": "1.5.0",
            "_view_name": "ProgressView",
            "bar_style": "success",
            "description": "",
            "description_tooltip": null,
            "layout": "IPY_MODEL_a32e95783d4747be875d636062936dd9",
            "max": 45,
            "min": 0,
            "orientation": "horizontal",
            "style": "IPY_MODEL_a949ba55489f413ba76d06a1dcb822c7",
            "value": 45
          }
        },
        "2038770552ab4fa28162e1a1c139f411": {
          "model_module": "@jupyter-widgets/controls",
          "model_name": "HTMLModel",
          "model_module_version": "1.5.0",
          "state": {
            "_dom_classes": [],
            "_model_module": "@jupyter-widgets/controls",
            "_model_module_version": "1.5.0",
            "_model_name": "HTMLModel",
            "_view_count": null,
            "_view_module": "@jupyter-widgets/controls",
            "_view_module_version": "1.5.0",
            "_view_name": "HTMLView",
            "description": "",
            "description_tooltip": null,
            "layout": "IPY_MODEL_11d9a5062f2f46ffb3988d1fe4fe7319",
            "placeholder": "​",
            "style": "IPY_MODEL_ff63838a361b45d1b19bf5c3b5854df1",
            "value": " 45/45 [00:04&lt;00:00,  9.01it/s, v_num=0]"
          }
        },
        "cb1d76c59d354b128b51e2e680231cf0": {
          "model_module": "@jupyter-widgets/base",
          "model_name": "LayoutModel",
          "model_module_version": "1.2.0",
          "state": {
            "_model_module": "@jupyter-widgets/base",
            "_model_module_version": "1.2.0",
            "_model_name": "LayoutModel",
            "_view_count": null,
            "_view_module": "@jupyter-widgets/base",
            "_view_module_version": "1.2.0",
            "_view_name": "LayoutView",
            "align_content": null,
            "align_items": null,
            "align_self": null,
            "border": null,
            "bottom": null,
            "display": "inline-flex",
            "flex": null,
            "flex_flow": "row wrap",
            "grid_area": null,
            "grid_auto_columns": null,
            "grid_auto_flow": null,
            "grid_auto_rows": null,
            "grid_column": null,
            "grid_gap": null,
            "grid_row": null,
            "grid_template_areas": null,
            "grid_template_columns": null,
            "grid_template_rows": null,
            "height": null,
            "justify_content": null,
            "justify_items": null,
            "left": null,
            "margin": null,
            "max_height": null,
            "max_width": null,
            "min_height": null,
            "min_width": null,
            "object_fit": null,
            "object_position": null,
            "order": null,
            "overflow": null,
            "overflow_x": null,
            "overflow_y": null,
            "padding": null,
            "right": null,
            "top": null,
            "visibility": null,
            "width": "100%"
          }
        },
        "70d88a5e2c0a469ea552c8f40b37a646": {
          "model_module": "@jupyter-widgets/base",
          "model_name": "LayoutModel",
          "model_module_version": "1.2.0",
          "state": {
            "_model_module": "@jupyter-widgets/base",
            "_model_module_version": "1.2.0",
            "_model_name": "LayoutModel",
            "_view_count": null,
            "_view_module": "@jupyter-widgets/base",
            "_view_module_version": "1.2.0",
            "_view_name": "LayoutView",
            "align_content": null,
            "align_items": null,
            "align_self": null,
            "border": null,
            "bottom": null,
            "display": null,
            "flex": null,
            "flex_flow": null,
            "grid_area": null,
            "grid_auto_columns": null,
            "grid_auto_flow": null,
            "grid_auto_rows": null,
            "grid_column": null,
            "grid_gap": null,
            "grid_row": null,
            "grid_template_areas": null,
            "grid_template_columns": null,
            "grid_template_rows": null,
            "height": null,
            "justify_content": null,
            "justify_items": null,
            "left": null,
            "margin": null,
            "max_height": null,
            "max_width": null,
            "min_height": null,
            "min_width": null,
            "object_fit": null,
            "object_position": null,
            "order": null,
            "overflow": null,
            "overflow_x": null,
            "overflow_y": null,
            "padding": null,
            "right": null,
            "top": null,
            "visibility": null,
            "width": null
          }
        },
        "bf96575731a64429b10e715590123d24": {
          "model_module": "@jupyter-widgets/controls",
          "model_name": "DescriptionStyleModel",
          "model_module_version": "1.5.0",
          "state": {
            "_model_module": "@jupyter-widgets/controls",
            "_model_module_version": "1.5.0",
            "_model_name": "DescriptionStyleModel",
            "_view_count": null,
            "_view_module": "@jupyter-widgets/base",
            "_view_module_version": "1.2.0",
            "_view_name": "StyleView",
            "description_width": ""
          }
        },
        "a32e95783d4747be875d636062936dd9": {
          "model_module": "@jupyter-widgets/base",
          "model_name": "LayoutModel",
          "model_module_version": "1.2.0",
          "state": {
            "_model_module": "@jupyter-widgets/base",
            "_model_module_version": "1.2.0",
            "_model_name": "LayoutModel",
            "_view_count": null,
            "_view_module": "@jupyter-widgets/base",
            "_view_module_version": "1.2.0",
            "_view_name": "LayoutView",
            "align_content": null,
            "align_items": null,
            "align_self": null,
            "border": null,
            "bottom": null,
            "display": null,
            "flex": "2",
            "flex_flow": null,
            "grid_area": null,
            "grid_auto_columns": null,
            "grid_auto_flow": null,
            "grid_auto_rows": null,
            "grid_column": null,
            "grid_gap": null,
            "grid_row": null,
            "grid_template_areas": null,
            "grid_template_columns": null,
            "grid_template_rows": null,
            "height": null,
            "justify_content": null,
            "justify_items": null,
            "left": null,
            "margin": null,
            "max_height": null,
            "max_width": null,
            "min_height": null,
            "min_width": null,
            "object_fit": null,
            "object_position": null,
            "order": null,
            "overflow": null,
            "overflow_x": null,
            "overflow_y": null,
            "padding": null,
            "right": null,
            "top": null,
            "visibility": null,
            "width": null
          }
        },
        "a949ba55489f413ba76d06a1dcb822c7": {
          "model_module": "@jupyter-widgets/controls",
          "model_name": "ProgressStyleModel",
          "model_module_version": "1.5.0",
          "state": {
            "_model_module": "@jupyter-widgets/controls",
            "_model_module_version": "1.5.0",
            "_model_name": "ProgressStyleModel",
            "_view_count": null,
            "_view_module": "@jupyter-widgets/base",
            "_view_module_version": "1.2.0",
            "_view_name": "StyleView",
            "bar_color": null,
            "description_width": ""
          }
        },
        "11d9a5062f2f46ffb3988d1fe4fe7319": {
          "model_module": "@jupyter-widgets/base",
          "model_name": "LayoutModel",
          "model_module_version": "1.2.0",
          "state": {
            "_model_module": "@jupyter-widgets/base",
            "_model_module_version": "1.2.0",
            "_model_name": "LayoutModel",
            "_view_count": null,
            "_view_module": "@jupyter-widgets/base",
            "_view_module_version": "1.2.0",
            "_view_name": "LayoutView",
            "align_content": null,
            "align_items": null,
            "align_self": null,
            "border": null,
            "bottom": null,
            "display": null,
            "flex": null,
            "flex_flow": null,
            "grid_area": null,
            "grid_auto_columns": null,
            "grid_auto_flow": null,
            "grid_auto_rows": null,
            "grid_column": null,
            "grid_gap": null,
            "grid_row": null,
            "grid_template_areas": null,
            "grid_template_columns": null,
            "grid_template_rows": null,
            "height": null,
            "justify_content": null,
            "justify_items": null,
            "left": null,
            "margin": null,
            "max_height": null,
            "max_width": null,
            "min_height": null,
            "min_width": null,
            "object_fit": null,
            "object_position": null,
            "order": null,
            "overflow": null,
            "overflow_x": null,
            "overflow_y": null,
            "padding": null,
            "right": null,
            "top": null,
            "visibility": null,
            "width": null
          }
        },
        "ff63838a361b45d1b19bf5c3b5854df1": {
          "model_module": "@jupyter-widgets/controls",
          "model_name": "DescriptionStyleModel",
          "model_module_version": "1.5.0",
          "state": {
            "_model_module": "@jupyter-widgets/controls",
            "_model_module_version": "1.5.0",
            "_model_name": "DescriptionStyleModel",
            "_view_count": null,
            "_view_module": "@jupyter-widgets/base",
            "_view_module_version": "1.2.0",
            "_view_name": "StyleView",
            "description_width": ""
          }
        },
        "524bb6c7b7d8415199ee79668c52086f": {
          "model_module": "@jupyter-widgets/controls",
          "model_name": "HBoxModel",
          "model_module_version": "1.5.0",
          "state": {
            "_dom_classes": [],
            "_model_module": "@jupyter-widgets/controls",
            "_model_module_version": "1.5.0",
            "_model_name": "HBoxModel",
            "_view_count": null,
            "_view_module": "@jupyter-widgets/controls",
            "_view_module_version": "1.5.0",
            "_view_name": "HBoxView",
            "box_style": "",
            "children": [
              "IPY_MODEL_11177e604d6f43cea364a385098005da",
              "IPY_MODEL_5a0c3f9add854345a286ce02b05a6dee",
              "IPY_MODEL_84a271ce1e8641ba9158cfa95d9ea99b"
            ],
            "layout": "IPY_MODEL_488551bf63f3497b97336a6d79ed570e"
          }
        },
        "11177e604d6f43cea364a385098005da": {
          "model_module": "@jupyter-widgets/controls",
          "model_name": "HTMLModel",
          "model_module_version": "1.5.0",
          "state": {
            "_dom_classes": [],
            "_model_module": "@jupyter-widgets/controls",
            "_model_module_version": "1.5.0",
            "_model_name": "HTMLModel",
            "_view_count": null,
            "_view_module": "@jupyter-widgets/controls",
            "_view_module_version": "1.5.0",
            "_view_name": "HTMLView",
            "description": "",
            "description_tooltip": null,
            "layout": "IPY_MODEL_21de3ed1006c48ed894f908a8ac93d11",
            "placeholder": "​",
            "style": "IPY_MODEL_102871155bf34fc0941411fec9be736a",
            "value": "Testing DataLoader 3: 100%"
          }
        },
        "5a0c3f9add854345a286ce02b05a6dee": {
          "model_module": "@jupyter-widgets/controls",
          "model_name": "FloatProgressModel",
          "model_module_version": "1.5.0",
          "state": {
            "_dom_classes": [],
            "_model_module": "@jupyter-widgets/controls",
            "_model_module_version": "1.5.0",
            "_model_name": "FloatProgressModel",
            "_view_count": null,
            "_view_module": "@jupyter-widgets/controls",
            "_view_module_version": "1.5.0",
            "_view_name": "ProgressView",
            "bar_style": "success",
            "description": "",
            "description_tooltip": null,
            "layout": "IPY_MODEL_9452428187654e6688d49931d1b9a67b",
            "max": 8,
            "min": 0,
            "orientation": "horizontal",
            "style": "IPY_MODEL_4ddf22b4df82440999efc3452f092703",
            "value": 8
          }
        },
        "84a271ce1e8641ba9158cfa95d9ea99b": {
          "model_module": "@jupyter-widgets/controls",
          "model_name": "HTMLModel",
          "model_module_version": "1.5.0",
          "state": {
            "_dom_classes": [],
            "_model_module": "@jupyter-widgets/controls",
            "_model_module_version": "1.5.0",
            "_model_name": "HTMLModel",
            "_view_count": null,
            "_view_module": "@jupyter-widgets/controls",
            "_view_module_version": "1.5.0",
            "_view_name": "HTMLView",
            "description": "",
            "description_tooltip": null,
            "layout": "IPY_MODEL_ea58ab56802b4f69aaecaa35ca92a967",
            "placeholder": "​",
            "style": "IPY_MODEL_7a0184f35c67450a97d848a1f2598de9",
            "value": " 8/8 [00:00&lt;00:00, 12.40it/s]"
          }
        },
        "488551bf63f3497b97336a6d79ed570e": {
          "model_module": "@jupyter-widgets/base",
          "model_name": "LayoutModel",
          "model_module_version": "1.2.0",
          "state": {
            "_model_module": "@jupyter-widgets/base",
            "_model_module_version": "1.2.0",
            "_model_name": "LayoutModel",
            "_view_count": null,
            "_view_module": "@jupyter-widgets/base",
            "_view_module_version": "1.2.0",
            "_view_name": "LayoutView",
            "align_content": null,
            "align_items": null,
            "align_self": null,
            "border": null,
            "bottom": null,
            "display": "inline-flex",
            "flex": null,
            "flex_flow": "row wrap",
            "grid_area": null,
            "grid_auto_columns": null,
            "grid_auto_flow": null,
            "grid_auto_rows": null,
            "grid_column": null,
            "grid_gap": null,
            "grid_row": null,
            "grid_template_areas": null,
            "grid_template_columns": null,
            "grid_template_rows": null,
            "height": null,
            "justify_content": null,
            "justify_items": null,
            "left": null,
            "margin": null,
            "max_height": null,
            "max_width": null,
            "min_height": null,
            "min_width": null,
            "object_fit": null,
            "object_position": null,
            "order": null,
            "overflow": null,
            "overflow_x": null,
            "overflow_y": null,
            "padding": null,
            "right": null,
            "top": null,
            "visibility": null,
            "width": "100%"
          }
        },
        "21de3ed1006c48ed894f908a8ac93d11": {
          "model_module": "@jupyter-widgets/base",
          "model_name": "LayoutModel",
          "model_module_version": "1.2.0",
          "state": {
            "_model_module": "@jupyter-widgets/base",
            "_model_module_version": "1.2.0",
            "_model_name": "LayoutModel",
            "_view_count": null,
            "_view_module": "@jupyter-widgets/base",
            "_view_module_version": "1.2.0",
            "_view_name": "LayoutView",
            "align_content": null,
            "align_items": null,
            "align_self": null,
            "border": null,
            "bottom": null,
            "display": null,
            "flex": null,
            "flex_flow": null,
            "grid_area": null,
            "grid_auto_columns": null,
            "grid_auto_flow": null,
            "grid_auto_rows": null,
            "grid_column": null,
            "grid_gap": null,
            "grid_row": null,
            "grid_template_areas": null,
            "grid_template_columns": null,
            "grid_template_rows": null,
            "height": null,
            "justify_content": null,
            "justify_items": null,
            "left": null,
            "margin": null,
            "max_height": null,
            "max_width": null,
            "min_height": null,
            "min_width": null,
            "object_fit": null,
            "object_position": null,
            "order": null,
            "overflow": null,
            "overflow_x": null,
            "overflow_y": null,
            "padding": null,
            "right": null,
            "top": null,
            "visibility": null,
            "width": null
          }
        },
        "102871155bf34fc0941411fec9be736a": {
          "model_module": "@jupyter-widgets/controls",
          "model_name": "DescriptionStyleModel",
          "model_module_version": "1.5.0",
          "state": {
            "_model_module": "@jupyter-widgets/controls",
            "_model_module_version": "1.5.0",
            "_model_name": "DescriptionStyleModel",
            "_view_count": null,
            "_view_module": "@jupyter-widgets/base",
            "_view_module_version": "1.2.0",
            "_view_name": "StyleView",
            "description_width": ""
          }
        },
        "9452428187654e6688d49931d1b9a67b": {
          "model_module": "@jupyter-widgets/base",
          "model_name": "LayoutModel",
          "model_module_version": "1.2.0",
          "state": {
            "_model_module": "@jupyter-widgets/base",
            "_model_module_version": "1.2.0",
            "_model_name": "LayoutModel",
            "_view_count": null,
            "_view_module": "@jupyter-widgets/base",
            "_view_module_version": "1.2.0",
            "_view_name": "LayoutView",
            "align_content": null,
            "align_items": null,
            "align_self": null,
            "border": null,
            "bottom": null,
            "display": null,
            "flex": "2",
            "flex_flow": null,
            "grid_area": null,
            "grid_auto_columns": null,
            "grid_auto_flow": null,
            "grid_auto_rows": null,
            "grid_column": null,
            "grid_gap": null,
            "grid_row": null,
            "grid_template_areas": null,
            "grid_template_columns": null,
            "grid_template_rows": null,
            "height": null,
            "justify_content": null,
            "justify_items": null,
            "left": null,
            "margin": null,
            "max_height": null,
            "max_width": null,
            "min_height": null,
            "min_width": null,
            "object_fit": null,
            "object_position": null,
            "order": null,
            "overflow": null,
            "overflow_x": null,
            "overflow_y": null,
            "padding": null,
            "right": null,
            "top": null,
            "visibility": null,
            "width": null
          }
        },
        "4ddf22b4df82440999efc3452f092703": {
          "model_module": "@jupyter-widgets/controls",
          "model_name": "ProgressStyleModel",
          "model_module_version": "1.5.0",
          "state": {
            "_model_module": "@jupyter-widgets/controls",
            "_model_module_version": "1.5.0",
            "_model_name": "ProgressStyleModel",
            "_view_count": null,
            "_view_module": "@jupyter-widgets/base",
            "_view_module_version": "1.2.0",
            "_view_name": "StyleView",
            "bar_color": null,
            "description_width": ""
          }
        },
        "ea58ab56802b4f69aaecaa35ca92a967": {
          "model_module": "@jupyter-widgets/base",
          "model_name": "LayoutModel",
          "model_module_version": "1.2.0",
          "state": {
            "_model_module": "@jupyter-widgets/base",
            "_model_module_version": "1.2.0",
            "_model_name": "LayoutModel",
            "_view_count": null,
            "_view_module": "@jupyter-widgets/base",
            "_view_module_version": "1.2.0",
            "_view_name": "LayoutView",
            "align_content": null,
            "align_items": null,
            "align_self": null,
            "border": null,
            "bottom": null,
            "display": null,
            "flex": null,
            "flex_flow": null,
            "grid_area": null,
            "grid_auto_columns": null,
            "grid_auto_flow": null,
            "grid_auto_rows": null,
            "grid_column": null,
            "grid_gap": null,
            "grid_row": null,
            "grid_template_areas": null,
            "grid_template_columns": null,
            "grid_template_rows": null,
            "height": null,
            "justify_content": null,
            "justify_items": null,
            "left": null,
            "margin": null,
            "max_height": null,
            "max_width": null,
            "min_height": null,
            "min_width": null,
            "object_fit": null,
            "object_position": null,
            "order": null,
            "overflow": null,
            "overflow_x": null,
            "overflow_y": null,
            "padding": null,
            "right": null,
            "top": null,
            "visibility": null,
            "width": null
          }
        },
        "7a0184f35c67450a97d848a1f2598de9": {
          "model_module": "@jupyter-widgets/controls",
          "model_name": "DescriptionStyleModel",
          "model_module_version": "1.5.0",
          "state": {
            "_model_module": "@jupyter-widgets/controls",
            "_model_module_version": "1.5.0",
            "_model_name": "DescriptionStyleModel",
            "_view_count": null,
            "_view_module": "@jupyter-widgets/base",
            "_view_module_version": "1.2.0",
            "_view_name": "StyleView",
            "description_width": ""
          }
        },
        "aff24c332c344e0f88fef27804c82a75": {
          "model_module": "@jupyter-widgets/controls",
          "model_name": "HBoxModel",
          "model_module_version": "1.5.0",
          "state": {
            "_dom_classes": [],
            "_model_module": "@jupyter-widgets/controls",
            "_model_module_version": "1.5.0",
            "_model_name": "HBoxModel",
            "_view_count": null,
            "_view_module": "@jupyter-widgets/controls",
            "_view_module_version": "1.5.0",
            "_view_name": "HBoxView",
            "box_style": "",
            "children": [
              "IPY_MODEL_f96f1bfa23864acebaac34d4499b85ea",
              "IPY_MODEL_4671eb53bb3d4427a41c94687eed1150",
              "IPY_MODEL_d68208f9e49e41c4b93e1dfd3198f0e6"
            ],
            "layout": "IPY_MODEL_4a0cd48b92b04517a47ce83966e4f322"
          }
        },
        "f96f1bfa23864acebaac34d4499b85ea": {
          "model_module": "@jupyter-widgets/controls",
          "model_name": "HTMLModel",
          "model_module_version": "1.5.0",
          "state": {
            "_dom_classes": [],
            "_model_module": "@jupyter-widgets/controls",
            "_model_module_version": "1.5.0",
            "_model_name": "HTMLModel",
            "_view_count": null,
            "_view_module": "@jupyter-widgets/controls",
            "_view_module_version": "1.5.0",
            "_view_name": "HTMLView",
            "description": "",
            "description_tooltip": null,
            "layout": "IPY_MODEL_34f81e2b5c744b69a4e18357dec2bf2d",
            "placeholder": "​",
            "style": "IPY_MODEL_6f55879d4d084cc1954e590341e8dfba",
            "value": "Epoch 9: 100%"
          }
        },
        "4671eb53bb3d4427a41c94687eed1150": {
          "model_module": "@jupyter-widgets/controls",
          "model_name": "FloatProgressModel",
          "model_module_version": "1.5.0",
          "state": {
            "_dom_classes": [],
            "_model_module": "@jupyter-widgets/controls",
            "_model_module_version": "1.5.0",
            "_model_name": "FloatProgressModel",
            "_view_count": null,
            "_view_module": "@jupyter-widgets/controls",
            "_view_module_version": "1.5.0",
            "_view_name": "ProgressView",
            "bar_style": "success",
            "description": "",
            "description_tooltip": null,
            "layout": "IPY_MODEL_9e396ed9de8043bb993096740ea15c84",
            "max": 48,
            "min": 0,
            "orientation": "horizontal",
            "style": "IPY_MODEL_4ff771ed12fd492fbe3438945907cb7d",
            "value": 48
          }
        },
        "d68208f9e49e41c4b93e1dfd3198f0e6": {
          "model_module": "@jupyter-widgets/controls",
          "model_name": "HTMLModel",
          "model_module_version": "1.5.0",
          "state": {
            "_dom_classes": [],
            "_model_module": "@jupyter-widgets/controls",
            "_model_module_version": "1.5.0",
            "_model_name": "HTMLModel",
            "_view_count": null,
            "_view_module": "@jupyter-widgets/controls",
            "_view_module_version": "1.5.0",
            "_view_name": "HTMLView",
            "description": "",
            "description_tooltip": null,
            "layout": "IPY_MODEL_7d16fd743ed24521aba8c34a9d9025e9",
            "placeholder": "​",
            "style": "IPY_MODEL_0765a802fb8649489a24bc128d8b7479",
            "value": " 48/48 [00:05&lt;00:00,  8.49it/s, v_num=1]"
          }
        },
        "4a0cd48b92b04517a47ce83966e4f322": {
          "model_module": "@jupyter-widgets/base",
          "model_name": "LayoutModel",
          "model_module_version": "1.2.0",
          "state": {
            "_model_module": "@jupyter-widgets/base",
            "_model_module_version": "1.2.0",
            "_model_name": "LayoutModel",
            "_view_count": null,
            "_view_module": "@jupyter-widgets/base",
            "_view_module_version": "1.2.0",
            "_view_name": "LayoutView",
            "align_content": null,
            "align_items": null,
            "align_self": null,
            "border": null,
            "bottom": null,
            "display": "inline-flex",
            "flex": null,
            "flex_flow": "row wrap",
            "grid_area": null,
            "grid_auto_columns": null,
            "grid_auto_flow": null,
            "grid_auto_rows": null,
            "grid_column": null,
            "grid_gap": null,
            "grid_row": null,
            "grid_template_areas": null,
            "grid_template_columns": null,
            "grid_template_rows": null,
            "height": null,
            "justify_content": null,
            "justify_items": null,
            "left": null,
            "margin": null,
            "max_height": null,
            "max_width": null,
            "min_height": null,
            "min_width": null,
            "object_fit": null,
            "object_position": null,
            "order": null,
            "overflow": null,
            "overflow_x": null,
            "overflow_y": null,
            "padding": null,
            "right": null,
            "top": null,
            "visibility": null,
            "width": "100%"
          }
        },
        "34f81e2b5c744b69a4e18357dec2bf2d": {
          "model_module": "@jupyter-widgets/base",
          "model_name": "LayoutModel",
          "model_module_version": "1.2.0",
          "state": {
            "_model_module": "@jupyter-widgets/base",
            "_model_module_version": "1.2.0",
            "_model_name": "LayoutModel",
            "_view_count": null,
            "_view_module": "@jupyter-widgets/base",
            "_view_module_version": "1.2.0",
            "_view_name": "LayoutView",
            "align_content": null,
            "align_items": null,
            "align_self": null,
            "border": null,
            "bottom": null,
            "display": null,
            "flex": null,
            "flex_flow": null,
            "grid_area": null,
            "grid_auto_columns": null,
            "grid_auto_flow": null,
            "grid_auto_rows": null,
            "grid_column": null,
            "grid_gap": null,
            "grid_row": null,
            "grid_template_areas": null,
            "grid_template_columns": null,
            "grid_template_rows": null,
            "height": null,
            "justify_content": null,
            "justify_items": null,
            "left": null,
            "margin": null,
            "max_height": null,
            "max_width": null,
            "min_height": null,
            "min_width": null,
            "object_fit": null,
            "object_position": null,
            "order": null,
            "overflow": null,
            "overflow_x": null,
            "overflow_y": null,
            "padding": null,
            "right": null,
            "top": null,
            "visibility": null,
            "width": null
          }
        },
        "6f55879d4d084cc1954e590341e8dfba": {
          "model_module": "@jupyter-widgets/controls",
          "model_name": "DescriptionStyleModel",
          "model_module_version": "1.5.0",
          "state": {
            "_model_module": "@jupyter-widgets/controls",
            "_model_module_version": "1.5.0",
            "_model_name": "DescriptionStyleModel",
            "_view_count": null,
            "_view_module": "@jupyter-widgets/base",
            "_view_module_version": "1.2.0",
            "_view_name": "StyleView",
            "description_width": ""
          }
        },
        "9e396ed9de8043bb993096740ea15c84": {
          "model_module": "@jupyter-widgets/base",
          "model_name": "LayoutModel",
          "model_module_version": "1.2.0",
          "state": {
            "_model_module": "@jupyter-widgets/base",
            "_model_module_version": "1.2.0",
            "_model_name": "LayoutModel",
            "_view_count": null,
            "_view_module": "@jupyter-widgets/base",
            "_view_module_version": "1.2.0",
            "_view_name": "LayoutView",
            "align_content": null,
            "align_items": null,
            "align_self": null,
            "border": null,
            "bottom": null,
            "display": null,
            "flex": "2",
            "flex_flow": null,
            "grid_area": null,
            "grid_auto_columns": null,
            "grid_auto_flow": null,
            "grid_auto_rows": null,
            "grid_column": null,
            "grid_gap": null,
            "grid_row": null,
            "grid_template_areas": null,
            "grid_template_columns": null,
            "grid_template_rows": null,
            "height": null,
            "justify_content": null,
            "justify_items": null,
            "left": null,
            "margin": null,
            "max_height": null,
            "max_width": null,
            "min_height": null,
            "min_width": null,
            "object_fit": null,
            "object_position": null,
            "order": null,
            "overflow": null,
            "overflow_x": null,
            "overflow_y": null,
            "padding": null,
            "right": null,
            "top": null,
            "visibility": null,
            "width": null
          }
        },
        "4ff771ed12fd492fbe3438945907cb7d": {
          "model_module": "@jupyter-widgets/controls",
          "model_name": "ProgressStyleModel",
          "model_module_version": "1.5.0",
          "state": {
            "_model_module": "@jupyter-widgets/controls",
            "_model_module_version": "1.5.0",
            "_model_name": "ProgressStyleModel",
            "_view_count": null,
            "_view_module": "@jupyter-widgets/base",
            "_view_module_version": "1.2.0",
            "_view_name": "StyleView",
            "bar_color": null,
            "description_width": ""
          }
        },
        "7d16fd743ed24521aba8c34a9d9025e9": {
          "model_module": "@jupyter-widgets/base",
          "model_name": "LayoutModel",
          "model_module_version": "1.2.0",
          "state": {
            "_model_module": "@jupyter-widgets/base",
            "_model_module_version": "1.2.0",
            "_model_name": "LayoutModel",
            "_view_count": null,
            "_view_module": "@jupyter-widgets/base",
            "_view_module_version": "1.2.0",
            "_view_name": "LayoutView",
            "align_content": null,
            "align_items": null,
            "align_self": null,
            "border": null,
            "bottom": null,
            "display": null,
            "flex": null,
            "flex_flow": null,
            "grid_area": null,
            "grid_auto_columns": null,
            "grid_auto_flow": null,
            "grid_auto_rows": null,
            "grid_column": null,
            "grid_gap": null,
            "grid_row": null,
            "grid_template_areas": null,
            "grid_template_columns": null,
            "grid_template_rows": null,
            "height": null,
            "justify_content": null,
            "justify_items": null,
            "left": null,
            "margin": null,
            "max_height": null,
            "max_width": null,
            "min_height": null,
            "min_width": null,
            "object_fit": null,
            "object_position": null,
            "order": null,
            "overflow": null,
            "overflow_x": null,
            "overflow_y": null,
            "padding": null,
            "right": null,
            "top": null,
            "visibility": null,
            "width": null
          }
        },
        "0765a802fb8649489a24bc128d8b7479": {
          "model_module": "@jupyter-widgets/controls",
          "model_name": "DescriptionStyleModel",
          "model_module_version": "1.5.0",
          "state": {
            "_model_module": "@jupyter-widgets/controls",
            "_model_module_version": "1.5.0",
            "_model_name": "DescriptionStyleModel",
            "_view_count": null,
            "_view_module": "@jupyter-widgets/base",
            "_view_module_version": "1.2.0",
            "_view_name": "StyleView",
            "description_width": ""
          }
        },
        "fa6e591832f34b10b5099833ddf2e1c9": {
          "model_module": "@jupyter-widgets/controls",
          "model_name": "HBoxModel",
          "model_module_version": "1.5.0",
          "state": {
            "_dom_classes": [],
            "_model_module": "@jupyter-widgets/controls",
            "_model_module_version": "1.5.0",
            "_model_name": "HBoxModel",
            "_view_count": null,
            "_view_module": "@jupyter-widgets/controls",
            "_view_module_version": "1.5.0",
            "_view_name": "HBoxView",
            "box_style": "",
            "children": [
              "IPY_MODEL_812446e994714d9693cdbdc977848298",
              "IPY_MODEL_1678bf44646a4fe3b312c41f0968ab3b",
              "IPY_MODEL_c68babed74d74f0ca9b842dd81fcd441"
            ],
            "layout": "IPY_MODEL_113d1d76d4a64bdfb861bbf088a562bf"
          }
        },
        "812446e994714d9693cdbdc977848298": {
          "model_module": "@jupyter-widgets/controls",
          "model_name": "HTMLModel",
          "model_module_version": "1.5.0",
          "state": {
            "_dom_classes": [],
            "_model_module": "@jupyter-widgets/controls",
            "_model_module_version": "1.5.0",
            "_model_name": "HTMLModel",
            "_view_count": null,
            "_view_module": "@jupyter-widgets/controls",
            "_view_module_version": "1.5.0",
            "_view_name": "HTMLView",
            "description": "",
            "description_tooltip": null,
            "layout": "IPY_MODEL_62c3c0974c8e48db91ee1233cbe8005b",
            "placeholder": "​",
            "style": "IPY_MODEL_6a2973f0265c47d9bf0554c4792783ca",
            "value": "Testing DataLoader 3: 100%"
          }
        },
        "1678bf44646a4fe3b312c41f0968ab3b": {
          "model_module": "@jupyter-widgets/controls",
          "model_name": "FloatProgressModel",
          "model_module_version": "1.5.0",
          "state": {
            "_dom_classes": [],
            "_model_module": "@jupyter-widgets/controls",
            "_model_module_version": "1.5.0",
            "_model_name": "FloatProgressModel",
            "_view_count": null,
            "_view_module": "@jupyter-widgets/controls",
            "_view_module_version": "1.5.0",
            "_view_name": "ProgressView",
            "bar_style": "success",
            "description": "",
            "description_tooltip": null,
            "layout": "IPY_MODEL_5a75f15cebcd405989ef23e0925af3e7",
            "max": 7,
            "min": 0,
            "orientation": "horizontal",
            "style": "IPY_MODEL_fc57b7dc34d14357a0a69c99a74102f9",
            "value": 7
          }
        },
        "c68babed74d74f0ca9b842dd81fcd441": {
          "model_module": "@jupyter-widgets/controls",
          "model_name": "HTMLModel",
          "model_module_version": "1.5.0",
          "state": {
            "_dom_classes": [],
            "_model_module": "@jupyter-widgets/controls",
            "_model_module_version": "1.5.0",
            "_model_name": "HTMLModel",
            "_view_count": null,
            "_view_module": "@jupyter-widgets/controls",
            "_view_module_version": "1.5.0",
            "_view_name": "HTMLView",
            "description": "",
            "description_tooltip": null,
            "layout": "IPY_MODEL_88129c78403b482c8c3a9c697288aacb",
            "placeholder": "​",
            "style": "IPY_MODEL_25af39ba093f4beeb756fc81909a7c8e",
            "value": " 7/7 [00:00&lt;00:00, 12.69it/s]"
          }
        },
        "113d1d76d4a64bdfb861bbf088a562bf": {
          "model_module": "@jupyter-widgets/base",
          "model_name": "LayoutModel",
          "model_module_version": "1.2.0",
          "state": {
            "_model_module": "@jupyter-widgets/base",
            "_model_module_version": "1.2.0",
            "_model_name": "LayoutModel",
            "_view_count": null,
            "_view_module": "@jupyter-widgets/base",
            "_view_module_version": "1.2.0",
            "_view_name": "LayoutView",
            "align_content": null,
            "align_items": null,
            "align_self": null,
            "border": null,
            "bottom": null,
            "display": "inline-flex",
            "flex": null,
            "flex_flow": "row wrap",
            "grid_area": null,
            "grid_auto_columns": null,
            "grid_auto_flow": null,
            "grid_auto_rows": null,
            "grid_column": null,
            "grid_gap": null,
            "grid_row": null,
            "grid_template_areas": null,
            "grid_template_columns": null,
            "grid_template_rows": null,
            "height": null,
            "justify_content": null,
            "justify_items": null,
            "left": null,
            "margin": null,
            "max_height": null,
            "max_width": null,
            "min_height": null,
            "min_width": null,
            "object_fit": null,
            "object_position": null,
            "order": null,
            "overflow": null,
            "overflow_x": null,
            "overflow_y": null,
            "padding": null,
            "right": null,
            "top": null,
            "visibility": null,
            "width": "100%"
          }
        },
        "62c3c0974c8e48db91ee1233cbe8005b": {
          "model_module": "@jupyter-widgets/base",
          "model_name": "LayoutModel",
          "model_module_version": "1.2.0",
          "state": {
            "_model_module": "@jupyter-widgets/base",
            "_model_module_version": "1.2.0",
            "_model_name": "LayoutModel",
            "_view_count": null,
            "_view_module": "@jupyter-widgets/base",
            "_view_module_version": "1.2.0",
            "_view_name": "LayoutView",
            "align_content": null,
            "align_items": null,
            "align_self": null,
            "border": null,
            "bottom": null,
            "display": null,
            "flex": null,
            "flex_flow": null,
            "grid_area": null,
            "grid_auto_columns": null,
            "grid_auto_flow": null,
            "grid_auto_rows": null,
            "grid_column": null,
            "grid_gap": null,
            "grid_row": null,
            "grid_template_areas": null,
            "grid_template_columns": null,
            "grid_template_rows": null,
            "height": null,
            "justify_content": null,
            "justify_items": null,
            "left": null,
            "margin": null,
            "max_height": null,
            "max_width": null,
            "min_height": null,
            "min_width": null,
            "object_fit": null,
            "object_position": null,
            "order": null,
            "overflow": null,
            "overflow_x": null,
            "overflow_y": null,
            "padding": null,
            "right": null,
            "top": null,
            "visibility": null,
            "width": null
          }
        },
        "6a2973f0265c47d9bf0554c4792783ca": {
          "model_module": "@jupyter-widgets/controls",
          "model_name": "DescriptionStyleModel",
          "model_module_version": "1.5.0",
          "state": {
            "_model_module": "@jupyter-widgets/controls",
            "_model_module_version": "1.5.0",
            "_model_name": "DescriptionStyleModel",
            "_view_count": null,
            "_view_module": "@jupyter-widgets/base",
            "_view_module_version": "1.2.0",
            "_view_name": "StyleView",
            "description_width": ""
          }
        },
        "5a75f15cebcd405989ef23e0925af3e7": {
          "model_module": "@jupyter-widgets/base",
          "model_name": "LayoutModel",
          "model_module_version": "1.2.0",
          "state": {
            "_model_module": "@jupyter-widgets/base",
            "_model_module_version": "1.2.0",
            "_model_name": "LayoutModel",
            "_view_count": null,
            "_view_module": "@jupyter-widgets/base",
            "_view_module_version": "1.2.0",
            "_view_name": "LayoutView",
            "align_content": null,
            "align_items": null,
            "align_self": null,
            "border": null,
            "bottom": null,
            "display": null,
            "flex": "2",
            "flex_flow": null,
            "grid_area": null,
            "grid_auto_columns": null,
            "grid_auto_flow": null,
            "grid_auto_rows": null,
            "grid_column": null,
            "grid_gap": null,
            "grid_row": null,
            "grid_template_areas": null,
            "grid_template_columns": null,
            "grid_template_rows": null,
            "height": null,
            "justify_content": null,
            "justify_items": null,
            "left": null,
            "margin": null,
            "max_height": null,
            "max_width": null,
            "min_height": null,
            "min_width": null,
            "object_fit": null,
            "object_position": null,
            "order": null,
            "overflow": null,
            "overflow_x": null,
            "overflow_y": null,
            "padding": null,
            "right": null,
            "top": null,
            "visibility": null,
            "width": null
          }
        },
        "fc57b7dc34d14357a0a69c99a74102f9": {
          "model_module": "@jupyter-widgets/controls",
          "model_name": "ProgressStyleModel",
          "model_module_version": "1.5.0",
          "state": {
            "_model_module": "@jupyter-widgets/controls",
            "_model_module_version": "1.5.0",
            "_model_name": "ProgressStyleModel",
            "_view_count": null,
            "_view_module": "@jupyter-widgets/base",
            "_view_module_version": "1.2.0",
            "_view_name": "StyleView",
            "bar_color": null,
            "description_width": ""
          }
        },
        "88129c78403b482c8c3a9c697288aacb": {
          "model_module": "@jupyter-widgets/base",
          "model_name": "LayoutModel",
          "model_module_version": "1.2.0",
          "state": {
            "_model_module": "@jupyter-widgets/base",
            "_model_module_version": "1.2.0",
            "_model_name": "LayoutModel",
            "_view_count": null,
            "_view_module": "@jupyter-widgets/base",
            "_view_module_version": "1.2.0",
            "_view_name": "LayoutView",
            "align_content": null,
            "align_items": null,
            "align_self": null,
            "border": null,
            "bottom": null,
            "display": null,
            "flex": null,
            "flex_flow": null,
            "grid_area": null,
            "grid_auto_columns": null,
            "grid_auto_flow": null,
            "grid_auto_rows": null,
            "grid_column": null,
            "grid_gap": null,
            "grid_row": null,
            "grid_template_areas": null,
            "grid_template_columns": null,
            "grid_template_rows": null,
            "height": null,
            "justify_content": null,
            "justify_items": null,
            "left": null,
            "margin": null,
            "max_height": null,
            "max_width": null,
            "min_height": null,
            "min_width": null,
            "object_fit": null,
            "object_position": null,
            "order": null,
            "overflow": null,
            "overflow_x": null,
            "overflow_y": null,
            "padding": null,
            "right": null,
            "top": null,
            "visibility": null,
            "width": null
          }
        },
        "25af39ba093f4beeb756fc81909a7c8e": {
          "model_module": "@jupyter-widgets/controls",
          "model_name": "DescriptionStyleModel",
          "model_module_version": "1.5.0",
          "state": {
            "_model_module": "@jupyter-widgets/controls",
            "_model_module_version": "1.5.0",
            "_model_name": "DescriptionStyleModel",
            "_view_count": null,
            "_view_module": "@jupyter-widgets/base",
            "_view_module_version": "1.2.0",
            "_view_name": "StyleView",
            "description_width": ""
          }
        },
        "5b5ce0c2917042138151d4cc87625613": {
          "model_module": "@jupyter-widgets/controls",
          "model_name": "HBoxModel",
          "model_module_version": "1.5.0",
          "state": {
            "_dom_classes": [],
            "_model_module": "@jupyter-widgets/controls",
            "_model_module_version": "1.5.0",
            "_model_name": "HBoxModel",
            "_view_count": null,
            "_view_module": "@jupyter-widgets/controls",
            "_view_module_version": "1.5.0",
            "_view_name": "HBoxView",
            "box_style": "",
            "children": [
              "IPY_MODEL_c94167835ee54cec9669760a7231b76d",
              "IPY_MODEL_adaa55bf1ccb4ca6a26ca7f739843902",
              "IPY_MODEL_894b7f401442457c88db1daa028d1b57"
            ],
            "layout": "IPY_MODEL_bcc42d046498428d845b06ef1fbc5ddb"
          }
        },
        "c94167835ee54cec9669760a7231b76d": {
          "model_module": "@jupyter-widgets/controls",
          "model_name": "HTMLModel",
          "model_module_version": "1.5.0",
          "state": {
            "_dom_classes": [],
            "_model_module": "@jupyter-widgets/controls",
            "_model_module_version": "1.5.0",
            "_model_name": "HTMLModel",
            "_view_count": null,
            "_view_module": "@jupyter-widgets/controls",
            "_view_module_version": "1.5.0",
            "_view_name": "HTMLView",
            "description": "",
            "description_tooltip": null,
            "layout": "IPY_MODEL_977bf2ca2ed341048eb097229c18e06f",
            "placeholder": "​",
            "style": "IPY_MODEL_7f3e9b8615b649669e4d5707492c2164",
            "value": "Epoch 9: 100%"
          }
        },
        "adaa55bf1ccb4ca6a26ca7f739843902": {
          "model_module": "@jupyter-widgets/controls",
          "model_name": "FloatProgressModel",
          "model_module_version": "1.5.0",
          "state": {
            "_dom_classes": [],
            "_model_module": "@jupyter-widgets/controls",
            "_model_module_version": "1.5.0",
            "_model_name": "FloatProgressModel",
            "_view_count": null,
            "_view_module": "@jupyter-widgets/controls",
            "_view_module_version": "1.5.0",
            "_view_name": "ProgressView",
            "bar_style": "success",
            "description": "",
            "description_tooltip": null,
            "layout": "IPY_MODEL_e43600e21e3241e9a2a8176ab87db2c5",
            "max": 61,
            "min": 0,
            "orientation": "horizontal",
            "style": "IPY_MODEL_234c304775184d3991bd50ea23e9c769",
            "value": 61
          }
        },
        "894b7f401442457c88db1daa028d1b57": {
          "model_module": "@jupyter-widgets/controls",
          "model_name": "HTMLModel",
          "model_module_version": "1.5.0",
          "state": {
            "_dom_classes": [],
            "_model_module": "@jupyter-widgets/controls",
            "_model_module_version": "1.5.0",
            "_model_name": "HTMLModel",
            "_view_count": null,
            "_view_module": "@jupyter-widgets/controls",
            "_view_module_version": "1.5.0",
            "_view_name": "HTMLView",
            "description": "",
            "description_tooltip": null,
            "layout": "IPY_MODEL_ed1007e8c74844ffb1ad6cb0ca3208ec",
            "placeholder": "​",
            "style": "IPY_MODEL_1d514bf1ed8b493398fdc87478131020",
            "value": " 61/61 [00:07&lt;00:00,  8.65it/s, v_num=2]"
          }
        },
        "bcc42d046498428d845b06ef1fbc5ddb": {
          "model_module": "@jupyter-widgets/base",
          "model_name": "LayoutModel",
          "model_module_version": "1.2.0",
          "state": {
            "_model_module": "@jupyter-widgets/base",
            "_model_module_version": "1.2.0",
            "_model_name": "LayoutModel",
            "_view_count": null,
            "_view_module": "@jupyter-widgets/base",
            "_view_module_version": "1.2.0",
            "_view_name": "LayoutView",
            "align_content": null,
            "align_items": null,
            "align_self": null,
            "border": null,
            "bottom": null,
            "display": "inline-flex",
            "flex": null,
            "flex_flow": "row wrap",
            "grid_area": null,
            "grid_auto_columns": null,
            "grid_auto_flow": null,
            "grid_auto_rows": null,
            "grid_column": null,
            "grid_gap": null,
            "grid_row": null,
            "grid_template_areas": null,
            "grid_template_columns": null,
            "grid_template_rows": null,
            "height": null,
            "justify_content": null,
            "justify_items": null,
            "left": null,
            "margin": null,
            "max_height": null,
            "max_width": null,
            "min_height": null,
            "min_width": null,
            "object_fit": null,
            "object_position": null,
            "order": null,
            "overflow": null,
            "overflow_x": null,
            "overflow_y": null,
            "padding": null,
            "right": null,
            "top": null,
            "visibility": null,
            "width": "100%"
          }
        },
        "977bf2ca2ed341048eb097229c18e06f": {
          "model_module": "@jupyter-widgets/base",
          "model_name": "LayoutModel",
          "model_module_version": "1.2.0",
          "state": {
            "_model_module": "@jupyter-widgets/base",
            "_model_module_version": "1.2.0",
            "_model_name": "LayoutModel",
            "_view_count": null,
            "_view_module": "@jupyter-widgets/base",
            "_view_module_version": "1.2.0",
            "_view_name": "LayoutView",
            "align_content": null,
            "align_items": null,
            "align_self": null,
            "border": null,
            "bottom": null,
            "display": null,
            "flex": null,
            "flex_flow": null,
            "grid_area": null,
            "grid_auto_columns": null,
            "grid_auto_flow": null,
            "grid_auto_rows": null,
            "grid_column": null,
            "grid_gap": null,
            "grid_row": null,
            "grid_template_areas": null,
            "grid_template_columns": null,
            "grid_template_rows": null,
            "height": null,
            "justify_content": null,
            "justify_items": null,
            "left": null,
            "margin": null,
            "max_height": null,
            "max_width": null,
            "min_height": null,
            "min_width": null,
            "object_fit": null,
            "object_position": null,
            "order": null,
            "overflow": null,
            "overflow_x": null,
            "overflow_y": null,
            "padding": null,
            "right": null,
            "top": null,
            "visibility": null,
            "width": null
          }
        },
        "7f3e9b8615b649669e4d5707492c2164": {
          "model_module": "@jupyter-widgets/controls",
          "model_name": "DescriptionStyleModel",
          "model_module_version": "1.5.0",
          "state": {
            "_model_module": "@jupyter-widgets/controls",
            "_model_module_version": "1.5.0",
            "_model_name": "DescriptionStyleModel",
            "_view_count": null,
            "_view_module": "@jupyter-widgets/base",
            "_view_module_version": "1.2.0",
            "_view_name": "StyleView",
            "description_width": ""
          }
        },
        "e43600e21e3241e9a2a8176ab87db2c5": {
          "model_module": "@jupyter-widgets/base",
          "model_name": "LayoutModel",
          "model_module_version": "1.2.0",
          "state": {
            "_model_module": "@jupyter-widgets/base",
            "_model_module_version": "1.2.0",
            "_model_name": "LayoutModel",
            "_view_count": null,
            "_view_module": "@jupyter-widgets/base",
            "_view_module_version": "1.2.0",
            "_view_name": "LayoutView",
            "align_content": null,
            "align_items": null,
            "align_self": null,
            "border": null,
            "bottom": null,
            "display": null,
            "flex": "2",
            "flex_flow": null,
            "grid_area": null,
            "grid_auto_columns": null,
            "grid_auto_flow": null,
            "grid_auto_rows": null,
            "grid_column": null,
            "grid_gap": null,
            "grid_row": null,
            "grid_template_areas": null,
            "grid_template_columns": null,
            "grid_template_rows": null,
            "height": null,
            "justify_content": null,
            "justify_items": null,
            "left": null,
            "margin": null,
            "max_height": null,
            "max_width": null,
            "min_height": null,
            "min_width": null,
            "object_fit": null,
            "object_position": null,
            "order": null,
            "overflow": null,
            "overflow_x": null,
            "overflow_y": null,
            "padding": null,
            "right": null,
            "top": null,
            "visibility": null,
            "width": null
          }
        },
        "234c304775184d3991bd50ea23e9c769": {
          "model_module": "@jupyter-widgets/controls",
          "model_name": "ProgressStyleModel",
          "model_module_version": "1.5.0",
          "state": {
            "_model_module": "@jupyter-widgets/controls",
            "_model_module_version": "1.5.0",
            "_model_name": "ProgressStyleModel",
            "_view_count": null,
            "_view_module": "@jupyter-widgets/base",
            "_view_module_version": "1.2.0",
            "_view_name": "StyleView",
            "bar_color": null,
            "description_width": ""
          }
        },
        "ed1007e8c74844ffb1ad6cb0ca3208ec": {
          "model_module": "@jupyter-widgets/base",
          "model_name": "LayoutModel",
          "model_module_version": "1.2.0",
          "state": {
            "_model_module": "@jupyter-widgets/base",
            "_model_module_version": "1.2.0",
            "_model_name": "LayoutModel",
            "_view_count": null,
            "_view_module": "@jupyter-widgets/base",
            "_view_module_version": "1.2.0",
            "_view_name": "LayoutView",
            "align_content": null,
            "align_items": null,
            "align_self": null,
            "border": null,
            "bottom": null,
            "display": null,
            "flex": null,
            "flex_flow": null,
            "grid_area": null,
            "grid_auto_columns": null,
            "grid_auto_flow": null,
            "grid_auto_rows": null,
            "grid_column": null,
            "grid_gap": null,
            "grid_row": null,
            "grid_template_areas": null,
            "grid_template_columns": null,
            "grid_template_rows": null,
            "height": null,
            "justify_content": null,
            "justify_items": null,
            "left": null,
            "margin": null,
            "max_height": null,
            "max_width": null,
            "min_height": null,
            "min_width": null,
            "object_fit": null,
            "object_position": null,
            "order": null,
            "overflow": null,
            "overflow_x": null,
            "overflow_y": null,
            "padding": null,
            "right": null,
            "top": null,
            "visibility": null,
            "width": null
          }
        },
        "1d514bf1ed8b493398fdc87478131020": {
          "model_module": "@jupyter-widgets/controls",
          "model_name": "DescriptionStyleModel",
          "model_module_version": "1.5.0",
          "state": {
            "_model_module": "@jupyter-widgets/controls",
            "_model_module_version": "1.5.0",
            "_model_name": "DescriptionStyleModel",
            "_view_count": null,
            "_view_module": "@jupyter-widgets/base",
            "_view_module_version": "1.2.0",
            "_view_name": "StyleView",
            "description_width": ""
          }
        },
        "7271e418493043638ac590a19e013471": {
          "model_module": "@jupyter-widgets/controls",
          "model_name": "HBoxModel",
          "model_module_version": "1.5.0",
          "state": {
            "_dom_classes": [],
            "_model_module": "@jupyter-widgets/controls",
            "_model_module_version": "1.5.0",
            "_model_name": "HBoxModel",
            "_view_count": null,
            "_view_module": "@jupyter-widgets/controls",
            "_view_module_version": "1.5.0",
            "_view_name": "HBoxView",
            "box_style": "",
            "children": [
              "IPY_MODEL_586e057e21f740c0a018e8b7dd1d9430",
              "IPY_MODEL_7b0648b0e6914b7a9c36620e0ace1037",
              "IPY_MODEL_e9d05cd631724554abe4603723332cf0"
            ],
            "layout": "IPY_MODEL_77fb48dc048b4398b709101ad461471c"
          }
        },
        "586e057e21f740c0a018e8b7dd1d9430": {
          "model_module": "@jupyter-widgets/controls",
          "model_name": "HTMLModel",
          "model_module_version": "1.5.0",
          "state": {
            "_dom_classes": [],
            "_model_module": "@jupyter-widgets/controls",
            "_model_module_version": "1.5.0",
            "_model_name": "HTMLModel",
            "_view_count": null,
            "_view_module": "@jupyter-widgets/controls",
            "_view_module_version": "1.5.0",
            "_view_name": "HTMLView",
            "description": "",
            "description_tooltip": null,
            "layout": "IPY_MODEL_80ba118194284eb08c2aa24827bde958",
            "placeholder": "​",
            "style": "IPY_MODEL_7fe1ad43faa44debb01bdf5c5bc2a728",
            "value": "Testing DataLoader 3: 100%"
          }
        },
        "7b0648b0e6914b7a9c36620e0ace1037": {
          "model_module": "@jupyter-widgets/controls",
          "model_name": "FloatProgressModel",
          "model_module_version": "1.5.0",
          "state": {
            "_dom_classes": [],
            "_model_module": "@jupyter-widgets/controls",
            "_model_module_version": "1.5.0",
            "_model_name": "FloatProgressModel",
            "_view_count": null,
            "_view_module": "@jupyter-widgets/controls",
            "_view_module_version": "1.5.0",
            "_view_name": "ProgressView",
            "bar_style": "success",
            "description": "",
            "description_tooltip": null,
            "layout": "IPY_MODEL_fceb76d7aaec4614b2bd9e7dcfd8e280",
            "max": 8,
            "min": 0,
            "orientation": "horizontal",
            "style": "IPY_MODEL_6684f79a3a8b4c019afe016de9ecc990",
            "value": 8
          }
        },
        "e9d05cd631724554abe4603723332cf0": {
          "model_module": "@jupyter-widgets/controls",
          "model_name": "HTMLModel",
          "model_module_version": "1.5.0",
          "state": {
            "_dom_classes": [],
            "_model_module": "@jupyter-widgets/controls",
            "_model_module_version": "1.5.0",
            "_model_name": "HTMLModel",
            "_view_count": null,
            "_view_module": "@jupyter-widgets/controls",
            "_view_module_version": "1.5.0",
            "_view_name": "HTMLView",
            "description": "",
            "description_tooltip": null,
            "layout": "IPY_MODEL_278305404bc64394a1a9b2fb017f2818",
            "placeholder": "​",
            "style": "IPY_MODEL_d107e6c27250403c9b988bb118c44240",
            "value": " 8/8 [00:00&lt;00:00, 11.33it/s]"
          }
        },
        "77fb48dc048b4398b709101ad461471c": {
          "model_module": "@jupyter-widgets/base",
          "model_name": "LayoutModel",
          "model_module_version": "1.2.0",
          "state": {
            "_model_module": "@jupyter-widgets/base",
            "_model_module_version": "1.2.0",
            "_model_name": "LayoutModel",
            "_view_count": null,
            "_view_module": "@jupyter-widgets/base",
            "_view_module_version": "1.2.0",
            "_view_name": "LayoutView",
            "align_content": null,
            "align_items": null,
            "align_self": null,
            "border": null,
            "bottom": null,
            "display": "inline-flex",
            "flex": null,
            "flex_flow": "row wrap",
            "grid_area": null,
            "grid_auto_columns": null,
            "grid_auto_flow": null,
            "grid_auto_rows": null,
            "grid_column": null,
            "grid_gap": null,
            "grid_row": null,
            "grid_template_areas": null,
            "grid_template_columns": null,
            "grid_template_rows": null,
            "height": null,
            "justify_content": null,
            "justify_items": null,
            "left": null,
            "margin": null,
            "max_height": null,
            "max_width": null,
            "min_height": null,
            "min_width": null,
            "object_fit": null,
            "object_position": null,
            "order": null,
            "overflow": null,
            "overflow_x": null,
            "overflow_y": null,
            "padding": null,
            "right": null,
            "top": null,
            "visibility": null,
            "width": "100%"
          }
        },
        "80ba118194284eb08c2aa24827bde958": {
          "model_module": "@jupyter-widgets/base",
          "model_name": "LayoutModel",
          "model_module_version": "1.2.0",
          "state": {
            "_model_module": "@jupyter-widgets/base",
            "_model_module_version": "1.2.0",
            "_model_name": "LayoutModel",
            "_view_count": null,
            "_view_module": "@jupyter-widgets/base",
            "_view_module_version": "1.2.0",
            "_view_name": "LayoutView",
            "align_content": null,
            "align_items": null,
            "align_self": null,
            "border": null,
            "bottom": null,
            "display": null,
            "flex": null,
            "flex_flow": null,
            "grid_area": null,
            "grid_auto_columns": null,
            "grid_auto_flow": null,
            "grid_auto_rows": null,
            "grid_column": null,
            "grid_gap": null,
            "grid_row": null,
            "grid_template_areas": null,
            "grid_template_columns": null,
            "grid_template_rows": null,
            "height": null,
            "justify_content": null,
            "justify_items": null,
            "left": null,
            "margin": null,
            "max_height": null,
            "max_width": null,
            "min_height": null,
            "min_width": null,
            "object_fit": null,
            "object_position": null,
            "order": null,
            "overflow": null,
            "overflow_x": null,
            "overflow_y": null,
            "padding": null,
            "right": null,
            "top": null,
            "visibility": null,
            "width": null
          }
        },
        "7fe1ad43faa44debb01bdf5c5bc2a728": {
          "model_module": "@jupyter-widgets/controls",
          "model_name": "DescriptionStyleModel",
          "model_module_version": "1.5.0",
          "state": {
            "_model_module": "@jupyter-widgets/controls",
            "_model_module_version": "1.5.0",
            "_model_name": "DescriptionStyleModel",
            "_view_count": null,
            "_view_module": "@jupyter-widgets/base",
            "_view_module_version": "1.2.0",
            "_view_name": "StyleView",
            "description_width": ""
          }
        },
        "fceb76d7aaec4614b2bd9e7dcfd8e280": {
          "model_module": "@jupyter-widgets/base",
          "model_name": "LayoutModel",
          "model_module_version": "1.2.0",
          "state": {
            "_model_module": "@jupyter-widgets/base",
            "_model_module_version": "1.2.0",
            "_model_name": "LayoutModel",
            "_view_count": null,
            "_view_module": "@jupyter-widgets/base",
            "_view_module_version": "1.2.0",
            "_view_name": "LayoutView",
            "align_content": null,
            "align_items": null,
            "align_self": null,
            "border": null,
            "bottom": null,
            "display": null,
            "flex": "2",
            "flex_flow": null,
            "grid_area": null,
            "grid_auto_columns": null,
            "grid_auto_flow": null,
            "grid_auto_rows": null,
            "grid_column": null,
            "grid_gap": null,
            "grid_row": null,
            "grid_template_areas": null,
            "grid_template_columns": null,
            "grid_template_rows": null,
            "height": null,
            "justify_content": null,
            "justify_items": null,
            "left": null,
            "margin": null,
            "max_height": null,
            "max_width": null,
            "min_height": null,
            "min_width": null,
            "object_fit": null,
            "object_position": null,
            "order": null,
            "overflow": null,
            "overflow_x": null,
            "overflow_y": null,
            "padding": null,
            "right": null,
            "top": null,
            "visibility": null,
            "width": null
          }
        },
        "6684f79a3a8b4c019afe016de9ecc990": {
          "model_module": "@jupyter-widgets/controls",
          "model_name": "ProgressStyleModel",
          "model_module_version": "1.5.0",
          "state": {
            "_model_module": "@jupyter-widgets/controls",
            "_model_module_version": "1.5.0",
            "_model_name": "ProgressStyleModel",
            "_view_count": null,
            "_view_module": "@jupyter-widgets/base",
            "_view_module_version": "1.2.0",
            "_view_name": "StyleView",
            "bar_color": null,
            "description_width": ""
          }
        },
        "278305404bc64394a1a9b2fb017f2818": {
          "model_module": "@jupyter-widgets/base",
          "model_name": "LayoutModel",
          "model_module_version": "1.2.0",
          "state": {
            "_model_module": "@jupyter-widgets/base",
            "_model_module_version": "1.2.0",
            "_model_name": "LayoutModel",
            "_view_count": null,
            "_view_module": "@jupyter-widgets/base",
            "_view_module_version": "1.2.0",
            "_view_name": "LayoutView",
            "align_content": null,
            "align_items": null,
            "align_self": null,
            "border": null,
            "bottom": null,
            "display": null,
            "flex": null,
            "flex_flow": null,
            "grid_area": null,
            "grid_auto_columns": null,
            "grid_auto_flow": null,
            "grid_auto_rows": null,
            "grid_column": null,
            "grid_gap": null,
            "grid_row": null,
            "grid_template_areas": null,
            "grid_template_columns": null,
            "grid_template_rows": null,
            "height": null,
            "justify_content": null,
            "justify_items": null,
            "left": null,
            "margin": null,
            "max_height": null,
            "max_width": null,
            "min_height": null,
            "min_width": null,
            "object_fit": null,
            "object_position": null,
            "order": null,
            "overflow": null,
            "overflow_x": null,
            "overflow_y": null,
            "padding": null,
            "right": null,
            "top": null,
            "visibility": null,
            "width": null
          }
        },
        "d107e6c27250403c9b988bb118c44240": {
          "model_module": "@jupyter-widgets/controls",
          "model_name": "DescriptionStyleModel",
          "model_module_version": "1.5.0",
          "state": {
            "_model_module": "@jupyter-widgets/controls",
            "_model_module_version": "1.5.0",
            "_model_name": "DescriptionStyleModel",
            "_view_count": null,
            "_view_module": "@jupyter-widgets/base",
            "_view_module_version": "1.2.0",
            "_view_name": "StyleView",
            "description_width": ""
          }
        },
        "88a6f3794b55483fbf53f0126ee65de2": {
          "model_module": "@jupyter-widgets/controls",
          "model_name": "HBoxModel",
          "model_module_version": "1.5.0",
          "state": {
            "_dom_classes": [],
            "_model_module": "@jupyter-widgets/controls",
            "_model_module_version": "1.5.0",
            "_model_name": "HBoxModel",
            "_view_count": null,
            "_view_module": "@jupyter-widgets/controls",
            "_view_module_version": "1.5.0",
            "_view_name": "HBoxView",
            "box_style": "",
            "children": [
              "IPY_MODEL_5d8ed1eb07864635be5c02d112c428dc",
              "IPY_MODEL_5dd2634516804c7da66d9906d0368b10",
              "IPY_MODEL_9575b286fa444393a7a90aac09646f83"
            ],
            "layout": "IPY_MODEL_0199520f21ac4c899c5ff98a8e809fb1"
          }
        },
        "5d8ed1eb07864635be5c02d112c428dc": {
          "model_module": "@jupyter-widgets/controls",
          "model_name": "HTMLModel",
          "model_module_version": "1.5.0",
          "state": {
            "_dom_classes": [],
            "_model_module": "@jupyter-widgets/controls",
            "_model_module_version": "1.5.0",
            "_model_name": "HTMLModel",
            "_view_count": null,
            "_view_module": "@jupyter-widgets/controls",
            "_view_module_version": "1.5.0",
            "_view_name": "HTMLView",
            "description": "",
            "description_tooltip": null,
            "layout": "IPY_MODEL_2c08e3df8880438db64ef1216bc9d895",
            "placeholder": "​",
            "style": "IPY_MODEL_90fd789845f4429e80f0f0975b80e3f3",
            "value": "Epoch 9: 100%"
          }
        },
        "5dd2634516804c7da66d9906d0368b10": {
          "model_module": "@jupyter-widgets/controls",
          "model_name": "FloatProgressModel",
          "model_module_version": "1.5.0",
          "state": {
            "_dom_classes": [],
            "_model_module": "@jupyter-widgets/controls",
            "_model_module_version": "1.5.0",
            "_model_name": "FloatProgressModel",
            "_view_count": null,
            "_view_module": "@jupyter-widgets/controls",
            "_view_module_version": "1.5.0",
            "_view_name": "ProgressView",
            "bar_style": "success",
            "description": "",
            "description_tooltip": null,
            "layout": "IPY_MODEL_e6c9aeb638124979aaef497e148e1473",
            "max": 48,
            "min": 0,
            "orientation": "horizontal",
            "style": "IPY_MODEL_082cb811c17d4deb88ae92469ae5951c",
            "value": 48
          }
        },
        "9575b286fa444393a7a90aac09646f83": {
          "model_module": "@jupyter-widgets/controls",
          "model_name": "HTMLModel",
          "model_module_version": "1.5.0",
          "state": {
            "_dom_classes": [],
            "_model_module": "@jupyter-widgets/controls",
            "_model_module_version": "1.5.0",
            "_model_name": "HTMLModel",
            "_view_count": null,
            "_view_module": "@jupyter-widgets/controls",
            "_view_module_version": "1.5.0",
            "_view_name": "HTMLView",
            "description": "",
            "description_tooltip": null,
            "layout": "IPY_MODEL_0c04a1ce02444494b9006ad8744f4558",
            "placeholder": "​",
            "style": "IPY_MODEL_b80f2244ab1546aaa9c4d0fcdcab4b98",
            "value": " 48/48 [00:05&lt;00:00,  8.36it/s, v_num=3]"
          }
        },
        "0199520f21ac4c899c5ff98a8e809fb1": {
          "model_module": "@jupyter-widgets/base",
          "model_name": "LayoutModel",
          "model_module_version": "1.2.0",
          "state": {
            "_model_module": "@jupyter-widgets/base",
            "_model_module_version": "1.2.0",
            "_model_name": "LayoutModel",
            "_view_count": null,
            "_view_module": "@jupyter-widgets/base",
            "_view_module_version": "1.2.0",
            "_view_name": "LayoutView",
            "align_content": null,
            "align_items": null,
            "align_self": null,
            "border": null,
            "bottom": null,
            "display": "inline-flex",
            "flex": null,
            "flex_flow": "row wrap",
            "grid_area": null,
            "grid_auto_columns": null,
            "grid_auto_flow": null,
            "grid_auto_rows": null,
            "grid_column": null,
            "grid_gap": null,
            "grid_row": null,
            "grid_template_areas": null,
            "grid_template_columns": null,
            "grid_template_rows": null,
            "height": null,
            "justify_content": null,
            "justify_items": null,
            "left": null,
            "margin": null,
            "max_height": null,
            "max_width": null,
            "min_height": null,
            "min_width": null,
            "object_fit": null,
            "object_position": null,
            "order": null,
            "overflow": null,
            "overflow_x": null,
            "overflow_y": null,
            "padding": null,
            "right": null,
            "top": null,
            "visibility": null,
            "width": "100%"
          }
        },
        "2c08e3df8880438db64ef1216bc9d895": {
          "model_module": "@jupyter-widgets/base",
          "model_name": "LayoutModel",
          "model_module_version": "1.2.0",
          "state": {
            "_model_module": "@jupyter-widgets/base",
            "_model_module_version": "1.2.0",
            "_model_name": "LayoutModel",
            "_view_count": null,
            "_view_module": "@jupyter-widgets/base",
            "_view_module_version": "1.2.0",
            "_view_name": "LayoutView",
            "align_content": null,
            "align_items": null,
            "align_self": null,
            "border": null,
            "bottom": null,
            "display": null,
            "flex": null,
            "flex_flow": null,
            "grid_area": null,
            "grid_auto_columns": null,
            "grid_auto_flow": null,
            "grid_auto_rows": null,
            "grid_column": null,
            "grid_gap": null,
            "grid_row": null,
            "grid_template_areas": null,
            "grid_template_columns": null,
            "grid_template_rows": null,
            "height": null,
            "justify_content": null,
            "justify_items": null,
            "left": null,
            "margin": null,
            "max_height": null,
            "max_width": null,
            "min_height": null,
            "min_width": null,
            "object_fit": null,
            "object_position": null,
            "order": null,
            "overflow": null,
            "overflow_x": null,
            "overflow_y": null,
            "padding": null,
            "right": null,
            "top": null,
            "visibility": null,
            "width": null
          }
        },
        "90fd789845f4429e80f0f0975b80e3f3": {
          "model_module": "@jupyter-widgets/controls",
          "model_name": "DescriptionStyleModel",
          "model_module_version": "1.5.0",
          "state": {
            "_model_module": "@jupyter-widgets/controls",
            "_model_module_version": "1.5.0",
            "_model_name": "DescriptionStyleModel",
            "_view_count": null,
            "_view_module": "@jupyter-widgets/base",
            "_view_module_version": "1.2.0",
            "_view_name": "StyleView",
            "description_width": ""
          }
        },
        "e6c9aeb638124979aaef497e148e1473": {
          "model_module": "@jupyter-widgets/base",
          "model_name": "LayoutModel",
          "model_module_version": "1.2.0",
          "state": {
            "_model_module": "@jupyter-widgets/base",
            "_model_module_version": "1.2.0",
            "_model_name": "LayoutModel",
            "_view_count": null,
            "_view_module": "@jupyter-widgets/base",
            "_view_module_version": "1.2.0",
            "_view_name": "LayoutView",
            "align_content": null,
            "align_items": null,
            "align_self": null,
            "border": null,
            "bottom": null,
            "display": null,
            "flex": "2",
            "flex_flow": null,
            "grid_area": null,
            "grid_auto_columns": null,
            "grid_auto_flow": null,
            "grid_auto_rows": null,
            "grid_column": null,
            "grid_gap": null,
            "grid_row": null,
            "grid_template_areas": null,
            "grid_template_columns": null,
            "grid_template_rows": null,
            "height": null,
            "justify_content": null,
            "justify_items": null,
            "left": null,
            "margin": null,
            "max_height": null,
            "max_width": null,
            "min_height": null,
            "min_width": null,
            "object_fit": null,
            "object_position": null,
            "order": null,
            "overflow": null,
            "overflow_x": null,
            "overflow_y": null,
            "padding": null,
            "right": null,
            "top": null,
            "visibility": null,
            "width": null
          }
        },
        "082cb811c17d4deb88ae92469ae5951c": {
          "model_module": "@jupyter-widgets/controls",
          "model_name": "ProgressStyleModel",
          "model_module_version": "1.5.0",
          "state": {
            "_model_module": "@jupyter-widgets/controls",
            "_model_module_version": "1.5.0",
            "_model_name": "ProgressStyleModel",
            "_view_count": null,
            "_view_module": "@jupyter-widgets/base",
            "_view_module_version": "1.2.0",
            "_view_name": "StyleView",
            "bar_color": null,
            "description_width": ""
          }
        },
        "0c04a1ce02444494b9006ad8744f4558": {
          "model_module": "@jupyter-widgets/base",
          "model_name": "LayoutModel",
          "model_module_version": "1.2.0",
          "state": {
            "_model_module": "@jupyter-widgets/base",
            "_model_module_version": "1.2.0",
            "_model_name": "LayoutModel",
            "_view_count": null,
            "_view_module": "@jupyter-widgets/base",
            "_view_module_version": "1.2.0",
            "_view_name": "LayoutView",
            "align_content": null,
            "align_items": null,
            "align_self": null,
            "border": null,
            "bottom": null,
            "display": null,
            "flex": null,
            "flex_flow": null,
            "grid_area": null,
            "grid_auto_columns": null,
            "grid_auto_flow": null,
            "grid_auto_rows": null,
            "grid_column": null,
            "grid_gap": null,
            "grid_row": null,
            "grid_template_areas": null,
            "grid_template_columns": null,
            "grid_template_rows": null,
            "height": null,
            "justify_content": null,
            "justify_items": null,
            "left": null,
            "margin": null,
            "max_height": null,
            "max_width": null,
            "min_height": null,
            "min_width": null,
            "object_fit": null,
            "object_position": null,
            "order": null,
            "overflow": null,
            "overflow_x": null,
            "overflow_y": null,
            "padding": null,
            "right": null,
            "top": null,
            "visibility": null,
            "width": null
          }
        },
        "b80f2244ab1546aaa9c4d0fcdcab4b98": {
          "model_module": "@jupyter-widgets/controls",
          "model_name": "DescriptionStyleModel",
          "model_module_version": "1.5.0",
          "state": {
            "_model_module": "@jupyter-widgets/controls",
            "_model_module_version": "1.5.0",
            "_model_name": "DescriptionStyleModel",
            "_view_count": null,
            "_view_module": "@jupyter-widgets/base",
            "_view_module_version": "1.2.0",
            "_view_name": "StyleView",
            "description_width": ""
          }
        },
        "9b4c981b032d41d0a4edc2cd9b7b15d5": {
          "model_module": "@jupyter-widgets/controls",
          "model_name": "HBoxModel",
          "model_module_version": "1.5.0",
          "state": {
            "_dom_classes": [],
            "_model_module": "@jupyter-widgets/controls",
            "_model_module_version": "1.5.0",
            "_model_name": "HBoxModel",
            "_view_count": null,
            "_view_module": "@jupyter-widgets/controls",
            "_view_module_version": "1.5.0",
            "_view_name": "HBoxView",
            "box_style": "",
            "children": [
              "IPY_MODEL_5ba9a51c17484942ad0e816960c388a7",
              "IPY_MODEL_a748d5db56df45aa9eeef20b52a771d9",
              "IPY_MODEL_ef4ffd0b72ee416591bc98a190c9a490"
            ],
            "layout": "IPY_MODEL_d024a82435254798bc4f9e418b015efd"
          }
        },
        "5ba9a51c17484942ad0e816960c388a7": {
          "model_module": "@jupyter-widgets/controls",
          "model_name": "HTMLModel",
          "model_module_version": "1.5.0",
          "state": {
            "_dom_classes": [],
            "_model_module": "@jupyter-widgets/controls",
            "_model_module_version": "1.5.0",
            "_model_name": "HTMLModel",
            "_view_count": null,
            "_view_module": "@jupyter-widgets/controls",
            "_view_module_version": "1.5.0",
            "_view_name": "HTMLView",
            "description": "",
            "description_tooltip": null,
            "layout": "IPY_MODEL_3f6b512145ab4a81b500a77df829fca4",
            "placeholder": "​",
            "style": "IPY_MODEL_fa0d407e34d545ae9e4119638a49f8b3",
            "value": "Testing DataLoader 3: 100%"
          }
        },
        "a748d5db56df45aa9eeef20b52a771d9": {
          "model_module": "@jupyter-widgets/controls",
          "model_name": "FloatProgressModel",
          "model_module_version": "1.5.0",
          "state": {
            "_dom_classes": [],
            "_model_module": "@jupyter-widgets/controls",
            "_model_module_version": "1.5.0",
            "_model_name": "FloatProgressModel",
            "_view_count": null,
            "_view_module": "@jupyter-widgets/controls",
            "_view_module_version": "1.5.0",
            "_view_name": "ProgressView",
            "bar_style": "success",
            "description": "",
            "description_tooltip": null,
            "layout": "IPY_MODEL_2f10915d0a4041d6b2e9e8c944785f95",
            "max": 7,
            "min": 0,
            "orientation": "horizontal",
            "style": "IPY_MODEL_b6a54874ffdf4c7ebfa403431cdf65cf",
            "value": 7
          }
        },
        "ef4ffd0b72ee416591bc98a190c9a490": {
          "model_module": "@jupyter-widgets/controls",
          "model_name": "HTMLModel",
          "model_module_version": "1.5.0",
          "state": {
            "_dom_classes": [],
            "_model_module": "@jupyter-widgets/controls",
            "_model_module_version": "1.5.0",
            "_model_name": "HTMLModel",
            "_view_count": null,
            "_view_module": "@jupyter-widgets/controls",
            "_view_module_version": "1.5.0",
            "_view_name": "HTMLView",
            "description": "",
            "description_tooltip": null,
            "layout": "IPY_MODEL_3afa89c4af9d446fb2e1574af3a67bf5",
            "placeholder": "​",
            "style": "IPY_MODEL_0879c577f2044637b6fb9a88699c4a0e",
            "value": " 7/7 [00:00&lt;00:00, 12.44it/s]"
          }
        },
        "d024a82435254798bc4f9e418b015efd": {
          "model_module": "@jupyter-widgets/base",
          "model_name": "LayoutModel",
          "model_module_version": "1.2.0",
          "state": {
            "_model_module": "@jupyter-widgets/base",
            "_model_module_version": "1.2.0",
            "_model_name": "LayoutModel",
            "_view_count": null,
            "_view_module": "@jupyter-widgets/base",
            "_view_module_version": "1.2.0",
            "_view_name": "LayoutView",
            "align_content": null,
            "align_items": null,
            "align_self": null,
            "border": null,
            "bottom": null,
            "display": "inline-flex",
            "flex": null,
            "flex_flow": "row wrap",
            "grid_area": null,
            "grid_auto_columns": null,
            "grid_auto_flow": null,
            "grid_auto_rows": null,
            "grid_column": null,
            "grid_gap": null,
            "grid_row": null,
            "grid_template_areas": null,
            "grid_template_columns": null,
            "grid_template_rows": null,
            "height": null,
            "justify_content": null,
            "justify_items": null,
            "left": null,
            "margin": null,
            "max_height": null,
            "max_width": null,
            "min_height": null,
            "min_width": null,
            "object_fit": null,
            "object_position": null,
            "order": null,
            "overflow": null,
            "overflow_x": null,
            "overflow_y": null,
            "padding": null,
            "right": null,
            "top": null,
            "visibility": null,
            "width": "100%"
          }
        },
        "3f6b512145ab4a81b500a77df829fca4": {
          "model_module": "@jupyter-widgets/base",
          "model_name": "LayoutModel",
          "model_module_version": "1.2.0",
          "state": {
            "_model_module": "@jupyter-widgets/base",
            "_model_module_version": "1.2.0",
            "_model_name": "LayoutModel",
            "_view_count": null,
            "_view_module": "@jupyter-widgets/base",
            "_view_module_version": "1.2.0",
            "_view_name": "LayoutView",
            "align_content": null,
            "align_items": null,
            "align_self": null,
            "border": null,
            "bottom": null,
            "display": null,
            "flex": null,
            "flex_flow": null,
            "grid_area": null,
            "grid_auto_columns": null,
            "grid_auto_flow": null,
            "grid_auto_rows": null,
            "grid_column": null,
            "grid_gap": null,
            "grid_row": null,
            "grid_template_areas": null,
            "grid_template_columns": null,
            "grid_template_rows": null,
            "height": null,
            "justify_content": null,
            "justify_items": null,
            "left": null,
            "margin": null,
            "max_height": null,
            "max_width": null,
            "min_height": null,
            "min_width": null,
            "object_fit": null,
            "object_position": null,
            "order": null,
            "overflow": null,
            "overflow_x": null,
            "overflow_y": null,
            "padding": null,
            "right": null,
            "top": null,
            "visibility": null,
            "width": null
          }
        },
        "fa0d407e34d545ae9e4119638a49f8b3": {
          "model_module": "@jupyter-widgets/controls",
          "model_name": "DescriptionStyleModel",
          "model_module_version": "1.5.0",
          "state": {
            "_model_module": "@jupyter-widgets/controls",
            "_model_module_version": "1.5.0",
            "_model_name": "DescriptionStyleModel",
            "_view_count": null,
            "_view_module": "@jupyter-widgets/base",
            "_view_module_version": "1.2.0",
            "_view_name": "StyleView",
            "description_width": ""
          }
        },
        "2f10915d0a4041d6b2e9e8c944785f95": {
          "model_module": "@jupyter-widgets/base",
          "model_name": "LayoutModel",
          "model_module_version": "1.2.0",
          "state": {
            "_model_module": "@jupyter-widgets/base",
            "_model_module_version": "1.2.0",
            "_model_name": "LayoutModel",
            "_view_count": null,
            "_view_module": "@jupyter-widgets/base",
            "_view_module_version": "1.2.0",
            "_view_name": "LayoutView",
            "align_content": null,
            "align_items": null,
            "align_self": null,
            "border": null,
            "bottom": null,
            "display": null,
            "flex": "2",
            "flex_flow": null,
            "grid_area": null,
            "grid_auto_columns": null,
            "grid_auto_flow": null,
            "grid_auto_rows": null,
            "grid_column": null,
            "grid_gap": null,
            "grid_row": null,
            "grid_template_areas": null,
            "grid_template_columns": null,
            "grid_template_rows": null,
            "height": null,
            "justify_content": null,
            "justify_items": null,
            "left": null,
            "margin": null,
            "max_height": null,
            "max_width": null,
            "min_height": null,
            "min_width": null,
            "object_fit": null,
            "object_position": null,
            "order": null,
            "overflow": null,
            "overflow_x": null,
            "overflow_y": null,
            "padding": null,
            "right": null,
            "top": null,
            "visibility": null,
            "width": null
          }
        },
        "b6a54874ffdf4c7ebfa403431cdf65cf": {
          "model_module": "@jupyter-widgets/controls",
          "model_name": "ProgressStyleModel",
          "model_module_version": "1.5.0",
          "state": {
            "_model_module": "@jupyter-widgets/controls",
            "_model_module_version": "1.5.0",
            "_model_name": "ProgressStyleModel",
            "_view_count": null,
            "_view_module": "@jupyter-widgets/base",
            "_view_module_version": "1.2.0",
            "_view_name": "StyleView",
            "bar_color": null,
            "description_width": ""
          }
        },
        "3afa89c4af9d446fb2e1574af3a67bf5": {
          "model_module": "@jupyter-widgets/base",
          "model_name": "LayoutModel",
          "model_module_version": "1.2.0",
          "state": {
            "_model_module": "@jupyter-widgets/base",
            "_model_module_version": "1.2.0",
            "_model_name": "LayoutModel",
            "_view_count": null,
            "_view_module": "@jupyter-widgets/base",
            "_view_module_version": "1.2.0",
            "_view_name": "LayoutView",
            "align_content": null,
            "align_items": null,
            "align_self": null,
            "border": null,
            "bottom": null,
            "display": null,
            "flex": null,
            "flex_flow": null,
            "grid_area": null,
            "grid_auto_columns": null,
            "grid_auto_flow": null,
            "grid_auto_rows": null,
            "grid_column": null,
            "grid_gap": null,
            "grid_row": null,
            "grid_template_areas": null,
            "grid_template_columns": null,
            "grid_template_rows": null,
            "height": null,
            "justify_content": null,
            "justify_items": null,
            "left": null,
            "margin": null,
            "max_height": null,
            "max_width": null,
            "min_height": null,
            "min_width": null,
            "object_fit": null,
            "object_position": null,
            "order": null,
            "overflow": null,
            "overflow_x": null,
            "overflow_y": null,
            "padding": null,
            "right": null,
            "top": null,
            "visibility": null,
            "width": null
          }
        },
        "0879c577f2044637b6fb9a88699c4a0e": {
          "model_module": "@jupyter-widgets/controls",
          "model_name": "DescriptionStyleModel",
          "model_module_version": "1.5.0",
          "state": {
            "_model_module": "@jupyter-widgets/controls",
            "_model_module_version": "1.5.0",
            "_model_name": "DescriptionStyleModel",
            "_view_count": null,
            "_view_module": "@jupyter-widgets/base",
            "_view_module_version": "1.2.0",
            "_view_name": "StyleView",
            "description_width": ""
          }
        }
      }
    }
  },
  "nbformat": 4,
  "nbformat_minor": 0
}